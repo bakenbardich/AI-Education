{
 "cells": [
  {
   "cell_type": "markdown",
   "metadata": {
    "id": "IUyZ4ZX3jyx6"
   },
   "source": [
    "# Машинное обучение: начало"
   ]
  },
  {
   "cell_type": "markdown",
   "metadata": {
    "id": "BlQcqgt11zHM"
   },
   "source": [
    "Мы будем работать с датасетом про алмазы - в нем содержатся их различные характеристики, а также стоимость."
   ]
  },
  {
   "cell_type": "markdown",
   "metadata": {
    "id": "wAsq5FMdj55A"
   },
   "source": [
    "**Цели на сегодня:**\n",
    "\n",
    "* разобраться в алгоритмах KNN и NaiveBayes\n",
    "\n",
    "* построить Explainer Dashboard"
   ]
  },
  {
   "cell_type": "markdown",
   "metadata": {
    "id": "IMP3VmOP12iI"
   },
   "source": [
    "## Импорт библиотек и загрузка данных"
   ]
  },
  {
   "cell_type": "code",
   "execution_count": 7,
   "metadata": {
    "id": "cB6bCbeORLBF",
    "ExecuteTime": {
     "end_time": "2024-03-30T17:29:43.338626Z",
     "start_time": "2024-03-30T17:29:43.331931Z"
    }
   },
   "outputs": [],
   "source": [
    "import pandas as pd\n",
    "import matplotlib.pyplot as plt\n",
    "import seaborn as sns\n",
    "import numpy as np"
   ]
  },
  {
   "cell_type": "code",
   "outputs": [],
   "source": [
    "!pip install -U scikit-learn"
   ],
   "metadata": {
    "collapsed": false
   },
   "execution_count": null
  },
  {
   "cell_type": "code",
   "execution_count": 2,
   "metadata": {
    "id": "BM69ewKF2G2p",
    "ExecuteTime": {
     "end_time": "2024-03-30T17:29:06.088946Z",
     "start_time": "2024-03-30T17:29:06.083401Z"
    }
   },
   "outputs": [],
   "source": [
    "DIAMONDS_DATASET = \"https://raw.githubusercontent.com/aiedu-courses/stepik_eda_and_dev_tools/main/datasets/diamonds_clean.csv\""
   ]
  },
  {
   "cell_type": "code",
   "execution_count": 3,
   "metadata": {
    "id": "s56FX_wZRRd7",
    "ExecuteTime": {
     "end_time": "2024-03-30T17:29:08.500629Z",
     "start_time": "2024-03-30T17:29:07.129355Z"
    }
   },
   "outputs": [],
   "source": [
    "df = pd.read_csv(DIAMONDS_DATASET)"
   ]
  },
  {
   "cell_type": "markdown",
   "metadata": {
    "id": "MnGf3vGqkcAT"
   },
   "source": [
    "## Описание данных"
   ]
  },
  {
   "cell_type": "markdown",
   "metadata": {
    "id": "ARMb2AEW2N89"
   },
   "source": [
    "* `carat` - число каратов алмаза\n",
    "* `cut` - огранка алмаза\n",
    "* `color` - цвет алмаза\n",
    "* `clarity` - прозрачность алмаза\n",
    "* `depth` - глубина алмаза\n",
    "* `table` - платформа алмаза (грань, которую можно увидеть, если смотреть на камень лицевой стороной вверх)\n",
    "* `price` - цена алмаза\n",
    "* `x` - размер алмаза по оси x\n",
    "* `y` - размер алмаза по оси y\n",
    "* `z` - размер алмаза по оси z"
   ]
  },
  {
   "cell_type": "code",
   "execution_count": 4,
   "metadata": {
    "id": "UF06et3OkY0d",
    "outputId": "9263b232-e834-4893-ffc5-6e8b4bddf0ac",
    "ExecuteTime": {
     "end_time": "2024-03-30T14:04:25.331279Z",
     "start_time": "2024-03-30T14:04:25.298580Z"
    }
   },
   "outputs": [
    {
     "data": {
      "text/plain": "   carat      cut color clarity  depth  table  price   'x'   'y'   'z'\n0   0.23    Ideal     E     SI2   61.5   55.0  326.0  3.95  3.98  2.43\n1   0.21  Premium     E     SI1   59.8   61.0  326.0  3.89  3.84  2.31\n2   0.23     Good     E     VS1   56.9   65.0  327.0  4.05  4.07  2.31\n3   0.29  Premium     I     VS2   62.4   58.0  334.0  4.20  4.23  2.63\n4   0.31     Good     J     SI2   63.3   58.0  335.0  4.34  4.35  2.75",
      "text/html": "<div>\n<style scoped>\n    .dataframe tbody tr th:only-of-type {\n        vertical-align: middle;\n    }\n\n    .dataframe tbody tr th {\n        vertical-align: top;\n    }\n\n    .dataframe thead th {\n        text-align: right;\n    }\n</style>\n<table border=\"1\" class=\"dataframe\">\n  <thead>\n    <tr style=\"text-align: right;\">\n      <th></th>\n      <th>carat</th>\n      <th>cut</th>\n      <th>color</th>\n      <th>clarity</th>\n      <th>depth</th>\n      <th>table</th>\n      <th>price</th>\n      <th>'x'</th>\n      <th>'y'</th>\n      <th>'z'</th>\n    </tr>\n  </thead>\n  <tbody>\n    <tr>\n      <th>0</th>\n      <td>0.23</td>\n      <td>Ideal</td>\n      <td>E</td>\n      <td>SI2</td>\n      <td>61.5</td>\n      <td>55.0</td>\n      <td>326.0</td>\n      <td>3.95</td>\n      <td>3.98</td>\n      <td>2.43</td>\n    </tr>\n    <tr>\n      <th>1</th>\n      <td>0.21</td>\n      <td>Premium</td>\n      <td>E</td>\n      <td>SI1</td>\n      <td>59.8</td>\n      <td>61.0</td>\n      <td>326.0</td>\n      <td>3.89</td>\n      <td>3.84</td>\n      <td>2.31</td>\n    </tr>\n    <tr>\n      <th>2</th>\n      <td>0.23</td>\n      <td>Good</td>\n      <td>E</td>\n      <td>VS1</td>\n      <td>56.9</td>\n      <td>65.0</td>\n      <td>327.0</td>\n      <td>4.05</td>\n      <td>4.07</td>\n      <td>2.31</td>\n    </tr>\n    <tr>\n      <th>3</th>\n      <td>0.29</td>\n      <td>Premium</td>\n      <td>I</td>\n      <td>VS2</td>\n      <td>62.4</td>\n      <td>58.0</td>\n      <td>334.0</td>\n      <td>4.20</td>\n      <td>4.23</td>\n      <td>2.63</td>\n    </tr>\n    <tr>\n      <th>4</th>\n      <td>0.31</td>\n      <td>Good</td>\n      <td>J</td>\n      <td>SI2</td>\n      <td>63.3</td>\n      <td>58.0</td>\n      <td>335.0</td>\n      <td>4.34</td>\n      <td>4.35</td>\n      <td>2.75</td>\n    </tr>\n  </tbody>\n</table>\n</div>"
     },
     "execution_count": 4,
     "metadata": {},
     "output_type": "execute_result"
    }
   ],
   "source": [
    "df.head()"
   ]
  },
  {
   "cell_type": "markdown",
   "metadata": {
    "id": "uOy4qcrpTPG4"
   },
   "source": [
    "# Введение в машинное обучение (основные понятия)\n",
    "\n",
    "Основные понятия."
   ]
  },
  {
   "cell_type": "markdown",
   "metadata": {
    "id": "NS93TFBzfGzj"
   },
   "source": [
    "В нашем примере мы можем попробовать предсказать стоимость алмаза по его характеристикам.\n",
    "\n",
    "* алмазы - *объекты*\n",
    "* характеристики - *признаки*\n",
    "* стоимость - *целевая переменная*"
   ]
  },
  {
   "cell_type": "markdown",
   "metadata": {
    "id": "xHWT4aK8fwcA"
   },
   "source": [
    "Модели машинного обучения - это некоторые математические правила (обычно функции), по которым модель делает прогноз.\n",
    "\n",
    "**Пример (линейная регрессия):**\n",
    "\n",
    "$price = a + b\\cdot carat + c\\cdot depth,$\n",
    "\n",
    "здесь $a,b,c$ - параметры модели (заранее мы их не знаем).\n",
    "\n",
    "*Параметры подбираются по обучающим данным так, чтобы модель ошибалась меньше всего.*"
   ]
  },
  {
   "cell_type": "markdown",
   "metadata": {
    "id": "xTkK8GvSgp5p"
   },
   "source": [
    "Пример плохо подобранных параметров $a, b$ модели\n",
    "$$y = a + b\\cdot x.$$\n",
    "\n",
    "На рисунке\n",
    "$$y = -30 + 7x.$$"
   ]
  },
  {
   "cell_type": "markdown",
   "metadata": {
    "id": "O6OvjsjxgnLB"
   },
   "source": [
    "![LR_bad.png](data:image/png;base64,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)"
   ]
  },
  {
   "cell_type": "markdown",
   "metadata": {
    "id": "a03pB-nKg6M4"
   },
   "source": [
    "Пример хорошо подобранных параметров:\n",
    "$$y = 0.5 + x.$$"
   ]
  },
  {
   "cell_type": "markdown",
   "metadata": {
    "id": "SOHQvhZ0g9QT"
   },
   "source": [
    "![LR_good.png](data:image/png;base64,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)"
   ]
  },
  {
   "cell_type": "markdown",
   "metadata": {
    "id": "YPCDl8CXhMDZ"
   },
   "source": [
    "Функции для построения прогнозов бывают разные:\n",
    "\n",
    "* линейные модели\n",
    "* решающие правила (если $a$, то $b$)\n",
    "* нейронные сети\n",
    "* другие модели\n",
    "\n",
    "Каждая модель хорошо работает в своих предположениях о данных, поэтому изучить распределение целевой переменной всегда очень полезно."
   ]
  },
  {
   "cell_type": "markdown",
   "metadata": {
    "id": "S26Mh9ADmm8g"
   },
   "source": [
    "Обучим линейную регрессию предсказывать цену по числу карат."
   ]
  },
  {
   "cell_type": "code",
   "execution_count": 4,
   "metadata": {
    "id": "E0q8yMvElh8P",
    "ExecuteTime": {
     "end_time": "2024-03-30T17:29:18.450850Z",
     "start_time": "2024-03-30T17:29:18.442697Z"
    }
   },
   "outputs": [],
   "source": [
    "X = df[['carat','depth','table',\"'x'\",\"'y'\",\"'z'\"]]\n",
    "y = df['price']"
   ]
  },
  {
   "cell_type": "code",
   "execution_count": 5,
   "metadata": {
    "id": "883Ap--amsLc",
    "ExecuteTime": {
     "end_time": "2024-03-30T17:29:20.129457Z",
     "start_time": "2024-03-30T17:29:19.646729Z"
    }
   },
   "outputs": [],
   "source": [
    "from sklearn.linear_model import LinearRegression\n",
    "\n",
    "lr = LinearRegression()\n",
    "lr.fit(X, y)\n",
    "\n",
    "pred = lr.predict(X)"
   ]
  },
  {
   "cell_type": "markdown",
   "metadata": {
    "id": "MHZKuWKcnMLp"
   },
   "source": [
    "Вычислим ошибку модели\n",
    "\n",
    "$$MAE = \\frac1l\\sum_{i=1}^l |a(x_i)-y_i|$$"
   ]
  },
  {
   "cell_type": "code",
   "execution_count": 8,
   "metadata": {
    "colab": {
     "base_uri": "https://localhost:8080/"
    },
    "id": "Xl2I42yHnTn5",
    "outputId": "a1613426-792d-48de-9eeb-533837d2522c",
    "ExecuteTime": {
     "end_time": "2024-03-30T17:29:50.488558Z",
     "start_time": "2024-03-30T17:29:50.472362Z"
    }
   },
   "outputs": [
    {
     "data": {
      "text/plain": "(977.2282539114243, 3933.562828733389)"
     },
     "execution_count": 8,
     "metadata": {},
     "output_type": "execute_result"
    }
   ],
   "source": [
    "from sklearn.metrics import mean_absolute_error\n",
    "\n",
    "mean_absolute_error(y, pred), np.mean(y)"
   ]
  },
  {
   "cell_type": "markdown",
   "metadata": {
    "id": "FqzX-bQmTJgE"
   },
   "source": [
    "## Анализ распределения столбцов (целевой переменной)"
   ]
  },
  {
   "cell_type": "markdown",
   "metadata": {
    "id": "ci-YduRMiNxW"
   },
   "source": [
    "![image.png](data:image/png;base64,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)"
   ]
  },
  {
   "cell_type": "markdown",
   "metadata": {
    "id": "6Dczel7pjsIJ"
   },
   "source": [
    "В основном в задачах регрессии мы ожидаем увидеть нормально распределенную целевую переменную. Многие модели заточены под нормальное распределение.\n",
    "\n",
    "Но не только в этом дело..."
   ]
  },
  {
   "cell_type": "code",
   "execution_count": 9,
   "metadata": {
    "id": "3vrhognsR2Bj",
    "outputId": "a6b931f1-cd7d-4bf2-a908-36ca71808faa",
    "ExecuteTime": {
     "end_time": "2024-03-30T17:30:00.754639Z",
     "start_time": "2024-03-30T17:29:58.506474Z"
    }
   },
   "outputs": [
    {
     "data": {
      "text/plain": "<Figure size 640x480 with 1 Axes>",
      "image/png": "[encoded data removed]"
     },
     "metadata": {},
     "output_type": "display_data"
    }
   ],
   "source": [
    "sns.histplot(data = df['price'], kde = True);"
   ]
  },
  {
   "cell_type": "markdown",
   "metadata": {
    "id": "wd4K4mpgp9eP"
   },
   "source": [
    "Мы видим у распределения тяжелый хвост, который может быть трудно прогнозируем моделями (так как там мало значений).\n",
    "\n",
    "Проверим это."
   ]
  },
  {
   "cell_type": "code",
   "execution_count": 10,
   "metadata": {
    "id": "gNqFlHwIpDEE",
    "outputId": "e9a87b83-8dc2-4fcf-bdee-7ded0a237b62",
    "ExecuteTime": {
     "end_time": "2024-03-30T17:30:05.499109Z",
     "start_time": "2024-03-30T17:30:05.487932Z"
    }
   },
   "outputs": [
    {
     "data": {
      "text/plain": "764.9688224208032"
     },
     "execution_count": 10,
     "metadata": {},
     "output_type": "execute_result"
    }
   ],
   "source": [
    "mean_absolute_error(y[y < 10000], pred[y < 10000])"
   ]
  },
  {
   "cell_type": "code",
   "execution_count": 11,
   "metadata": {
    "id": "IyQ13-2gp2oz",
    "outputId": "dca1c465-b8f3-44f0-9af1-b6c52a21a025",
    "ExecuteTime": {
     "end_time": "2024-03-30T17:30:06.078982Z",
     "start_time": "2024-03-30T17:30:06.068064Z"
    }
   },
   "outputs": [
    {
     "data": {
      "text/plain": "2957.8679605453926"
     },
     "execution_count": 11,
     "metadata": {},
     "output_type": "execute_result"
    }
   ],
   "source": [
    "mean_absolute_error(y[y >= 10000], pred[y >= 10000])"
   ]
  },
  {
   "cell_type": "markdown",
   "metadata": {
    "id": "vdLYhBDnqFHC"
   },
   "source": [
    "Действительно, ошибка на дорогих алмазах больше."
   ]
  },
  {
   "cell_type": "markdown",
   "metadata": {
    "id": "LCDQmw5-Cx01"
   },
   "source": [
    "# Простые нелинейные модели: классификация"
   ]
  },
  {
   "cell_type": "markdown",
   "metadata": {
    "id": "Hct3GQrlDHp-"
   },
   "source": [
    "## Наивный байесовский классификатор"
   ]
  },
  {
   "cell_type": "code",
   "execution_count": 12,
   "metadata": {
    "id": "Bi5Yph8iHhUZ",
    "ExecuteTime": {
     "end_time": "2024-03-30T17:30:09.423964Z",
     "start_time": "2024-03-30T17:30:09.413894Z"
    }
   },
   "outputs": [],
   "source": [
    "X = df[['carat','depth','table',\"'x'\",\"'y'\",\"'z'\"]]\n",
    "y_class = (y > 2500).astype(int)"
   ]
  },
  {
   "cell_type": "code",
   "execution_count": 13,
   "metadata": {
    "id": "3Jl6uqjsH3W1",
    "outputId": "b66351b4-3bdf-4222-c4f4-d73381e869a0",
    "ExecuteTime": {
     "end_time": "2024-03-30T17:30:10.408817Z",
     "start_time": "2024-03-30T17:30:10.398248Z"
    }
   },
   "outputs": [
    {
     "data": {
      "text/plain": "price\n0    27464\n1    26341\nName: count, dtype: int64"
     },
     "execution_count": 13,
     "metadata": {},
     "output_type": "execute_result"
    }
   ],
   "source": [
    "y_class.value_counts()"
   ]
  },
  {
   "cell_type": "code",
   "execution_count": 14,
   "metadata": {
    "id": "1VOtfkb6IQqd",
    "ExecuteTime": {
     "end_time": "2024-03-30T17:30:13.829797Z",
     "start_time": "2024-03-30T17:30:13.814591Z"
    }
   },
   "outputs": [],
   "source": [
    "from sklearn.model_selection import train_test_split\n",
    "\n",
    "X_train, X_test, y_train, y_test = train_test_split(X, y_class, test_size=0.25, random_state=42)"
   ]
  },
  {
   "cell_type": "code",
   "execution_count": 15,
   "metadata": {
    "id": "iddXYxOmIIPh",
    "ExecuteTime": {
     "end_time": "2024-03-30T17:30:15.898918Z",
     "start_time": "2024-03-30T17:30:15.870496Z"
    }
   },
   "outputs": [],
   "source": [
    "from sklearn.naive_bayes import GaussianNB\n",
    "\n",
    "gnb = GaussianNB()\n",
    "\n",
    "gnb.fit(X_train, y_train)\n",
    "\n",
    "y_pred = gnb.predict(X_test)"
   ]
  },
  {
   "cell_type": "code",
   "execution_count": 16,
   "metadata": {
    "id": "NpmpMr4TIbXL",
    "outputId": "756caa36-0f3e-46da-c92e-9192132cec37",
    "ExecuteTime": {
     "end_time": "2024-03-30T17:30:17.802568Z",
     "start_time": "2024-03-30T17:30:17.789561Z"
    }
   },
   "outputs": [
    {
     "data": {
      "text/plain": "0.9397115670532263"
     },
     "execution_count": 16,
     "metadata": {},
     "output_type": "execute_result"
    }
   ],
   "source": [
    "from sklearn.metrics import accuracy_score\n",
    "\n",
    "accuracy_score(y_test, y_pred)"
   ]
  },
  {
   "cell_type": "code",
   "execution_count": 17,
   "metadata": {
    "id": "bRN57zEzIykJ",
    "outputId": "26afc06e-43da-4c50-9541-9721a0674004",
    "ExecuteTime": {
     "end_time": "2024-03-30T17:30:20.173716Z",
     "start_time": "2024-03-30T17:30:20.159754Z"
    }
   },
   "outputs": [
    {
     "data": {
      "text/plain": "array([[6225,  632],\n       [ 179, 6416]], dtype=int64)"
     },
     "execution_count": 17,
     "metadata": {},
     "output_type": "execute_result"
    }
   ],
   "source": [
    "from sklearn.metrics import confusion_matrix\n",
    "\n",
    "confusion_matrix(y_test, y_pred)"
   ]
  },
  {
   "cell_type": "markdown",
   "metadata": {
    "id": "_svsvkFVI7G_"
   },
   "source": [
    "## KNN"
   ]
  },
  {
   "cell_type": "code",
   "execution_count": 18,
   "metadata": {
    "id": "r4GaS2ZYI8tI",
    "ExecuteTime": {
     "end_time": "2024-03-30T17:30:25.125619Z",
     "start_time": "2024-03-30T17:30:23.685421Z"
    }
   },
   "outputs": [],
   "source": [
    "from sklearn.neighbors import KNeighborsClassifier\n",
    "\n",
    "knn_cl = KNeighborsClassifier()\n",
    "\n",
    "knn_cl.fit(X_train, y_train)\n",
    "\n",
    "pred_knn = knn_cl.predict(X_test)"
   ]
  },
  {
   "cell_type": "code",
   "execution_count": 19,
   "metadata": {
    "id": "DSiJEaQgMdHq",
    "outputId": "2bba230c-5452-4b76-e297-33f3d4cab487",
    "ExecuteTime": {
     "end_time": "2024-03-30T17:30:28.381945Z",
     "start_time": "2024-03-30T17:30:28.371589Z"
    }
   },
   "outputs": [
    {
     "data": {
      "text/plain": "0.9411983348201011"
     },
     "execution_count": 19,
     "metadata": {},
     "output_type": "execute_result"
    }
   ],
   "source": [
    "accuracy_score(y_test, pred_knn)"
   ]
  },
  {
   "cell_type": "code",
   "execution_count": 20,
   "metadata": {
    "id": "mo9NqamnMgJi",
    "outputId": "4f7faf2f-0477-4451-9cd1-212e1c450d4d",
    "ExecuteTime": {
     "end_time": "2024-03-30T17:30:29.426137Z",
     "start_time": "2024-03-30T17:30:29.412566Z"
    }
   },
   "outputs": [
    {
     "data": {
      "text/plain": "array([[6415,  442],\n       [ 349, 6246]], dtype=int64)"
     },
     "execution_count": 20,
     "metadata": {},
     "output_type": "execute_result"
    }
   ],
   "source": [
    "confusion_matrix(y_test, pred_knn)"
   ]
  },
  {
   "cell_type": "markdown",
   "metadata": {
    "id": "cD8Bmr_cQMk5"
   },
   "source": [
    "## Кросс-валидация"
   ]
  },
  {
   "cell_type": "markdown",
   "metadata": {
    "id": "Oxyw84H_QdUe"
   },
   "source": [
    "![CV-2.jpeg](data:image/jpeg;base64,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)"
   ]
  },
  {
   "cell_type": "code",
   "execution_count": 21,
   "metadata": {
    "id": "eC3QlDZfQh-U",
    "outputId": "4b90d05e-a7d7-4b96-a6ce-88acec5982f7",
    "ExecuteTime": {
     "end_time": "2024-03-30T17:30:41.410471Z",
     "start_time": "2024-03-30T17:30:32.433780Z"
    }
   },
   "outputs": [
    {
     "data": {
      "text/plain": "0.8938016912926307"
     },
     "execution_count": 21,
     "metadata": {},
     "output_type": "execute_result"
    }
   ],
   "source": [
    "from sklearn.model_selection import cross_val_score\n",
    "\n",
    "cross_val_score(knn_cl, X, y_class, scoring='accuracy', cv=3, n_jobs=-1).mean()"
   ]
  },
  {
   "cell_type": "code",
   "execution_count": 22,
   "metadata": {
    "id": "Dw_AJ-QGRB8a",
    "outputId": "0d443412-1ade-4f1f-d1e4-5f4121f96131",
    "ExecuteTime": {
     "end_time": "2024-03-30T17:30:49.061287Z",
     "start_time": "2024-03-30T17:30:41.414457Z"
    }
   },
   "outputs": [
    {
     "data": {
      "text/plain": "{'fit_time': array([0.31419396, 0.31317306, 0.33355808]),\n 'score_time': array([3.10146236, 3.17758226, 3.12631202]),\n 'test_accuracy': array([0.86936158, 0.99632004, 0.81572345]),\n 'test_f1': array([0.84602747, 0.99624744, 0.83911795])}"
     },
     "execution_count": 22,
     "metadata": {},
     "output_type": "execute_result"
    }
   ],
   "source": [
    "from sklearn.model_selection import cross_validate\n",
    "\n",
    "cross_validate(knn_cl, X, y_class, scoring=['accuracy', 'f1'], cv=3, n_jobs=-1)"
   ]
  },
  {
   "cell_type": "markdown",
   "metadata": {
    "id": "ASEM56V3Mjws"
   },
   "source": [
    "## Подбор гиперпараметров моделей\n",
    "\n",
    "При подборе гиперпараметров мы разбиваем выборку на три части:\n",
    "* train - обучение модели\n",
    "* validation - применение модели для разных наборов гиперпараметров\n",
    "* test - проверка качества модели с лучшими найденными гиперпараметрами"
   ]
  },
  {
   "cell_type": "markdown",
   "metadata": {
    "id": "IxrjuuRRMuUs"
   },
   "source": [
    "![image.png](data:image/png;base64,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)"
   ]
  },
  {
   "cell_type": "code",
   "execution_count": 23,
   "metadata": {
    "id": "6x0WEFGsM_D8",
    "ExecuteTime": {
     "end_time": "2024-03-30T17:34:21.508079Z",
     "start_time": "2024-03-30T17:34:21.495598Z"
    }
   },
   "outputs": [],
   "source": [
    "X_train, X_val, y_train, y_val = train_test_split(X_train, y_train, test_size=0.25, random_state=42)"
   ]
  },
  {
   "cell_type": "code",
   "execution_count": 24,
   "metadata": {
    "id": "umF0mNcRNHNq",
    "outputId": "9f19c7b2-1858-478d-90c2-8f9a5e94c604",
    "ExecuteTime": {
     "end_time": "2024-03-30T17:34:46.982038Z",
     "start_time": "2024-03-30T17:34:22.139020Z"
    }
   },
   "outputs": [
    {
     "name": "stdout",
     "output_type": "stream",
     "text": [
      "n_neighbors: 2 accuracy: 0.9295272078501338\n",
      "n_neighbors: 3 accuracy: 0.936465457428883\n",
      "n_neighbors: 4 accuracy: 0.9355733967687581\n",
      "n_neighbors: 5 accuracy: 0.9396372286648825\n",
      "n_neighbors: 6 accuracy: 0.9396372286648825\n",
      "n_neighbors: 7 accuracy: 0.9416195856873822\n",
      "n_neighbors: 8 accuracy: 0.9404301714738824\n",
      "n_neighbors: 9 accuracy: 0.9418178213896323\n",
      "n_neighbors: 10 accuracy: 0.9413222321340073\n",
      "n_neighbors: 11 accuracy: 0.9413222321340073\n",
      "n_neighbors: 12 accuracy: 0.9420160570918823\n",
      "n_neighbors: 13 accuracy: 0.9428089999008822\n",
      "n_neighbors: 14 accuracy: 0.9428089999008822\n",
      "n_neighbors: 15 accuracy: 0.9421151749430072\n",
      "n_neighbors: 16 accuracy: 0.9417187035385073\n",
      "n_neighbors: 17 accuracy: 0.9421151749430072\n",
      "n_neighbors: 18 accuracy: 0.9425116463475072\n",
      "n_neighbors: 19 accuracy: 0.9432054713053821\n",
      "n_neighbors: 20 accuracy: 0.943899296263257\n",
      "n_neighbors: 21 accuracy: 0.9436019427098821\n",
      "n_neighbors: 22 accuracy: 0.9431063534542571\n",
      "n_neighbors: 23 accuracy: 0.9436019427098821\n",
      "n_neighbors: 24 accuracy: 0.943998414114382\n",
      "n_neighbors: 25 accuracy: 0.9433045891565071\n",
      "n_neighbors: 26 accuracy: 0.943502824858757\n",
      "n_neighbors: 27 accuracy: 0.9425116463475072\n",
      "n_neighbors: 28 accuracy: 0.9436019427098821\n",
      "n_neighbors: 29 accuracy: 0.9427098820497571\n",
      "24 0.943998414114382\n"
     ]
    }
   ],
   "source": [
    "best_k = -1\n",
    "best_acc = -1\n",
    "\n",
    "for k in np.arange(2, 30, 1):\n",
    "    knn_cl = KNeighborsClassifier(n_neighbors=k) # по умолчанию n_neighbors=5\n",
    "\n",
    "    knn_cl.fit(X_train, y_train)\n",
    "    pred_knn = knn_cl.predict(X_val)\n",
    "    acc = accuracy_score(y_val, pred_knn)\n",
    "\n",
    "    if acc > best_acc:\n",
    "        best_k = k\n",
    "        best_acc = acc\n",
    "\n",
    "    print('n_neighbors:', k, 'accuracy:', acc)\n",
    "\n",
    "print(best_k, best_acc)"
   ]
  },
  {
   "cell_type": "code",
   "execution_count": 25,
   "metadata": {
    "id": "YHWZ3omSOHgf",
    "outputId": "ad6b989c-cc30-4282-a37a-99467ffe13f2",
    "ExecuteTime": {
     "end_time": "2024-03-30T17:34:48.109833Z",
     "start_time": "2024-03-30T17:34:46.984050Z"
    }
   },
   "outputs": [
    {
     "name": "stdout",
     "output_type": "stream",
     "text": [
      "0.9448409158489444\n"
     ]
    }
   ],
   "source": [
    "knn_cl = KNeighborsClassifier(n_neighbors=20) # по умолчанию n_neighbors=5\n",
    "\n",
    "knn_cl.fit(X_train, y_train)\n",
    "pred_knn = knn_cl.predict(X_test)\n",
    "\n",
    "acc = accuracy_score(y_test, pred_knn)\n",
    "print(acc)"
   ]
  },
  {
   "cell_type": "code",
   "execution_count": 25,
   "metadata": {
    "id": "EqF1HIfHOmXX",
    "outputId": "1ed2c8df-2577-4a4c-e275-e4b4debe9682",
    "ExecuteTime": {
     "end_time": "2024-03-30T14:30:33.935509Z",
     "start_time": "2024-03-30T14:30:33.926237Z"
    }
   },
   "outputs": [
    {
     "data": {
      "text/plain": "array([[6444,  413],\n       [ 329, 6266]], dtype=int64)"
     },
     "execution_count": 25,
     "metadata": {},
     "output_type": "execute_result"
    }
   ],
   "source": [
    "confusion_matrix(y_test, pred_knn)"
   ]
  },
  {
   "cell_type": "markdown",
   "metadata": {
    "id": "PmCcdpjoO33s"
   },
   "source": [
    "## Подбор гиперпараметров по сетке"
   ]
  },
  {
   "cell_type": "code",
   "execution_count": 47,
   "metadata": {
    "id": "mrd_nxtjPCU3",
    "outputId": "b7f7fe58-0e6a-4a2a-9efa-b165ea675102",
    "ExecuteTime": {
     "end_time": "2024-03-30T17:54:46.275505Z",
     "start_time": "2024-03-30T17:54:20.420147Z"
    }
   },
   "outputs": [
    {
     "name": "stdout",
     "output_type": "stream",
     "text": [
      "Fitting 3 folds for each of 36 candidates, totalling 108 fits\n"
     ]
    },
    {
     "data": {
      "text/plain": "GridSearchCV(cv=3, estimator=KNeighborsClassifier(), n_jobs=-1,\n             param_grid={'n_neighbors': array([ 2,  4,  6,  8, 10, 12, 14, 16, 18]),\n                         'p': [1, 2], 'weights': ['uniform', 'distance']},\n             scoring='accuracy', verbose=2)",
      "text/html": "<style>#sk-container-id-1 {\n  /* Definition of color scheme common for light and dark mode */\n  --sklearn-color-text: black;\n  --sklearn-color-line: gray;\n  /* Definition of color scheme for unfitted estimators */\n  --sklearn-color-unfitted-level-0: #fff5e6;\n  --sklearn-color-unfitted-level-1: #f6e4d2;\n  --sklearn-color-unfitted-level-2: #ffe0b3;\n  --sklearn-color-unfitted-level-3: chocolate;\n  /* Definition of color scheme for fitted estimators */\n  --sklearn-color-fitted-level-0: #f0f8ff;\n  --sklearn-color-fitted-level-1: #d4ebff;\n  --sklearn-color-fitted-level-2: #b3dbfd;\n  --sklearn-color-fitted-level-3: cornflowerblue;\n\n  /* Specific color for light theme */\n  --sklearn-color-text-on-default-background: var(--sg-text-color, var(--theme-code-foreground, var(--jp-content-font-color1, black)));\n  --sklearn-color-background: var(--sg-background-color, var(--theme-background, var(--jp-layout-color0, white)));\n  --sklearn-color-border-box: var(--sg-text-color, var(--theme-code-foreground, var(--jp-content-font-color1, black)));\n  --sklearn-color-icon: #696969;\n\n  @media (prefers-color-scheme: dark) {\n    /* Redefinition of color scheme for dark theme */\n    --sklearn-color-text-on-default-background: var(--sg-text-color, var(--theme-code-foreground, var(--jp-content-font-color1, white)));\n    --sklearn-color-background: var(--sg-background-color, var(--theme-background, var(--jp-layout-color0, #111)));\n    --sklearn-color-border-box: var(--sg-text-color, var(--theme-code-foreground, var(--jp-content-font-color1, white)));\n    --sklearn-color-icon: #878787;\n  }\n}\n\n#sk-container-id-1 {\n  color: var(--sklearn-color-text);\n}\n\n#sk-container-id-1 pre {\n  padding: 0;\n}\n\n#sk-container-id-1 input.sk-hidden--visually {\n  border: 0;\n  clip: rect(1px 1px 1px 1px);\n  clip: rect(1px, 1px, 1px, 1px);\n  height: 1px;\n  margin: -1px;\n  overflow: hidden;\n  padding: 0;\n  position: absolute;\n  width: 1px;\n}\n\n#sk-container-id-1 div.sk-dashed-wrapped {\n  border: 1px dashed var(--sklearn-color-line);\n  margin: 0 0.4em 0.5em 0.4em;\n  box-sizing: border-box;\n  padding-bottom: 0.4em;\n  background-color: var(--sklearn-color-background);\n}\n\n#sk-container-id-1 div.sk-container {\n  /* jupyter's `normalize.less` sets `[hidden] { display: none; }`\n     but bootstrap.min.css set `[hidden] { display: none !important; }`\n     so we also need the `!important` here to be able to override the\n     default hidden behavior on the sphinx rendered scikit-learn.org.\n     See: https://github.com/scikit-learn/scikit-learn/issues/21755 */\n  display: inline-block !important;\n  position: relative;\n}\n\n#sk-container-id-1 div.sk-text-repr-fallback {\n  display: none;\n}\n\ndiv.sk-parallel-item,\ndiv.sk-serial,\ndiv.sk-item {\n  /* draw centered vertical line to link estimators */\n  background-image: linear-gradient(var(--sklearn-color-text-on-default-background), var(--sklearn-color-text-on-default-background));\n  background-size: 2px 100%;\n  background-repeat: no-repeat;\n  background-position: center center;\n}\n\n/* Parallel-specific style estimator block */\n\n#sk-container-id-1 div.sk-parallel-item::after {\n  content: \"\";\n  width: 100%;\n  border-bottom: 2px solid var(--sklearn-color-text-on-default-background);\n  flex-grow: 1;\n}\n\n#sk-container-id-1 div.sk-parallel {\n  display: flex;\n  align-items: stretch;\n  justify-content: center;\n  background-color: var(--sklearn-color-background);\n  position: relative;\n}\n\n#sk-container-id-1 div.sk-parallel-item {\n  display: flex;\n  flex-direction: column;\n}\n\n#sk-container-id-1 div.sk-parallel-item:first-child::after {\n  align-self: flex-end;\n  width: 50%;\n}\n\n#sk-container-id-1 div.sk-parallel-item:last-child::after {\n  align-self: flex-start;\n  width: 50%;\n}\n\n#sk-container-id-1 div.sk-parallel-item:only-child::after {\n  width: 0;\n}\n\n/* Serial-specific style estimator block */\n\n#sk-container-id-1 div.sk-serial {\n  display: flex;\n  flex-direction: column;\n  align-items: center;\n  background-color: var(--sklearn-color-background);\n  padding-right: 1em;\n  padding-left: 1em;\n}\n\n\n/* Toggleable style: style used for estimator/Pipeline/ColumnTransformer box that is\nclickable and can be expanded/collapsed.\n- Pipeline and ColumnTransformer use this feature and define the default style\n- Estimators will overwrite some part of the style using the `sk-estimator` class\n*/\n\n/* Pipeline and ColumnTransformer style (default) */\n\n#sk-container-id-1 div.sk-toggleable {\n  /* Default theme specific background. It is overwritten whether we have a\n  specific estimator or a Pipeline/ColumnTransformer */\n  background-color: var(--sklearn-color-background);\n}\n\n/* Toggleable label */\n#sk-container-id-1 label.sk-toggleable__label {\n  cursor: pointer;\n  display: block;\n  width: 100%;\n  margin-bottom: 0;\n  padding: 0.5em;\n  box-sizing: border-box;\n  text-align: center;\n}\n\n#sk-container-id-1 label.sk-toggleable__label-arrow:before {\n  /* Arrow on the left of the label */\n  content: \"▸\";\n  float: left;\n  margin-right: 0.25em;\n  color: var(--sklearn-color-icon);\n}\n\n#sk-container-id-1 label.sk-toggleable__label-arrow:hover:before {\n  color: var(--sklearn-color-text);\n}\n\n/* Toggleable content - dropdown */\n\n#sk-container-id-1 div.sk-toggleable__content {\n  max-height: 0;\n  max-width: 0;\n  overflow: hidden;\n  text-align: left;\n  /* unfitted */\n  background-color: var(--sklearn-color-unfitted-level-0);\n}\n\n#sk-container-id-1 div.sk-toggleable__content.fitted {\n  /* fitted */\n  background-color: var(--sklearn-color-fitted-level-0);\n}\n\n#sk-container-id-1 div.sk-toggleable__content pre {\n  margin: 0.2em;\n  border-radius: 0.25em;\n  color: var(--sklearn-color-text);\n  /* unfitted */\n  background-color: var(--sklearn-color-unfitted-level-0);\n}\n\n#sk-container-id-1 div.sk-toggleable__content.fitted pre {\n  /* unfitted */\n  background-color: var(--sklearn-color-fitted-level-0);\n}\n\n#sk-container-id-1 input.sk-toggleable__control:checked~div.sk-toggleable__content {\n  /* Expand drop-down */\n  max-height: 200px;\n  max-width: 100%;\n  overflow: auto;\n}\n\n#sk-container-id-1 input.sk-toggleable__control:checked~label.sk-toggleable__label-arrow:before {\n  content: \"▾\";\n}\n\n/* Pipeline/ColumnTransformer-specific style */\n\n#sk-container-id-1 div.sk-label input.sk-toggleable__control:checked~label.sk-toggleable__label {\n  color: var(--sklearn-color-text);\n  background-color: var(--sklearn-color-unfitted-level-2);\n}\n\n#sk-container-id-1 div.sk-label.fitted input.sk-toggleable__control:checked~label.sk-toggleable__label {\n  background-color: var(--sklearn-color-fitted-level-2);\n}\n\n/* Estimator-specific style */\n\n/* Colorize estimator box */\n#sk-container-id-1 div.sk-estimator input.sk-toggleable__control:checked~label.sk-toggleable__label {\n  /* unfitted */\n  background-color: var(--sklearn-color-unfitted-level-2);\n}\n\n#sk-container-id-1 div.sk-estimator.fitted input.sk-toggleable__control:checked~label.sk-toggleable__label {\n  /* fitted */\n  background-color: var(--sklearn-color-fitted-level-2);\n}\n\n#sk-container-id-1 div.sk-label label.sk-toggleable__label,\n#sk-container-id-1 div.sk-label label {\n  /* The background is the default theme color */\n  color: var(--sklearn-color-text-on-default-background);\n}\n\n/* On hover, darken the color of the background */\n#sk-container-id-1 div.sk-label:hover label.sk-toggleable__label {\n  color: var(--sklearn-color-text);\n  background-color: var(--sklearn-color-unfitted-level-2);\n}\n\n/* Label box, darken color on hover, fitted */\n#sk-container-id-1 div.sk-label.fitted:hover label.sk-toggleable__label.fitted {\n  color: var(--sklearn-color-text);\n  background-color: var(--sklearn-color-fitted-level-2);\n}\n\n/* Estimator label */\n\n#sk-container-id-1 div.sk-label label {\n  font-family: monospace;\n  font-weight: bold;\n  display: inline-block;\n  line-height: 1.2em;\n}\n\n#sk-container-id-1 div.sk-label-container {\n  text-align: center;\n}\n\n/* Estimator-specific */\n#sk-container-id-1 div.sk-estimator {\n  font-family: monospace;\n  border: 1px dotted var(--sklearn-color-border-box);\n  border-radius: 0.25em;\n  box-sizing: border-box;\n  margin-bottom: 0.5em;\n  /* unfitted */\n  background-color: var(--sklearn-color-unfitted-level-0);\n}\n\n#sk-container-id-1 div.sk-estimator.fitted {\n  /* fitted */\n  background-color: var(--sklearn-color-fitted-level-0);\n}\n\n/* on hover */\n#sk-container-id-1 div.sk-estimator:hover {\n  /* unfitted */\n  background-color: var(--sklearn-color-unfitted-level-2);\n}\n\n#sk-container-id-1 div.sk-estimator.fitted:hover {\n  /* fitted */\n  background-color: var(--sklearn-color-fitted-level-2);\n}\n\n/* Specification for estimator info (e.g. \"i\" and \"?\") */\n\n/* Common style for \"i\" and \"?\" */\n\n.sk-estimator-doc-link,\na:link.sk-estimator-doc-link,\na:visited.sk-estimator-doc-link {\n  float: right;\n  font-size: smaller;\n  line-height: 1em;\n  font-family: monospace;\n  background-color: var(--sklearn-color-background);\n  border-radius: 1em;\n  height: 1em;\n  width: 1em;\n  text-decoration: none !important;\n  margin-left: 1ex;\n  /* unfitted */\n  border: var(--sklearn-color-unfitted-level-1) 1pt solid;\n  color: var(--sklearn-color-unfitted-level-1);\n}\n\n.sk-estimator-doc-link.fitted,\na:link.sk-estimator-doc-link.fitted,\na:visited.sk-estimator-doc-link.fitted {\n  /* fitted */\n  border: var(--sklearn-color-fitted-level-1) 1pt solid;\n  color: var(--sklearn-color-fitted-level-1);\n}\n\n/* On hover */\ndiv.sk-estimator:hover .sk-estimator-doc-link:hover,\n.sk-estimator-doc-link:hover,\ndiv.sk-label-container:hover .sk-estimator-doc-link:hover,\n.sk-estimator-doc-link:hover {\n  /* unfitted */\n  background-color: var(--sklearn-color-unfitted-level-3);\n  color: var(--sklearn-color-background);\n  text-decoration: none;\n}\n\ndiv.sk-estimator.fitted:hover .sk-estimator-doc-link.fitted:hover,\n.sk-estimator-doc-link.fitted:hover,\ndiv.sk-label-container:hover .sk-estimator-doc-link.fitted:hover,\n.sk-estimator-doc-link.fitted:hover {\n  /* fitted */\n  background-color: var(--sklearn-color-fitted-level-3);\n  color: var(--sklearn-color-background);\n  text-decoration: none;\n}\n\n/* Span, style for the box shown on hovering the info icon */\n.sk-estimator-doc-link span {\n  display: none;\n  z-index: 9999;\n  position: relative;\n  font-weight: normal;\n  right: .2ex;\n  padding: .5ex;\n  margin: .5ex;\n  width: min-content;\n  min-width: 20ex;\n  max-width: 50ex;\n  color: var(--sklearn-color-text);\n  box-shadow: 2pt 2pt 4pt #999;\n  /* unfitted */\n  background: var(--sklearn-color-unfitted-level-0);\n  border: .5pt solid var(--sklearn-color-unfitted-level-3);\n}\n\n.sk-estimator-doc-link.fitted span {\n  /* fitted */\n  background: var(--sklearn-color-fitted-level-0);\n  border: var(--sklearn-color-fitted-level-3);\n}\n\n.sk-estimator-doc-link:hover span {\n  display: block;\n}\n\n/* \"?\"-specific style due to the `<a>` HTML tag */\n\n#sk-container-id-1 a.estimator_doc_link {\n  float: right;\n  font-size: 1rem;\n  line-height: 1em;\n  font-family: monospace;\n  background-color: var(--sklearn-color-background);\n  border-radius: 1rem;\n  height: 1rem;\n  width: 1rem;\n  text-decoration: none;\n  /* unfitted */\n  color: var(--sklearn-color-unfitted-level-1);\n  border: var(--sklearn-color-unfitted-level-1) 1pt solid;\n}\n\n#sk-container-id-1 a.estimator_doc_link.fitted {\n  /* fitted */\n  border: var(--sklearn-color-fitted-level-1) 1pt solid;\n  color: var(--sklearn-color-fitted-level-1);\n}\n\n/* On hover */\n#sk-container-id-1 a.estimator_doc_link:hover {\n  /* unfitted */\n  background-color: var(--sklearn-color-unfitted-level-3);\n  color: var(--sklearn-color-background);\n  text-decoration: none;\n}\n\n#sk-container-id-1 a.estimator_doc_link.fitted:hover {\n  /* fitted */\n  background-color: var(--sklearn-color-fitted-level-3);\n}\n</style><div id=\"sk-container-id-1\" class=\"sk-top-container\"><div class=\"sk-text-repr-fallback\"><pre>GridSearchCV(cv=3, estimator=KNeighborsClassifier(), n_jobs=-1,\n             param_grid={&#x27;n_neighbors&#x27;: array([ 2,  4,  6,  8, 10, 12, 14, 16, 18]),\n                         &#x27;p&#x27;: [1, 2], &#x27;weights&#x27;: [&#x27;uniform&#x27;, &#x27;distance&#x27;]},\n             scoring=&#x27;accuracy&#x27;, verbose=2)</pre><b>In a Jupyter environment, please rerun this cell to show the HTML representation or trust the notebook. <br />On GitHub, the HTML representation is unable to render, please try loading this page with nbviewer.org.</b></div><div class=\"sk-container\" hidden><div class=\"sk-item sk-dashed-wrapped\"><div class=\"sk-label-container\"><div class=\"sk-label fitted sk-toggleable\"><input class=\"sk-toggleable__control sk-hidden--visually\" id=\"sk-estimator-id-1\" type=\"checkbox\" ><label for=\"sk-estimator-id-1\" class=\"sk-toggleable__label fitted sk-toggleable__label-arrow fitted\">&nbsp;&nbsp;GridSearchCV<a class=\"sk-estimator-doc-link fitted\" rel=\"noreferrer\" target=\"_blank\" href=\"https://scikit-learn.org/1.4/modules/generated/sklearn.model_selection.GridSearchCV.html\">?<span>Documentation for GridSearchCV</span></a><span class=\"sk-estimator-doc-link fitted\">i<span>Fitted</span></span></label><div class=\"sk-toggleable__content fitted\"><pre>GridSearchCV(cv=3, estimator=KNeighborsClassifier(), n_jobs=-1,\n             param_grid={&#x27;n_neighbors&#x27;: array([ 2,  4,  6,  8, 10, 12, 14, 16, 18]),\n                         &#x27;p&#x27;: [1, 2], &#x27;weights&#x27;: [&#x27;uniform&#x27;, &#x27;distance&#x27;]},\n             scoring=&#x27;accuracy&#x27;, verbose=2)</pre></div> </div></div><div class=\"sk-parallel\"><div class=\"sk-parallel-item\"><div class=\"sk-item\"><div class=\"sk-label-container\"><div class=\"sk-label fitted sk-toggleable\"><input class=\"sk-toggleable__control sk-hidden--visually\" id=\"sk-estimator-id-2\" type=\"checkbox\" ><label for=\"sk-estimator-id-2\" class=\"sk-toggleable__label fitted sk-toggleable__label-arrow fitted\">estimator: KNeighborsClassifier</label><div class=\"sk-toggleable__content fitted\"><pre>KNeighborsClassifier()</pre></div> </div></div><div class=\"sk-serial\"><div class=\"sk-item\"><div class=\"sk-estimator fitted sk-toggleable\"><input class=\"sk-toggleable__control sk-hidden--visually\" id=\"sk-estimator-id-3\" type=\"checkbox\" ><label for=\"sk-estimator-id-3\" class=\"sk-toggleable__label fitted sk-toggleable__label-arrow fitted\">&nbsp;KNeighborsClassifier<a class=\"sk-estimator-doc-link fitted\" rel=\"noreferrer\" target=\"_blank\" href=\"https://scikit-learn.org/1.4/modules/generated/sklearn.neighbors.KNeighborsClassifier.html\">?<span>Documentation for KNeighborsClassifier</span></a></label><div class=\"sk-toggleable__content fitted\"><pre>KNeighborsClassifier()</pre></div> </div></div></div></div></div></div></div></div></div>"
     },
     "execution_count": 47,
     "metadata": {},
     "output_type": "execute_result"
    }
   ],
   "source": [
    "from sklearn.model_selection import GridSearchCV\n",
    "\n",
    "X_train, X_test, y_train, y_test = train_test_split(X, y_class, test_size=0.25, random_state=42)\n",
    "\n",
    "model = KNeighborsClassifier()\n",
    "\n",
    "params = {'n_neighbors' : np.arange(2, 20, 2),\n",
    "          'weights' : ['uniform', 'distance'],\n",
    "          'p' : [1, 2]}\n",
    "\n",
    "gs = GridSearchCV(model, params, scoring='accuracy', cv=3, n_jobs=-1, verbose=2)\n",
    "gs.fit(X_train, y_train)"
   ]
  },
  {
   "cell_type": "code",
   "execution_count": 53,
   "metadata": {
    "id": "6JNrLhjzPxx1",
    "outputId": "21026888-b0d0-456b-842e-7582811d11e4",
    "ExecuteTime": {
     "end_time": "2024-03-30T17:59:47.613442Z",
     "start_time": "2024-03-30T17:59:47.603908Z"
    }
   },
   "outputs": [
    {
     "data": {
      "text/plain": "(-0.036451592755160196, {'n_neighbors': 28, 'p': 1, 'weights': 'uniform'})"
     },
     "execution_count": 53,
     "metadata": {},
     "output_type": "execute_result"
    }
   ],
   "source": [
    "gs.best_score_, gs.best_params_"
   ]
  },
  {
   "cell_type": "code",
   "execution_count": 28,
   "metadata": {
    "id": "F3TI6bzlP-1O",
    "outputId": "5038463f-4299-4fc6-c562-a7bda887325d",
    "ExecuteTime": {
     "end_time": "2024-03-30T14:31:26.963766Z",
     "start_time": "2024-03-30T14:31:25.573081Z"
    }
   },
   "outputs": [
    {
     "data": {
      "text/plain": "0.9463276836158192"
     },
     "execution_count": 28,
     "metadata": {},
     "output_type": "execute_result"
    }
   ],
   "source": [
    "pred = gs.best_estimator_.predict(X_test)\n",
    "\n",
    "accuracy_score(y_test, pred)"
   ]
  },
  {
   "cell_type": "code",
   "execution_count": 29,
   "metadata": {
    "id": "PSdbE1J8QFms",
    "outputId": "61e091b0-44e1-4566-a37a-f29206429304",
    "ExecuteTime": {
     "end_time": "2024-03-30T14:31:27.419465Z",
     "start_time": "2024-03-30T14:31:27.408355Z"
    }
   },
   "outputs": [
    {
     "data": {
      "text/plain": "array([[6467,  390],\n       [ 332, 6263]], dtype=int64)"
     },
     "execution_count": 29,
     "metadata": {},
     "output_type": "execute_result"
    }
   ],
   "source": [
    "confusion_matrix(y_test, pred)"
   ]
  },
  {
   "cell_type": "markdown",
   "metadata": {
    "id": "SrAAhqSw5iDr"
   },
   "source": [
    "# Explainer Dashboard\n",
    "\n",
    "[tutorial](https://github.com/oegedijk/explainerdashboard/blob/c7c515c05c5a161226193e40a8258c310fc7901d/notebooks/dashboard_examples.ipynb)"
   ]
  },
  {
   "cell_type": "code",
   "execution_count": 26,
   "metadata": {
    "id": "r_8m95dZ5gqV",
    "ExecuteTime": {
     "end_time": "2024-03-30T17:37:18.053583Z",
     "start_time": "2024-03-30T17:34:48.110890Z"
    }
   },
   "outputs": [],
   "source": [
    "!pip install explainerdashboard -q"
   ]
  },
  {
   "cell_type": "code",
   "execution_count": 43,
   "metadata": {
    "id": "hLp8QLnc5gsk",
    "outputId": "ed3e206c-ecfb-4ede-db5b-cd5b3a840945",
    "ExecuteTime": {
     "end_time": "2024-03-30T17:54:01.900517Z",
     "start_time": "2024-03-30T17:54:01.895520Z"
    }
   },
   "outputs": [],
   "source": [
    "from explainerdashboard import ClassifierExplainer, RegressionExplainer, ExplainerDashboard"
   ]
  },
  {
   "cell_type": "code",
   "execution_count": 44,
   "metadata": {
    "id": "SJRPYGF85gu-",
    "ExecuteTime": {
     "end_time": "2024-03-30T17:54:02.737626Z",
     "start_time": "2024-03-30T17:54:02.733661Z"
    }
   },
   "outputs": [],
   "source": [
    "from IPython.core.interactiveshell import InteractiveShell\n",
    "InteractiveShell.ast_node_interactivity = \"all\""
   ]
  },
  {
   "cell_type": "code",
   "execution_count": 45,
   "metadata": {
    "id": "Wq9-5Aus6IFq",
    "ExecuteTime": {
     "end_time": "2024-03-30T17:54:04.666347Z",
     "start_time": "2024-03-30T17:54:04.644260Z"
    }
   },
   "outputs": [
    {
     "ename": "NameError",
     "evalue": "name 'gs' is not defined",
     "output_type": "error",
     "traceback": [
      "\u001B[1;31m---------------------------------------------------------------------------\u001B[0m",
      "\u001B[1;31mNameError\u001B[0m                                 Traceback (most recent call last)",
      "Cell \u001B[1;32mIn[45], line 1\u001B[0m\n\u001B[1;32m----> 1\u001B[0m explainer \u001B[38;5;241m=\u001B[39m ClassifierExplainer(\u001B[43mgs\u001B[49m\u001B[38;5;241m.\u001B[39mbest_estimator_, X_test\u001B[38;5;241m.\u001B[39miloc[:\u001B[38;5;241m1000\u001B[39m], y_test\u001B[38;5;241m.\u001B[39miloc[:\u001B[38;5;241m1000\u001B[39m])\n",
      "\u001B[1;31mNameError\u001B[0m: name 'gs' is not defined"
     ]
    }
   ],
   "source": [
    "explainer = ClassifierExplainer(gs.best_estimator_, X_test.iloc[:1000], y_test.iloc[:1000])"
   ]
  },
  {
   "cell_type": "code",
   "execution_count": null,
   "metadata": {
    "id": "TyieT79365Rk"
   },
   "outputs": [],
   "source": [
    "db = ExplainerDashboard(explainer)"
   ]
  },
  {
   "cell_type": "code",
   "execution_count": 35,
   "metadata": {
    "colab": {
     "base_uri": "https://localhost:8080/",
     "height": 762
    },
    "id": "LlDabdGV8Yxe",
    "outputId": "050e58f7-beec-4e94-9ba3-525e9e61f18b",
    "ExecuteTime": {
     "end_time": "2024-03-30T14:39:18.258778Z",
     "start_time": "2024-03-30T14:39:04.167260Z"
    }
   },
   "outputs": [
    {
     "name": "stdout",
     "output_type": "stream",
     "text": [
      "Starting ExplainerDashboard on http://192.168.1.7:8050\n"
     ]
    },
    {
     "ename": "ConnectionError",
     "evalue": "HTTPConnectionPool(host='0.0.0.0', port=8050): Max retries exceeded with url: /_alive_82655955-8bd4-4f4a-b0de-ee79d97bbb17 (Caused by NewConnectionError('<urllib3.connection.HTTPConnection object at 0x0000028A331569D0>: Failed to establish a new connection: [WinError 10049] Требуемый адрес для своего контекста неверен'))",
     "output_type": "error",
     "traceback": [
      "\u001B[1;31m---------------------------------------------------------------------------\u001B[0m",
      "\u001B[1;31mOSError\u001B[0m                                   Traceback (most recent call last)",
      "File \u001B[1;32mC:\\ProgramData\\anaconda3\\Lib\\site-packages\\urllib3\\connection.py:174\u001B[0m, in \u001B[0;36mHTTPConnection._new_conn\u001B[1;34m(self)\u001B[0m\n\u001B[0;32m    173\u001B[0m \u001B[38;5;28;01mtry\u001B[39;00m:\n\u001B[1;32m--> 174\u001B[0m     conn \u001B[38;5;241m=\u001B[39m connection\u001B[38;5;241m.\u001B[39mcreate_connection(\n\u001B[0;32m    175\u001B[0m         (\u001B[38;5;28mself\u001B[39m\u001B[38;5;241m.\u001B[39m_dns_host, \u001B[38;5;28mself\u001B[39m\u001B[38;5;241m.\u001B[39mport), \u001B[38;5;28mself\u001B[39m\u001B[38;5;241m.\u001B[39mtimeout, \u001B[38;5;241m*\u001B[39m\u001B[38;5;241m*\u001B[39mextra_kw\n\u001B[0;32m    176\u001B[0m     )\n\u001B[0;32m    178\u001B[0m \u001B[38;5;28;01mexcept\u001B[39;00m SocketTimeout:\n",
      "File \u001B[1;32mC:\\ProgramData\\anaconda3\\Lib\\site-packages\\urllib3\\util\\connection.py:95\u001B[0m, in \u001B[0;36mcreate_connection\u001B[1;34m(address, timeout, source_address, socket_options)\u001B[0m\n\u001B[0;32m     94\u001B[0m \u001B[38;5;28;01mif\u001B[39;00m err \u001B[38;5;129;01mis\u001B[39;00m \u001B[38;5;129;01mnot\u001B[39;00m \u001B[38;5;28;01mNone\u001B[39;00m:\n\u001B[1;32m---> 95\u001B[0m     \u001B[38;5;28;01mraise\u001B[39;00m err\n\u001B[0;32m     97\u001B[0m \u001B[38;5;28;01mraise\u001B[39;00m socket\u001B[38;5;241m.\u001B[39merror(\u001B[38;5;124m\"\u001B[39m\u001B[38;5;124mgetaddrinfo returns an empty list\u001B[39m\u001B[38;5;124m\"\u001B[39m)\n",
      "File \u001B[1;32mC:\\ProgramData\\anaconda3\\Lib\\site-packages\\urllib3\\util\\connection.py:85\u001B[0m, in \u001B[0;36mcreate_connection\u001B[1;34m(address, timeout, source_address, socket_options)\u001B[0m\n\u001B[0;32m     84\u001B[0m     sock\u001B[38;5;241m.\u001B[39mbind(source_address)\n\u001B[1;32m---> 85\u001B[0m sock\u001B[38;5;241m.\u001B[39mconnect(sa)\n\u001B[0;32m     86\u001B[0m \u001B[38;5;28;01mreturn\u001B[39;00m sock\n",
      "\u001B[1;31mOSError\u001B[0m: [WinError 10049] Требуемый адрес для своего контекста неверен",
      "\nDuring handling of the above exception, another exception occurred:\n",
      "\u001B[1;31mNewConnectionError\u001B[0m                        Traceback (most recent call last)",
      "File \u001B[1;32mC:\\ProgramData\\anaconda3\\Lib\\site-packages\\urllib3\\connectionpool.py:714\u001B[0m, in \u001B[0;36mHTTPConnectionPool.urlopen\u001B[1;34m(self, method, url, body, headers, retries, redirect, assert_same_host, timeout, pool_timeout, release_conn, chunked, body_pos, **response_kw)\u001B[0m\n\u001B[0;32m    713\u001B[0m \u001B[38;5;66;03m# Make the request on the httplib connection object.\u001B[39;00m\n\u001B[1;32m--> 714\u001B[0m httplib_response \u001B[38;5;241m=\u001B[39m \u001B[38;5;28mself\u001B[39m\u001B[38;5;241m.\u001B[39m_make_request(\n\u001B[0;32m    715\u001B[0m     conn,\n\u001B[0;32m    716\u001B[0m     method,\n\u001B[0;32m    717\u001B[0m     url,\n\u001B[0;32m    718\u001B[0m     timeout\u001B[38;5;241m=\u001B[39mtimeout_obj,\n\u001B[0;32m    719\u001B[0m     body\u001B[38;5;241m=\u001B[39mbody,\n\u001B[0;32m    720\u001B[0m     headers\u001B[38;5;241m=\u001B[39mheaders,\n\u001B[0;32m    721\u001B[0m     chunked\u001B[38;5;241m=\u001B[39mchunked,\n\u001B[0;32m    722\u001B[0m )\n\u001B[0;32m    724\u001B[0m \u001B[38;5;66;03m# If we're going to release the connection in ``finally:``, then\u001B[39;00m\n\u001B[0;32m    725\u001B[0m \u001B[38;5;66;03m# the response doesn't need to know about the connection. Otherwise\u001B[39;00m\n\u001B[0;32m    726\u001B[0m \u001B[38;5;66;03m# it will also try to release it and we'll have a double-release\u001B[39;00m\n\u001B[0;32m    727\u001B[0m \u001B[38;5;66;03m# mess.\u001B[39;00m\n",
      "File \u001B[1;32mC:\\ProgramData\\anaconda3\\Lib\\site-packages\\urllib3\\connectionpool.py:415\u001B[0m, in \u001B[0;36mHTTPConnectionPool._make_request\u001B[1;34m(self, conn, method, url, timeout, chunked, **httplib_request_kw)\u001B[0m\n\u001B[0;32m    414\u001B[0m     \u001B[38;5;28;01melse\u001B[39;00m:\n\u001B[1;32m--> 415\u001B[0m         conn\u001B[38;5;241m.\u001B[39mrequest(method, url, \u001B[38;5;241m*\u001B[39m\u001B[38;5;241m*\u001B[39mhttplib_request_kw)\n\u001B[0;32m    417\u001B[0m \u001B[38;5;66;03m# We are swallowing BrokenPipeError (errno.EPIPE) since the server is\u001B[39;00m\n\u001B[0;32m    418\u001B[0m \u001B[38;5;66;03m# legitimately able to close the connection after sending a valid response.\u001B[39;00m\n\u001B[0;32m    419\u001B[0m \u001B[38;5;66;03m# With this behaviour, the received response is still readable.\u001B[39;00m\n",
      "File \u001B[1;32mC:\\ProgramData\\anaconda3\\Lib\\site-packages\\urllib3\\connection.py:244\u001B[0m, in \u001B[0;36mHTTPConnection.request\u001B[1;34m(self, method, url, body, headers)\u001B[0m\n\u001B[0;32m    243\u001B[0m     headers[\u001B[38;5;124m\"\u001B[39m\u001B[38;5;124mUser-Agent\u001B[39m\u001B[38;5;124m\"\u001B[39m] \u001B[38;5;241m=\u001B[39m _get_default_user_agent()\n\u001B[1;32m--> 244\u001B[0m \u001B[38;5;28msuper\u001B[39m(HTTPConnection, \u001B[38;5;28mself\u001B[39m)\u001B[38;5;241m.\u001B[39mrequest(method, url, body\u001B[38;5;241m=\u001B[39mbody, headers\u001B[38;5;241m=\u001B[39mheaders)\n",
      "File \u001B[1;32mC:\\ProgramData\\anaconda3\\Lib\\http\\client.py:1286\u001B[0m, in \u001B[0;36mHTTPConnection.request\u001B[1;34m(self, method, url, body, headers, encode_chunked)\u001B[0m\n\u001B[0;32m   1285\u001B[0m \u001B[38;5;250m\u001B[39m\u001B[38;5;124;03m\"\"\"Send a complete request to the server.\"\"\"\u001B[39;00m\n\u001B[1;32m-> 1286\u001B[0m \u001B[38;5;28mself\u001B[39m\u001B[38;5;241m.\u001B[39m_send_request(method, url, body, headers, encode_chunked)\n",
      "File \u001B[1;32mC:\\ProgramData\\anaconda3\\Lib\\http\\client.py:1332\u001B[0m, in \u001B[0;36mHTTPConnection._send_request\u001B[1;34m(self, method, url, body, headers, encode_chunked)\u001B[0m\n\u001B[0;32m   1331\u001B[0m     body \u001B[38;5;241m=\u001B[39m _encode(body, \u001B[38;5;124m'\u001B[39m\u001B[38;5;124mbody\u001B[39m\u001B[38;5;124m'\u001B[39m)\n\u001B[1;32m-> 1332\u001B[0m \u001B[38;5;28mself\u001B[39m\u001B[38;5;241m.\u001B[39mendheaders(body, encode_chunked\u001B[38;5;241m=\u001B[39mencode_chunked)\n",
      "File \u001B[1;32mC:\\ProgramData\\anaconda3\\Lib\\http\\client.py:1281\u001B[0m, in \u001B[0;36mHTTPConnection.endheaders\u001B[1;34m(self, message_body, encode_chunked)\u001B[0m\n\u001B[0;32m   1280\u001B[0m     \u001B[38;5;28;01mraise\u001B[39;00m CannotSendHeader()\n\u001B[1;32m-> 1281\u001B[0m \u001B[38;5;28mself\u001B[39m\u001B[38;5;241m.\u001B[39m_send_output(message_body, encode_chunked\u001B[38;5;241m=\u001B[39mencode_chunked)\n",
      "File \u001B[1;32mC:\\ProgramData\\anaconda3\\Lib\\http\\client.py:1041\u001B[0m, in \u001B[0;36mHTTPConnection._send_output\u001B[1;34m(self, message_body, encode_chunked)\u001B[0m\n\u001B[0;32m   1040\u001B[0m \u001B[38;5;28;01mdel\u001B[39;00m \u001B[38;5;28mself\u001B[39m\u001B[38;5;241m.\u001B[39m_buffer[:]\n\u001B[1;32m-> 1041\u001B[0m \u001B[38;5;28mself\u001B[39m\u001B[38;5;241m.\u001B[39msend(msg)\n\u001B[0;32m   1043\u001B[0m \u001B[38;5;28;01mif\u001B[39;00m message_body \u001B[38;5;129;01mis\u001B[39;00m \u001B[38;5;129;01mnot\u001B[39;00m \u001B[38;5;28;01mNone\u001B[39;00m:\n\u001B[0;32m   1044\u001B[0m \n\u001B[0;32m   1045\u001B[0m     \u001B[38;5;66;03m# create a consistent interface to message_body\u001B[39;00m\n",
      "File \u001B[1;32mC:\\ProgramData\\anaconda3\\Lib\\http\\client.py:979\u001B[0m, in \u001B[0;36mHTTPConnection.send\u001B[1;34m(self, data)\u001B[0m\n\u001B[0;32m    978\u001B[0m \u001B[38;5;28;01mif\u001B[39;00m \u001B[38;5;28mself\u001B[39m\u001B[38;5;241m.\u001B[39mauto_open:\n\u001B[1;32m--> 979\u001B[0m     \u001B[38;5;28mself\u001B[39m\u001B[38;5;241m.\u001B[39mconnect()\n\u001B[0;32m    980\u001B[0m \u001B[38;5;28;01melse\u001B[39;00m:\n",
      "File \u001B[1;32mC:\\ProgramData\\anaconda3\\Lib\\site-packages\\urllib3\\connection.py:205\u001B[0m, in \u001B[0;36mHTTPConnection.connect\u001B[1;34m(self)\u001B[0m\n\u001B[0;32m    204\u001B[0m \u001B[38;5;28;01mdef\u001B[39;00m \u001B[38;5;21mconnect\u001B[39m(\u001B[38;5;28mself\u001B[39m):\n\u001B[1;32m--> 205\u001B[0m     conn \u001B[38;5;241m=\u001B[39m \u001B[38;5;28mself\u001B[39m\u001B[38;5;241m.\u001B[39m_new_conn()\n\u001B[0;32m    206\u001B[0m     \u001B[38;5;28mself\u001B[39m\u001B[38;5;241m.\u001B[39m_prepare_conn(conn)\n",
      "File \u001B[1;32mC:\\ProgramData\\anaconda3\\Lib\\site-packages\\urllib3\\connection.py:186\u001B[0m, in \u001B[0;36mHTTPConnection._new_conn\u001B[1;34m(self)\u001B[0m\n\u001B[0;32m    185\u001B[0m \u001B[38;5;28;01mexcept\u001B[39;00m SocketError \u001B[38;5;28;01mas\u001B[39;00m e:\n\u001B[1;32m--> 186\u001B[0m     \u001B[38;5;28;01mraise\u001B[39;00m NewConnectionError(\n\u001B[0;32m    187\u001B[0m         \u001B[38;5;28mself\u001B[39m, \u001B[38;5;124m\"\u001B[39m\u001B[38;5;124mFailed to establish a new connection: \u001B[39m\u001B[38;5;132;01m%s\u001B[39;00m\u001B[38;5;124m\"\u001B[39m \u001B[38;5;241m%\u001B[39m e\n\u001B[0;32m    188\u001B[0m     )\n\u001B[0;32m    190\u001B[0m \u001B[38;5;28;01mreturn\u001B[39;00m conn\n",
      "\u001B[1;31mNewConnectionError\u001B[0m: <urllib3.connection.HTTPConnection object at 0x0000028A331569D0>: Failed to establish a new connection: [WinError 10049] Требуемый адрес для своего контекста неверен",
      "\nDuring handling of the above exception, another exception occurred:\n",
      "\u001B[1;31mMaxRetryError\u001B[0m                             Traceback (most recent call last)",
      "File \u001B[1;32mC:\\ProgramData\\anaconda3\\Lib\\site-packages\\requests\\adapters.py:486\u001B[0m, in \u001B[0;36mHTTPAdapter.send\u001B[1;34m(self, request, stream, timeout, verify, cert, proxies)\u001B[0m\n\u001B[0;32m    485\u001B[0m \u001B[38;5;28;01mtry\u001B[39;00m:\n\u001B[1;32m--> 486\u001B[0m     resp \u001B[38;5;241m=\u001B[39m conn\u001B[38;5;241m.\u001B[39murlopen(\n\u001B[0;32m    487\u001B[0m         method\u001B[38;5;241m=\u001B[39mrequest\u001B[38;5;241m.\u001B[39mmethod,\n\u001B[0;32m    488\u001B[0m         url\u001B[38;5;241m=\u001B[39murl,\n\u001B[0;32m    489\u001B[0m         body\u001B[38;5;241m=\u001B[39mrequest\u001B[38;5;241m.\u001B[39mbody,\n\u001B[0;32m    490\u001B[0m         headers\u001B[38;5;241m=\u001B[39mrequest\u001B[38;5;241m.\u001B[39mheaders,\n\u001B[0;32m    491\u001B[0m         redirect\u001B[38;5;241m=\u001B[39m\u001B[38;5;28;01mFalse\u001B[39;00m,\n\u001B[0;32m    492\u001B[0m         assert_same_host\u001B[38;5;241m=\u001B[39m\u001B[38;5;28;01mFalse\u001B[39;00m,\n\u001B[0;32m    493\u001B[0m         preload_content\u001B[38;5;241m=\u001B[39m\u001B[38;5;28;01mFalse\u001B[39;00m,\n\u001B[0;32m    494\u001B[0m         decode_content\u001B[38;5;241m=\u001B[39m\u001B[38;5;28;01mFalse\u001B[39;00m,\n\u001B[0;32m    495\u001B[0m         retries\u001B[38;5;241m=\u001B[39m\u001B[38;5;28mself\u001B[39m\u001B[38;5;241m.\u001B[39mmax_retries,\n\u001B[0;32m    496\u001B[0m         timeout\u001B[38;5;241m=\u001B[39mtimeout,\n\u001B[0;32m    497\u001B[0m         chunked\u001B[38;5;241m=\u001B[39mchunked,\n\u001B[0;32m    498\u001B[0m     )\n\u001B[0;32m    500\u001B[0m \u001B[38;5;28;01mexcept\u001B[39;00m (ProtocolError, \u001B[38;5;167;01mOSError\u001B[39;00m) \u001B[38;5;28;01mas\u001B[39;00m err:\n",
      "File \u001B[1;32mC:\\ProgramData\\anaconda3\\Lib\\site-packages\\urllib3\\connectionpool.py:798\u001B[0m, in \u001B[0;36mHTTPConnectionPool.urlopen\u001B[1;34m(self, method, url, body, headers, retries, redirect, assert_same_host, timeout, pool_timeout, release_conn, chunked, body_pos, **response_kw)\u001B[0m\n\u001B[0;32m    796\u001B[0m     e \u001B[38;5;241m=\u001B[39m ProtocolError(\u001B[38;5;124m\"\u001B[39m\u001B[38;5;124mConnection aborted.\u001B[39m\u001B[38;5;124m\"\u001B[39m, e)\n\u001B[1;32m--> 798\u001B[0m retries \u001B[38;5;241m=\u001B[39m retries\u001B[38;5;241m.\u001B[39mincrement(\n\u001B[0;32m    799\u001B[0m     method, url, error\u001B[38;5;241m=\u001B[39me, _pool\u001B[38;5;241m=\u001B[39m\u001B[38;5;28mself\u001B[39m, _stacktrace\u001B[38;5;241m=\u001B[39msys\u001B[38;5;241m.\u001B[39mexc_info()[\u001B[38;5;241m2\u001B[39m]\n\u001B[0;32m    800\u001B[0m )\n\u001B[0;32m    801\u001B[0m retries\u001B[38;5;241m.\u001B[39msleep()\n",
      "File \u001B[1;32mC:\\ProgramData\\anaconda3\\Lib\\site-packages\\urllib3\\util\\retry.py:592\u001B[0m, in \u001B[0;36mRetry.increment\u001B[1;34m(self, method, url, response, error, _pool, _stacktrace)\u001B[0m\n\u001B[0;32m    591\u001B[0m \u001B[38;5;28;01mif\u001B[39;00m new_retry\u001B[38;5;241m.\u001B[39mis_exhausted():\n\u001B[1;32m--> 592\u001B[0m     \u001B[38;5;28;01mraise\u001B[39;00m MaxRetryError(_pool, url, error \u001B[38;5;129;01mor\u001B[39;00m ResponseError(cause))\n\u001B[0;32m    594\u001B[0m log\u001B[38;5;241m.\u001B[39mdebug(\u001B[38;5;124m\"\u001B[39m\u001B[38;5;124mIncremented Retry for (url=\u001B[39m\u001B[38;5;124m'\u001B[39m\u001B[38;5;132;01m%s\u001B[39;00m\u001B[38;5;124m'\u001B[39m\u001B[38;5;124m): \u001B[39m\u001B[38;5;132;01m%r\u001B[39;00m\u001B[38;5;124m\"\u001B[39m, url, new_retry)\n",
      "\u001B[1;31mMaxRetryError\u001B[0m: HTTPConnectionPool(host='0.0.0.0', port=8050): Max retries exceeded with url: /_alive_82655955-8bd4-4f4a-b0de-ee79d97bbb17 (Caused by NewConnectionError('<urllib3.connection.HTTPConnection object at 0x0000028A331569D0>: Failed to establish a new connection: [WinError 10049] Требуемый адрес для своего контекста неверен'))",
      "\nDuring handling of the above exception, another exception occurred:\n",
      "\u001B[1;31mConnectionError\u001B[0m                           Traceback (most recent call last)",
      "Cell \u001B[1;32mIn[35], line 1\u001B[0m\n\u001B[1;32m----> 1\u001B[0m db\u001B[38;5;241m.\u001B[39mrun()\n",
      "File \u001B[1;32m~\\AppData\\Roaming\\Python\\Python311\\site-packages\\explainerdashboard\\dashboards.py:1278\u001B[0m, in \u001B[0;36mExplainerDashboard.run\u001B[1;34m(self, port, host, use_waitress, mode, **kwargs)\u001B[0m\n\u001B[0;32m   1276\u001B[0m         serve(app\u001B[38;5;241m.\u001B[39mserver, host\u001B[38;5;241m=\u001B[39mhost, port\u001B[38;5;241m=\u001B[39mport)\n\u001B[0;32m   1277\u001B[0m     \u001B[38;5;28;01melse\u001B[39;00m:\n\u001B[1;32m-> 1278\u001B[0m         app\u001B[38;5;241m.\u001B[39mrun_server(port\u001B[38;5;241m=\u001B[39mport, host\u001B[38;5;241m=\u001B[39mhost, \u001B[38;5;241m*\u001B[39m\u001B[38;5;241m*\u001B[39mkwargs)\n\u001B[0;32m   1279\u001B[0m \u001B[38;5;28;01melse\u001B[39;00m:\n\u001B[0;32m   1280\u001B[0m     \u001B[38;5;28;01mif\u001B[39;00m \u001B[38;5;28mself\u001B[39m\u001B[38;5;241m.\u001B[39mmode \u001B[38;5;241m==\u001B[39m \u001B[38;5;124m\"\u001B[39m\u001B[38;5;124mdash\u001B[39m\u001B[38;5;124m\"\u001B[39m:\n",
      "File \u001B[1;32m~\\AppData\\Roaming\\Python\\Python311\\site-packages\\dash\\dash.py:2223\u001B[0m, in \u001B[0;36mDash.run_server\u001B[1;34m(self, *args, **kwargs)\u001B[0m\n\u001B[0;32m   2217\u001B[0m \u001B[38;5;28;01mdef\u001B[39;00m \u001B[38;5;21mrun_server\u001B[39m(\u001B[38;5;28mself\u001B[39m, \u001B[38;5;241m*\u001B[39margs, \u001B[38;5;241m*\u001B[39m\u001B[38;5;241m*\u001B[39mkwargs):\n\u001B[0;32m   2218\u001B[0m \u001B[38;5;250m    \u001B[39m\u001B[38;5;124;03m\"\"\"`run_server` is a deprecated alias of `run` and may be removed in a\u001B[39;00m\n\u001B[0;32m   2219\u001B[0m \u001B[38;5;124;03m    future version. We recommend using `app.run` instead.\u001B[39;00m\n\u001B[0;32m   2220\u001B[0m \n\u001B[0;32m   2221\u001B[0m \u001B[38;5;124;03m    See `app.run` for usage information.\u001B[39;00m\n\u001B[0;32m   2222\u001B[0m \u001B[38;5;124;03m    \"\"\"\u001B[39;00m\n\u001B[1;32m-> 2223\u001B[0m     \u001B[38;5;28mself\u001B[39m\u001B[38;5;241m.\u001B[39mrun(\u001B[38;5;241m*\u001B[39margs, \u001B[38;5;241m*\u001B[39m\u001B[38;5;241m*\u001B[39mkwargs)\n",
      "File \u001B[1;32m~\\AppData\\Roaming\\Python\\Python311\\site-packages\\dash\\dash.py:2114\u001B[0m, in \u001B[0;36mDash.run\u001B[1;34m(self, host, port, proxy, debug, jupyter_mode, jupyter_width, jupyter_height, jupyter_server_url, dev_tools_ui, dev_tools_props_check, dev_tools_serve_dev_bundles, dev_tools_hot_reload, dev_tools_hot_reload_interval, dev_tools_hot_reload_watch_interval, dev_tools_hot_reload_max_retry, dev_tools_silence_routes_logging, dev_tools_prune_errors, **flask_run_options)\u001B[0m\n\u001B[0;32m   2111\u001B[0m             extra_files\u001B[38;5;241m.\u001B[39mappend(path)\n\u001B[0;32m   2113\u001B[0m \u001B[38;5;28;01mif\u001B[39;00m jupyter_dash\u001B[38;5;241m.\u001B[39mactive:\n\u001B[1;32m-> 2114\u001B[0m     jupyter_dash\u001B[38;5;241m.\u001B[39mrun_app(\n\u001B[0;32m   2115\u001B[0m         \u001B[38;5;28mself\u001B[39m,\n\u001B[0;32m   2116\u001B[0m         mode\u001B[38;5;241m=\u001B[39mjupyter_mode,\n\u001B[0;32m   2117\u001B[0m         width\u001B[38;5;241m=\u001B[39mjupyter_width,\n\u001B[0;32m   2118\u001B[0m         height\u001B[38;5;241m=\u001B[39mjupyter_height,\n\u001B[0;32m   2119\u001B[0m         host\u001B[38;5;241m=\u001B[39mhost,\n\u001B[0;32m   2120\u001B[0m         port\u001B[38;5;241m=\u001B[39mport,\n\u001B[0;32m   2121\u001B[0m         server_url\u001B[38;5;241m=\u001B[39mjupyter_server_url,\n\u001B[0;32m   2122\u001B[0m     )\n\u001B[0;32m   2123\u001B[0m \u001B[38;5;28;01melse\u001B[39;00m:\n\u001B[0;32m   2124\u001B[0m     \u001B[38;5;28mself\u001B[39m\u001B[38;5;241m.\u001B[39mserver\u001B[38;5;241m.\u001B[39mrun(host\u001B[38;5;241m=\u001B[39mhost, port\u001B[38;5;241m=\u001B[39mport, debug\u001B[38;5;241m=\u001B[39mdebug, \u001B[38;5;241m*\u001B[39m\u001B[38;5;241m*\u001B[39mflask_run_options)\n",
      "File \u001B[1;32m~\\AppData\\Roaming\\Python\\Python311\\site-packages\\dash\\_jupyter.py:404\u001B[0m, in \u001B[0;36mJupyterDash.run_app\u001B[1;34m(self, app, mode, width, height, host, port, server_url)\u001B[0m\n\u001B[0;32m    402\u001B[0m     display(HTML(msg))\n\u001B[0;32m    403\u001B[0m \u001B[38;5;28;01melse\u001B[39;00m:\n\u001B[1;32m--> 404\u001B[0m     \u001B[38;5;28;01mraise\u001B[39;00m final_error\n",
      "File \u001B[1;32m~\\AppData\\Roaming\\Python\\Python311\\site-packages\\dash\\_jupyter.py:391\u001B[0m, in \u001B[0;36mJupyterDash.run_app\u001B[1;34m(self, app, mode, width, height, host, port, server_url)\u001B[0m\n\u001B[0;32m    388\u001B[0m         \u001B[38;5;28;01mraise\u001B[39;00m err\n\u001B[0;32m    390\u001B[0m \u001B[38;5;28;01mtry\u001B[39;00m:\n\u001B[1;32m--> 391\u001B[0m     wait_for_app()\n\u001B[0;32m    393\u001B[0m     \u001B[38;5;28;01mif\u001B[39;00m \u001B[38;5;28mself\u001B[39m\u001B[38;5;241m.\u001B[39min_colab:\n\u001B[0;32m    394\u001B[0m         JupyterDash\u001B[38;5;241m.\u001B[39m_display_in_colab(dashboard_url, port, mode, width, height)\n",
      "File \u001B[1;32m~\\AppData\\Roaming\\Python\\Python311\\site-packages\\retrying.py:56\u001B[0m, in \u001B[0;36mretry.<locals>.wrap.<locals>.wrapped_f\u001B[1;34m(*args, **kw)\u001B[0m\n\u001B[0;32m     54\u001B[0m \u001B[38;5;129m@six\u001B[39m\u001B[38;5;241m.\u001B[39mwraps(f)\n\u001B[0;32m     55\u001B[0m \u001B[38;5;28;01mdef\u001B[39;00m \u001B[38;5;21mwrapped_f\u001B[39m(\u001B[38;5;241m*\u001B[39margs, \u001B[38;5;241m*\u001B[39m\u001B[38;5;241m*\u001B[39mkw):\n\u001B[1;32m---> 56\u001B[0m     \u001B[38;5;28;01mreturn\u001B[39;00m Retrying(\u001B[38;5;241m*\u001B[39mdargs, \u001B[38;5;241m*\u001B[39m\u001B[38;5;241m*\u001B[39mdkw)\u001B[38;5;241m.\u001B[39mcall(f, \u001B[38;5;241m*\u001B[39margs, \u001B[38;5;241m*\u001B[39m\u001B[38;5;241m*\u001B[39mkw)\n",
      "File \u001B[1;32m~\\AppData\\Roaming\\Python\\Python311\\site-packages\\retrying.py:266\u001B[0m, in \u001B[0;36mRetrying.call\u001B[1;34m(self, fn, *args, **kwargs)\u001B[0m\n\u001B[0;32m    263\u001B[0m \u001B[38;5;28;01mif\u001B[39;00m \u001B[38;5;28mself\u001B[39m\u001B[38;5;241m.\u001B[39mstop(attempt_number, delay_since_first_attempt_ms):\n\u001B[0;32m    264\u001B[0m     \u001B[38;5;28;01mif\u001B[39;00m \u001B[38;5;129;01mnot\u001B[39;00m \u001B[38;5;28mself\u001B[39m\u001B[38;5;241m.\u001B[39m_wrap_exception \u001B[38;5;129;01mand\u001B[39;00m attempt\u001B[38;5;241m.\u001B[39mhas_exception:\n\u001B[0;32m    265\u001B[0m         \u001B[38;5;66;03m# get() on an attempt with an exception should cause it to be raised, but raise just in case\u001B[39;00m\n\u001B[1;32m--> 266\u001B[0m         \u001B[38;5;28;01mraise\u001B[39;00m attempt\u001B[38;5;241m.\u001B[39mget()\n\u001B[0;32m    267\u001B[0m     \u001B[38;5;28;01melse\u001B[39;00m:\n\u001B[0;32m    268\u001B[0m         \u001B[38;5;28;01mraise\u001B[39;00m RetryError(attempt)\n",
      "File \u001B[1;32m~\\AppData\\Roaming\\Python\\Python311\\site-packages\\retrying.py:301\u001B[0m, in \u001B[0;36mAttempt.get\u001B[1;34m(self, wrap_exception)\u001B[0m\n\u001B[0;32m    299\u001B[0m         \u001B[38;5;28;01mraise\u001B[39;00m RetryError(\u001B[38;5;28mself\u001B[39m)\n\u001B[0;32m    300\u001B[0m     \u001B[38;5;28;01melse\u001B[39;00m:\n\u001B[1;32m--> 301\u001B[0m         six\u001B[38;5;241m.\u001B[39mreraise(\u001B[38;5;28mself\u001B[39m\u001B[38;5;241m.\u001B[39mvalue[\u001B[38;5;241m0\u001B[39m], \u001B[38;5;28mself\u001B[39m\u001B[38;5;241m.\u001B[39mvalue[\u001B[38;5;241m1\u001B[39m], \u001B[38;5;28mself\u001B[39m\u001B[38;5;241m.\u001B[39mvalue[\u001B[38;5;241m2\u001B[39m])\n\u001B[0;32m    302\u001B[0m \u001B[38;5;28;01melse\u001B[39;00m:\n\u001B[0;32m    303\u001B[0m     \u001B[38;5;28;01mreturn\u001B[39;00m \u001B[38;5;28mself\u001B[39m\u001B[38;5;241m.\u001B[39mvalue\n",
      "File \u001B[1;32mC:\\ProgramData\\anaconda3\\Lib\\site-packages\\six.py:719\u001B[0m, in \u001B[0;36mreraise\u001B[1;34m(tp, value, tb)\u001B[0m\n\u001B[0;32m    717\u001B[0m     \u001B[38;5;28;01mif\u001B[39;00m value\u001B[38;5;241m.\u001B[39m__traceback__ \u001B[38;5;129;01mis\u001B[39;00m \u001B[38;5;129;01mnot\u001B[39;00m tb:\n\u001B[0;32m    718\u001B[0m         \u001B[38;5;28;01mraise\u001B[39;00m value\u001B[38;5;241m.\u001B[39mwith_traceback(tb)\n\u001B[1;32m--> 719\u001B[0m     \u001B[38;5;28;01mraise\u001B[39;00m value\n\u001B[0;32m    720\u001B[0m \u001B[38;5;28;01mfinally\u001B[39;00m:\n\u001B[0;32m    721\u001B[0m     value \u001B[38;5;241m=\u001B[39m \u001B[38;5;28;01mNone\u001B[39;00m\n",
      "File \u001B[1;32m~\\AppData\\Roaming\\Python\\Python311\\site-packages\\retrying.py:251\u001B[0m, in \u001B[0;36mRetrying.call\u001B[1;34m(self, fn, *args, **kwargs)\u001B[0m\n\u001B[0;32m    248\u001B[0m     \u001B[38;5;28mself\u001B[39m\u001B[38;5;241m.\u001B[39m_before_attempts(attempt_number)\n\u001B[0;32m    250\u001B[0m \u001B[38;5;28;01mtry\u001B[39;00m:\n\u001B[1;32m--> 251\u001B[0m     attempt \u001B[38;5;241m=\u001B[39m Attempt(fn(\u001B[38;5;241m*\u001B[39margs, \u001B[38;5;241m*\u001B[39m\u001B[38;5;241m*\u001B[39mkwargs), attempt_number, \u001B[38;5;28;01mFalse\u001B[39;00m)\n\u001B[0;32m    252\u001B[0m \u001B[38;5;28;01mexcept\u001B[39;00m:\n\u001B[0;32m    253\u001B[0m     tb \u001B[38;5;241m=\u001B[39m sys\u001B[38;5;241m.\u001B[39mexc_info()\n",
      "File \u001B[1;32m~\\AppData\\Roaming\\Python\\Python311\\site-packages\\dash\\_jupyter.py:388\u001B[0m, in \u001B[0;36mJupyterDash.run_app.<locals>.wait_for_app\u001B[1;34m()\u001B[0m\n\u001B[0;32m    386\u001B[0m \u001B[38;5;28;01mexcept\u001B[39;00m requests\u001B[38;5;241m.\u001B[39mConnectionError \u001B[38;5;28;01mas\u001B[39;00m err:\n\u001B[0;32m    387\u001B[0m     _get_error()\n\u001B[1;32m--> 388\u001B[0m     \u001B[38;5;28;01mraise\u001B[39;00m err\n",
      "File \u001B[1;32m~\\AppData\\Roaming\\Python\\Python311\\site-packages\\dash\\_jupyter.py:375\u001B[0m, in \u001B[0;36mJupyterDash.run_app.<locals>.wait_for_app\u001B[1;34m()\u001B[0m\n\u001B[0;32m    373\u001B[0m _get_error()\n\u001B[0;32m    374\u001B[0m \u001B[38;5;28;01mtry\u001B[39;00m:\n\u001B[1;32m--> 375\u001B[0m     req \u001B[38;5;241m=\u001B[39m requests\u001B[38;5;241m.\u001B[39mget(alive_url)\n\u001B[0;32m    376\u001B[0m     res \u001B[38;5;241m=\u001B[39m req\u001B[38;5;241m.\u001B[39mcontent\u001B[38;5;241m.\u001B[39mdecode()\n\u001B[0;32m    377\u001B[0m     \u001B[38;5;28;01mif\u001B[39;00m req\u001B[38;5;241m.\u001B[39mstatus_code \u001B[38;5;241m!=\u001B[39m \u001B[38;5;241m200\u001B[39m:\n",
      "File \u001B[1;32mC:\\ProgramData\\anaconda3\\Lib\\site-packages\\requests\\api.py:73\u001B[0m, in \u001B[0;36mget\u001B[1;34m(url, params, **kwargs)\u001B[0m\n\u001B[0;32m     62\u001B[0m \u001B[38;5;28;01mdef\u001B[39;00m \u001B[38;5;21mget\u001B[39m(url, params\u001B[38;5;241m=\u001B[39m\u001B[38;5;28;01mNone\u001B[39;00m, \u001B[38;5;241m*\u001B[39m\u001B[38;5;241m*\u001B[39mkwargs):\n\u001B[0;32m     63\u001B[0m \u001B[38;5;250m    \u001B[39m\u001B[38;5;124mr\u001B[39m\u001B[38;5;124;03m\"\"\"Sends a GET request.\u001B[39;00m\n\u001B[0;32m     64\u001B[0m \n\u001B[0;32m     65\u001B[0m \u001B[38;5;124;03m    :param url: URL for the new :class:`Request` object.\u001B[39;00m\n\u001B[1;32m   (...)\u001B[0m\n\u001B[0;32m     70\u001B[0m \u001B[38;5;124;03m    :rtype: requests.Response\u001B[39;00m\n\u001B[0;32m     71\u001B[0m \u001B[38;5;124;03m    \"\"\"\u001B[39;00m\n\u001B[1;32m---> 73\u001B[0m     \u001B[38;5;28;01mreturn\u001B[39;00m request(\u001B[38;5;124m\"\u001B[39m\u001B[38;5;124mget\u001B[39m\u001B[38;5;124m\"\u001B[39m, url, params\u001B[38;5;241m=\u001B[39mparams, \u001B[38;5;241m*\u001B[39m\u001B[38;5;241m*\u001B[39mkwargs)\n",
      "File \u001B[1;32mC:\\ProgramData\\anaconda3\\Lib\\site-packages\\requests\\api.py:59\u001B[0m, in \u001B[0;36mrequest\u001B[1;34m(method, url, **kwargs)\u001B[0m\n\u001B[0;32m     55\u001B[0m \u001B[38;5;66;03m# By using the 'with' statement we are sure the session is closed, thus we\u001B[39;00m\n\u001B[0;32m     56\u001B[0m \u001B[38;5;66;03m# avoid leaving sockets open which can trigger a ResourceWarning in some\u001B[39;00m\n\u001B[0;32m     57\u001B[0m \u001B[38;5;66;03m# cases, and look like a memory leak in others.\u001B[39;00m\n\u001B[0;32m     58\u001B[0m \u001B[38;5;28;01mwith\u001B[39;00m sessions\u001B[38;5;241m.\u001B[39mSession() \u001B[38;5;28;01mas\u001B[39;00m session:\n\u001B[1;32m---> 59\u001B[0m     \u001B[38;5;28;01mreturn\u001B[39;00m session\u001B[38;5;241m.\u001B[39mrequest(method\u001B[38;5;241m=\u001B[39mmethod, url\u001B[38;5;241m=\u001B[39murl, \u001B[38;5;241m*\u001B[39m\u001B[38;5;241m*\u001B[39mkwargs)\n",
      "File \u001B[1;32mC:\\ProgramData\\anaconda3\\Lib\\site-packages\\requests\\sessions.py:589\u001B[0m, in \u001B[0;36mSession.request\u001B[1;34m(self, method, url, params, data, headers, cookies, files, auth, timeout, allow_redirects, proxies, hooks, stream, verify, cert, json)\u001B[0m\n\u001B[0;32m    584\u001B[0m send_kwargs \u001B[38;5;241m=\u001B[39m {\n\u001B[0;32m    585\u001B[0m     \u001B[38;5;124m\"\u001B[39m\u001B[38;5;124mtimeout\u001B[39m\u001B[38;5;124m\"\u001B[39m: timeout,\n\u001B[0;32m    586\u001B[0m     \u001B[38;5;124m\"\u001B[39m\u001B[38;5;124mallow_redirects\u001B[39m\u001B[38;5;124m\"\u001B[39m: allow_redirects,\n\u001B[0;32m    587\u001B[0m }\n\u001B[0;32m    588\u001B[0m send_kwargs\u001B[38;5;241m.\u001B[39mupdate(settings)\n\u001B[1;32m--> 589\u001B[0m resp \u001B[38;5;241m=\u001B[39m \u001B[38;5;28mself\u001B[39m\u001B[38;5;241m.\u001B[39msend(prep, \u001B[38;5;241m*\u001B[39m\u001B[38;5;241m*\u001B[39msend_kwargs)\n\u001B[0;32m    591\u001B[0m \u001B[38;5;28;01mreturn\u001B[39;00m resp\n",
      "File \u001B[1;32mC:\\ProgramData\\anaconda3\\Lib\\site-packages\\requests\\sessions.py:703\u001B[0m, in \u001B[0;36mSession.send\u001B[1;34m(self, request, **kwargs)\u001B[0m\n\u001B[0;32m    700\u001B[0m start \u001B[38;5;241m=\u001B[39m preferred_clock()\n\u001B[0;32m    702\u001B[0m \u001B[38;5;66;03m# Send the request\u001B[39;00m\n\u001B[1;32m--> 703\u001B[0m r \u001B[38;5;241m=\u001B[39m adapter\u001B[38;5;241m.\u001B[39msend(request, \u001B[38;5;241m*\u001B[39m\u001B[38;5;241m*\u001B[39mkwargs)\n\u001B[0;32m    705\u001B[0m \u001B[38;5;66;03m# Total elapsed time of the request (approximately)\u001B[39;00m\n\u001B[0;32m    706\u001B[0m elapsed \u001B[38;5;241m=\u001B[39m preferred_clock() \u001B[38;5;241m-\u001B[39m start\n",
      "File \u001B[1;32mC:\\ProgramData\\anaconda3\\Lib\\site-packages\\requests\\adapters.py:519\u001B[0m, in \u001B[0;36mHTTPAdapter.send\u001B[1;34m(self, request, stream, timeout, verify, cert, proxies)\u001B[0m\n\u001B[0;32m    515\u001B[0m     \u001B[38;5;28;01mif\u001B[39;00m \u001B[38;5;28misinstance\u001B[39m(e\u001B[38;5;241m.\u001B[39mreason, _SSLError):\n\u001B[0;32m    516\u001B[0m         \u001B[38;5;66;03m# This branch is for urllib3 v1.22 and later.\u001B[39;00m\n\u001B[0;32m    517\u001B[0m         \u001B[38;5;28;01mraise\u001B[39;00m SSLError(e, request\u001B[38;5;241m=\u001B[39mrequest)\n\u001B[1;32m--> 519\u001B[0m     \u001B[38;5;28;01mraise\u001B[39;00m \u001B[38;5;167;01mConnectionError\u001B[39;00m(e, request\u001B[38;5;241m=\u001B[39mrequest)\n\u001B[0;32m    521\u001B[0m \u001B[38;5;28;01mexcept\u001B[39;00m ClosedPoolError \u001B[38;5;28;01mas\u001B[39;00m e:\n\u001B[0;32m    522\u001B[0m     \u001B[38;5;28;01mraise\u001B[39;00m \u001B[38;5;167;01mConnectionError\u001B[39;00m(e, request\u001B[38;5;241m=\u001B[39mrequest)\n",
      "\u001B[1;31mConnectionError\u001B[0m: HTTPConnectionPool(host='0.0.0.0', port=8050): Max retries exceeded with url: /_alive_82655955-8bd4-4f4a-b0de-ee79d97bbb17 (Caused by NewConnectionError('<urllib3.connection.HTTPConnection object at 0x0000028A331569D0>: Failed to establish a new connection: [WinError 10049] Требуемый адрес для своего контекста неверен'))"
     ]
    }
   ],
   "source": [
    "db.run()"
   ]
  },
  {
   "cell_type": "markdown",
   "metadata": {
    "id": "zQlvU509qRVV"
   },
   "source": [
    "# Домашнее задание\n",
    "\n",
    "## KNN для задачи регрессии"
   ]
  },
  {
   "cell_type": "code",
   "execution_count": 40,
   "metadata": {
    "id": "VOMTPi82rAup",
    "ExecuteTime": {
     "end_time": "2024-03-30T17:47:21.100102Z",
     "start_time": "2024-03-30T17:47:21.092503Z"
    }
   },
   "outputs": [],
   "source": [
    "X = df[['carat','depth','table',\"'x'\",\"'y'\",\"'z'\"]]\n",
    "y_reg = df['price']"
   ]
  },
  {
   "cell_type": "code",
   "execution_count": 37,
   "metadata": {
    "id": "4ohmy41P8gVy",
    "ExecuteTime": {
     "end_time": "2024-03-30T14:40:53.647395Z",
     "start_time": "2024-03-30T14:40:53.643407Z"
    }
   },
   "outputs": [],
   "source": [
    "from sklearn.neighbors import KNeighborsRegressor\n",
    "\n",
    "knn_reg = KNeighborsRegressor()"
   ]
  },
  {
   "cell_type": "markdown",
   "metadata": {
    "id": "12vIUr4XAxgd"
   },
   "source": [
    "### Задание 1\n",
    "\n",
    "Чему равна ошибка MAE на кросс-валидации с тремя фолдами? Ответ округлите до целого числа."
   ]
  },
  {
   "cell_type": "code",
   "execution_count": 38,
   "metadata": {
    "id": "Zcy1vEgfrJYO",
    "ExecuteTime": {
     "end_time": "2024-03-30T14:43:13.278092Z",
     "start_time": "2024-03-30T14:43:13.273783Z"
    }
   },
   "outputs": [],
   "source": [
    "from sklearn.metrics import mean_absolute_error \n",
    "from  sklearn.model_selection import cross_val_score"
   ]
  },
  {
   "cell_type": "code",
   "outputs": [
    {
     "data": {
      "text/plain": "-1959.3290809404327"
     },
     "execution_count": 40,
     "metadata": {},
     "output_type": "execute_result"
    }
   ],
   "source": [
    "cross_val_score(knn_reg,X,y,scoring='neg_mean_absolute_error',n_jobs=-1,cv=3).mean()"
   ],
   "metadata": {
    "collapsed": false,
    "ExecuteTime": {
     "end_time": "2024-03-30T14:46:29.124542Z",
     "start_time": "2024-03-30T14:46:26.111880Z"
    }
   },
   "execution_count": 40
  },
  {
   "cell_type": "markdown",
   "source": [],
   "metadata": {
    "collapsed": false
   }
  },
  {
   "cell_type": "markdown",
   "source": [],
   "metadata": {
    "collapsed": false
   }
  },
  {
   "cell_type": "markdown",
   "metadata": {
    "id": "8Dx2aI1HA-HY"
   },
   "source": [
    "Разобъем данные на трейн и тест"
   ]
  },
  {
   "cell_type": "code",
   "execution_count": 56,
   "metadata": {
    "id": "ed-QiNSWrOaC",
    "ExecuteTime": {
     "end_time": "2024-03-30T18:02:44.486646Z",
     "start_time": "2024-03-30T18:02:44.469571Z"
    }
   },
   "outputs": [],
   "source": [
    "from sklearn.model_selection import train_test_split\n",
    "\n",
    "X_train, X_test, y_train, y_test = train_test_split(X, y_reg, test_size=0.25, random_state=42)"
   ]
  },
  {
   "cell_type": "markdown",
   "metadata": {
    "id": "3Cnz5wzoBBkS"
   },
   "source": [
    "### Задание 2\n",
    "\n",
    "Обучите KNN с гиперпараметрами по умолчанию на тренировочных данных и вычислите MAE на тесте. Ответ округлите до целого числа."
   ]
  },
  {
   "cell_type": "markdown",
   "source": [],
   "metadata": {
    "collapsed": false
   }
  },
  {
   "cell_type": "code",
   "execution_count": 33,
   "metadata": {
    "id": "sEBV8PUEBBCo",
    "ExecuteTime": {
     "end_time": "2024-03-30T17:41:33.788035Z",
     "start_time": "2024-03-30T17:41:33.784343Z"
    }
   },
   "outputs": [],
   "source": [
    "from sklearn.metrics import mean_absolute_error\n",
    "from sklearn.neighbors import KNeighborsRegressor"
   ]
  },
  {
   "cell_type": "code",
   "outputs": [],
   "source": [
    "knn  = KNeighborsRegressor()"
   ],
   "metadata": {
    "collapsed": false,
    "ExecuteTime": {
     "end_time": "2024-03-30T17:41:52.545418Z",
     "start_time": "2024-03-30T17:41:52.541318Z"
    }
   },
   "execution_count": 35
  },
  {
   "cell_type": "code",
   "outputs": [
    {
     "data": {
      "text/plain": "825.8511596788583"
     },
     "execution_count": 42,
     "metadata": {},
     "output_type": "execute_result"
    }
   ],
   "source": [
    "knn.fit(X_train,y_train)\n",
    "pred = knn.predict(X_test)\n",
    "mean_absolute_error(y_test,pred)"
   ],
   "metadata": {
    "collapsed": false,
    "ExecuteTime": {
     "end_time": "2024-03-30T17:47:34.698548Z",
     "start_time": "2024-03-30T17:47:34.456341Z"
    }
   },
   "execution_count": 42
  },
  {
   "cell_type": "markdown",
   "metadata": {
    "id": "ImQlkf9SCLLE"
   },
   "source": [
    "### Задание 3\n",
    "\n",
    "Подберите по сетке на тренировочных данных гиперпараметры метода:\n",
    "\n",
    "* `n_neighbors` в диапазоне от 2 до 30 не включительно с шагом 2\n",
    "* `weights` - `uniform` или `distance`\n",
    "* `p` - 1 или 2\n",
    "\n",
    "Метрика - `neg_mean_squared_error`, `cv=3`\n",
    "\n",
    "Чему равно число соседей у наилучшей модели?"
   ]
  },
  {
   "cell_type": "code",
   "execution_count": 48,
   "metadata": {
    "id": "8-GNIgZuBZq1",
    "ExecuteTime": {
     "end_time": "2024-03-30T17:55:05.862606Z",
     "start_time": "2024-03-30T17:55:05.859652Z"
    }
   },
   "outputs": [],
   "source": [
    "from sklearn.model_selection import GridSearchCV"
   ]
  },
  {
   "cell_type": "code",
   "outputs": [
    {
     "name": "stdout",
     "output_type": "stream",
     "text": [
      "Fitting 3 folds for each of 56 candidates, totalling 168 fits\n"
     ]
    },
    {
     "data": {
      "text/plain": "GridSearchCV(cv=3, estimator=KNeighborsRegressor(), n_jobs=-1,\n             param_grid={'n_neighbors': array([ 2,  4,  6,  8, 10, 12, 14, 16, 18, 20, 22, 24, 26, 28]),\n                         'p': [1, 2], 'weights': ['uniform', 'distance']},\n             scoring='neg_mean_squared_error', verbose=2)",
      "text/html": "<style>#sk-container-id-2 {\n  /* Definition of color scheme common for light and dark mode */\n  --sklearn-color-text: black;\n  --sklearn-color-line: gray;\n  /* Definition of color scheme for unfitted estimators */\n  --sklearn-color-unfitted-level-0: #fff5e6;\n  --sklearn-color-unfitted-level-1: #f6e4d2;\n  --sklearn-color-unfitted-level-2: #ffe0b3;\n  --sklearn-color-unfitted-level-3: chocolate;\n  /* Definition of color scheme for fitted estimators */\n  --sklearn-color-fitted-level-0: #f0f8ff;\n  --sklearn-color-fitted-level-1: #d4ebff;\n  --sklearn-color-fitted-level-2: #b3dbfd;\n  --sklearn-color-fitted-level-3: cornflowerblue;\n\n  /* Specific color for light theme */\n  --sklearn-color-text-on-default-background: var(--sg-text-color, var(--theme-code-foreground, var(--jp-content-font-color1, black)));\n  --sklearn-color-background: var(--sg-background-color, var(--theme-background, var(--jp-layout-color0, white)));\n  --sklearn-color-border-box: var(--sg-text-color, var(--theme-code-foreground, var(--jp-content-font-color1, black)));\n  --sklearn-color-icon: #696969;\n\n  @media (prefers-color-scheme: dark) {\n    /* Redefinition of color scheme for dark theme */\n    --sklearn-color-text-on-default-background: var(--sg-text-color, var(--theme-code-foreground, var(--jp-content-font-color1, white)));\n    --sklearn-color-background: var(--sg-background-color, var(--theme-background, var(--jp-layout-color0, #111)));\n    --sklearn-color-border-box: var(--sg-text-color, var(--theme-code-foreground, var(--jp-content-font-color1, white)));\n    --sklearn-color-icon: #878787;\n  }\n}\n\n#sk-container-id-2 {\n  color: var(--sklearn-color-text);\n}\n\n#sk-container-id-2 pre {\n  padding: 0;\n}\n\n#sk-container-id-2 input.sk-hidden--visually {\n  border: 0;\n  clip: rect(1px 1px 1px 1px);\n  clip: rect(1px, 1px, 1px, 1px);\n  height: 1px;\n  margin: -1px;\n  overflow: hidden;\n  padding: 0;\n  position: absolute;\n  width: 1px;\n}\n\n#sk-container-id-2 div.sk-dashed-wrapped {\n  border: 1px dashed var(--sklearn-color-line);\n  margin: 0 0.4em 0.5em 0.4em;\n  box-sizing: border-box;\n  padding-bottom: 0.4em;\n  background-color: var(--sklearn-color-background);\n}\n\n#sk-container-id-2 div.sk-container {\n  /* jupyter's `normalize.less` sets `[hidden] { display: none; }`\n     but bootstrap.min.css set `[hidden] { display: none !important; }`\n     so we also need the `!important` here to be able to override the\n     default hidden behavior on the sphinx rendered scikit-learn.org.\n     See: https://github.com/scikit-learn/scikit-learn/issues/21755 */\n  display: inline-block !important;\n  position: relative;\n}\n\n#sk-container-id-2 div.sk-text-repr-fallback {\n  display: none;\n}\n\ndiv.sk-parallel-item,\ndiv.sk-serial,\ndiv.sk-item {\n  /* draw centered vertical line to link estimators */\n  background-image: linear-gradient(var(--sklearn-color-text-on-default-background), var(--sklearn-color-text-on-default-background));\n  background-size: 2px 100%;\n  background-repeat: no-repeat;\n  background-position: center center;\n}\n\n/* Parallel-specific style estimator block */\n\n#sk-container-id-2 div.sk-parallel-item::after {\n  content: \"\";\n  width: 100%;\n  border-bottom: 2px solid var(--sklearn-color-text-on-default-background);\n  flex-grow: 1;\n}\n\n#sk-container-id-2 div.sk-parallel {\n  display: flex;\n  align-items: stretch;\n  justify-content: center;\n  background-color: var(--sklearn-color-background);\n  position: relative;\n}\n\n#sk-container-id-2 div.sk-parallel-item {\n  display: flex;\n  flex-direction: column;\n}\n\n#sk-container-id-2 div.sk-parallel-item:first-child::after {\n  align-self: flex-end;\n  width: 50%;\n}\n\n#sk-container-id-2 div.sk-parallel-item:last-child::after {\n  align-self: flex-start;\n  width: 50%;\n}\n\n#sk-container-id-2 div.sk-parallel-item:only-child::after {\n  width: 0;\n}\n\n/* Serial-specific style estimator block */\n\n#sk-container-id-2 div.sk-serial {\n  display: flex;\n  flex-direction: column;\n  align-items: center;\n  background-color: var(--sklearn-color-background);\n  padding-right: 1em;\n  padding-left: 1em;\n}\n\n\n/* Toggleable style: style used for estimator/Pipeline/ColumnTransformer box that is\nclickable and can be expanded/collapsed.\n- Pipeline and ColumnTransformer use this feature and define the default style\n- Estimators will overwrite some part of the style using the `sk-estimator` class\n*/\n\n/* Pipeline and ColumnTransformer style (default) */\n\n#sk-container-id-2 div.sk-toggleable {\n  /* Default theme specific background. It is overwritten whether we have a\n  specific estimator or a Pipeline/ColumnTransformer */\n  background-color: var(--sklearn-color-background);\n}\n\n/* Toggleable label */\n#sk-container-id-2 label.sk-toggleable__label {\n  cursor: pointer;\n  display: block;\n  width: 100%;\n  margin-bottom: 0;\n  padding: 0.5em;\n  box-sizing: border-box;\n  text-align: center;\n}\n\n#sk-container-id-2 label.sk-toggleable__label-arrow:before {\n  /* Arrow on the left of the label */\n  content: \"▸\";\n  float: left;\n  margin-right: 0.25em;\n  color: var(--sklearn-color-icon);\n}\n\n#sk-container-id-2 label.sk-toggleable__label-arrow:hover:before {\n  color: var(--sklearn-color-text);\n}\n\n/* Toggleable content - dropdown */\n\n#sk-container-id-2 div.sk-toggleable__content {\n  max-height: 0;\n  max-width: 0;\n  overflow: hidden;\n  text-align: left;\n  /* unfitted */\n  background-color: var(--sklearn-color-unfitted-level-0);\n}\n\n#sk-container-id-2 div.sk-toggleable__content.fitted {\n  /* fitted */\n  background-color: var(--sklearn-color-fitted-level-0);\n}\n\n#sk-container-id-2 div.sk-toggleable__content pre {\n  margin: 0.2em;\n  border-radius: 0.25em;\n  color: var(--sklearn-color-text);\n  /* unfitted */\n  background-color: var(--sklearn-color-unfitted-level-0);\n}\n\n#sk-container-id-2 div.sk-toggleable__content.fitted pre {\n  /* unfitted */\n  background-color: var(--sklearn-color-fitted-level-0);\n}\n\n#sk-container-id-2 input.sk-toggleable__control:checked~div.sk-toggleable__content {\n  /* Expand drop-down */\n  max-height: 200px;\n  max-width: 100%;\n  overflow: auto;\n}\n\n#sk-container-id-2 input.sk-toggleable__control:checked~label.sk-toggleable__label-arrow:before {\n  content: \"▾\";\n}\n\n/* Pipeline/ColumnTransformer-specific style */\n\n#sk-container-id-2 div.sk-label input.sk-toggleable__control:checked~label.sk-toggleable__label {\n  color: var(--sklearn-color-text);\n  background-color: var(--sklearn-color-unfitted-level-2);\n}\n\n#sk-container-id-2 div.sk-label.fitted input.sk-toggleable__control:checked~label.sk-toggleable__label {\n  background-color: var(--sklearn-color-fitted-level-2);\n}\n\n/* Estimator-specific style */\n\n/* Colorize estimator box */\n#sk-container-id-2 div.sk-estimator input.sk-toggleable__control:checked~label.sk-toggleable__label {\n  /* unfitted */\n  background-color: var(--sklearn-color-unfitted-level-2);\n}\n\n#sk-container-id-2 div.sk-estimator.fitted input.sk-toggleable__control:checked~label.sk-toggleable__label {\n  /* fitted */\n  background-color: var(--sklearn-color-fitted-level-2);\n}\n\n#sk-container-id-2 div.sk-label label.sk-toggleable__label,\n#sk-container-id-2 div.sk-label label {\n  /* The background is the default theme color */\n  color: var(--sklearn-color-text-on-default-background);\n}\n\n/* On hover, darken the color of the background */\n#sk-container-id-2 div.sk-label:hover label.sk-toggleable__label {\n  color: var(--sklearn-color-text);\n  background-color: var(--sklearn-color-unfitted-level-2);\n}\n\n/* Label box, darken color on hover, fitted */\n#sk-container-id-2 div.sk-label.fitted:hover label.sk-toggleable__label.fitted {\n  color: var(--sklearn-color-text);\n  background-color: var(--sklearn-color-fitted-level-2);\n}\n\n/* Estimator label */\n\n#sk-container-id-2 div.sk-label label {\n  font-family: monospace;\n  font-weight: bold;\n  display: inline-block;\n  line-height: 1.2em;\n}\n\n#sk-container-id-2 div.sk-label-container {\n  text-align: center;\n}\n\n/* Estimator-specific */\n#sk-container-id-2 div.sk-estimator {\n  font-family: monospace;\n  border: 1px dotted var(--sklearn-color-border-box);\n  border-radius: 0.25em;\n  box-sizing: border-box;\n  margin-bottom: 0.5em;\n  /* unfitted */\n  background-color: var(--sklearn-color-unfitted-level-0);\n}\n\n#sk-container-id-2 div.sk-estimator.fitted {\n  /* fitted */\n  background-color: var(--sklearn-color-fitted-level-0);\n}\n\n/* on hover */\n#sk-container-id-2 div.sk-estimator:hover {\n  /* unfitted */\n  background-color: var(--sklearn-color-unfitted-level-2);\n}\n\n#sk-container-id-2 div.sk-estimator.fitted:hover {\n  /* fitted */\n  background-color: var(--sklearn-color-fitted-level-2);\n}\n\n/* Specification for estimator info (e.g. \"i\" and \"?\") */\n\n/* Common style for \"i\" and \"?\" */\n\n.sk-estimator-doc-link,\na:link.sk-estimator-doc-link,\na:visited.sk-estimator-doc-link {\n  float: right;\n  font-size: smaller;\n  line-height: 1em;\n  font-family: monospace;\n  background-color: var(--sklearn-color-background);\n  border-radius: 1em;\n  height: 1em;\n  width: 1em;\n  text-decoration: none !important;\n  margin-left: 1ex;\n  /* unfitted */\n  border: var(--sklearn-color-unfitted-level-1) 1pt solid;\n  color: var(--sklearn-color-unfitted-level-1);\n}\n\n.sk-estimator-doc-link.fitted,\na:link.sk-estimator-doc-link.fitted,\na:visited.sk-estimator-doc-link.fitted {\n  /* fitted */\n  border: var(--sklearn-color-fitted-level-1) 1pt solid;\n  color: var(--sklearn-color-fitted-level-1);\n}\n\n/* On hover */\ndiv.sk-estimator:hover .sk-estimator-doc-link:hover,\n.sk-estimator-doc-link:hover,\ndiv.sk-label-container:hover .sk-estimator-doc-link:hover,\n.sk-estimator-doc-link:hover {\n  /* unfitted */\n  background-color: var(--sklearn-color-unfitted-level-3);\n  color: var(--sklearn-color-background);\n  text-decoration: none;\n}\n\ndiv.sk-estimator.fitted:hover .sk-estimator-doc-link.fitted:hover,\n.sk-estimator-doc-link.fitted:hover,\ndiv.sk-label-container:hover .sk-estimator-doc-link.fitted:hover,\n.sk-estimator-doc-link.fitted:hover {\n  /* fitted */\n  background-color: var(--sklearn-color-fitted-level-3);\n  color: var(--sklearn-color-background);\n  text-decoration: none;\n}\n\n/* Span, style for the box shown on hovering the info icon */\n.sk-estimator-doc-link span {\n  display: none;\n  z-index: 9999;\n  position: relative;\n  font-weight: normal;\n  right: .2ex;\n  padding: .5ex;\n  margin: .5ex;\n  width: min-content;\n  min-width: 20ex;\n  max-width: 50ex;\n  color: var(--sklearn-color-text);\n  box-shadow: 2pt 2pt 4pt #999;\n  /* unfitted */\n  background: var(--sklearn-color-unfitted-level-0);\n  border: .5pt solid var(--sklearn-color-unfitted-level-3);\n}\n\n.sk-estimator-doc-link.fitted span {\n  /* fitted */\n  background: var(--sklearn-color-fitted-level-0);\n  border: var(--sklearn-color-fitted-level-3);\n}\n\n.sk-estimator-doc-link:hover span {\n  display: block;\n}\n\n/* \"?\"-specific style due to the `<a>` HTML tag */\n\n#sk-container-id-2 a.estimator_doc_link {\n  float: right;\n  font-size: 1rem;\n  line-height: 1em;\n  font-family: monospace;\n  background-color: var(--sklearn-color-background);\n  border-radius: 1rem;\n  height: 1rem;\n  width: 1rem;\n  text-decoration: none;\n  /* unfitted */\n  color: var(--sklearn-color-unfitted-level-1);\n  border: var(--sklearn-color-unfitted-level-1) 1pt solid;\n}\n\n#sk-container-id-2 a.estimator_doc_link.fitted {\n  /* fitted */\n  border: var(--sklearn-color-fitted-level-1) 1pt solid;\n  color: var(--sklearn-color-fitted-level-1);\n}\n\n/* On hover */\n#sk-container-id-2 a.estimator_doc_link:hover {\n  /* unfitted */\n  background-color: var(--sklearn-color-unfitted-level-3);\n  color: var(--sklearn-color-background);\n  text-decoration: none;\n}\n\n#sk-container-id-2 a.estimator_doc_link.fitted:hover {\n  /* fitted */\n  background-color: var(--sklearn-color-fitted-level-3);\n}\n</style><div id=\"sk-container-id-2\" class=\"sk-top-container\"><div class=\"sk-text-repr-fallback\"><pre>GridSearchCV(cv=3, estimator=KNeighborsRegressor(), n_jobs=-1,\n             param_grid={&#x27;n_neighbors&#x27;: array([ 2,  4,  6,  8, 10, 12, 14, 16, 18, 20, 22, 24, 26, 28]),\n                         &#x27;p&#x27;: [1, 2], &#x27;weights&#x27;: [&#x27;uniform&#x27;, &#x27;distance&#x27;]},\n             scoring=&#x27;neg_mean_squared_error&#x27;, verbose=2)</pre><b>In a Jupyter environment, please rerun this cell to show the HTML representation or trust the notebook. <br />On GitHub, the HTML representation is unable to render, please try loading this page with nbviewer.org.</b></div><div class=\"sk-container\" hidden><div class=\"sk-item sk-dashed-wrapped\"><div class=\"sk-label-container\"><div class=\"sk-label fitted sk-toggleable\"><input class=\"sk-toggleable__control sk-hidden--visually\" id=\"sk-estimator-id-4\" type=\"checkbox\" ><label for=\"sk-estimator-id-4\" class=\"sk-toggleable__label fitted sk-toggleable__label-arrow fitted\">&nbsp;&nbsp;GridSearchCV<a class=\"sk-estimator-doc-link fitted\" rel=\"noreferrer\" target=\"_blank\" href=\"https://scikit-learn.org/1.4/modules/generated/sklearn.model_selection.GridSearchCV.html\">?<span>Documentation for GridSearchCV</span></a><span class=\"sk-estimator-doc-link fitted\">i<span>Fitted</span></span></label><div class=\"sk-toggleable__content fitted\"><pre>GridSearchCV(cv=3, estimator=KNeighborsRegressor(), n_jobs=-1,\n             param_grid={&#x27;n_neighbors&#x27;: array([ 2,  4,  6,  8, 10, 12, 14, 16, 18, 20, 22, 24, 26, 28]),\n                         &#x27;p&#x27;: [1, 2], &#x27;weights&#x27;: [&#x27;uniform&#x27;, &#x27;distance&#x27;]},\n             scoring=&#x27;neg_mean_squared_error&#x27;, verbose=2)</pre></div> </div></div><div class=\"sk-parallel\"><div class=\"sk-parallel-item\"><div class=\"sk-item\"><div class=\"sk-label-container\"><div class=\"sk-label fitted sk-toggleable\"><input class=\"sk-toggleable__control sk-hidden--visually\" id=\"sk-estimator-id-5\" type=\"checkbox\" ><label for=\"sk-estimator-id-5\" class=\"sk-toggleable__label fitted sk-toggleable__label-arrow fitted\">estimator: KNeighborsRegressor</label><div class=\"sk-toggleable__content fitted\"><pre>KNeighborsRegressor()</pre></div> </div></div><div class=\"sk-serial\"><div class=\"sk-item\"><div class=\"sk-estimator fitted sk-toggleable\"><input class=\"sk-toggleable__control sk-hidden--visually\" id=\"sk-estimator-id-6\" type=\"checkbox\" ><label for=\"sk-estimator-id-6\" class=\"sk-toggleable__label fitted sk-toggleable__label-arrow fitted\">&nbsp;KNeighborsRegressor<a class=\"sk-estimator-doc-link fitted\" rel=\"noreferrer\" target=\"_blank\" href=\"https://scikit-learn.org/1.4/modules/generated/sklearn.neighbors.KNeighborsRegressor.html\">?<span>Documentation for KNeighborsRegressor</span></a></label><div class=\"sk-toggleable__content fitted\"><pre>KNeighborsRegressor()</pre></div> </div></div></div></div></div></div></div></div></div>"
     },
     "execution_count": 51,
     "metadata": {},
     "output_type": "execute_result"
    }
   ],
   "source": [
    "params = {'n_neighbors' : np.arange(2, 30, 2),\n",
    "          'weights' : ['uniform', 'distance'],\n",
    "          'p' : [1, 2]}\n",
    "\n",
    "gs = GridSearchCV(knn, params, scoring='neg_mean_squared_error', cv=3, n_jobs=-1, verbose=2)\n",
    "gs.fit(X_train, y_train)"
   ],
   "metadata": {
    "collapsed": false,
    "ExecuteTime": {
     "end_time": "2024-03-30T17:58:53.815051Z",
     "start_time": "2024-03-30T17:58:34.832784Z"
    }
   },
   "execution_count": 51
  },
  {
   "cell_type": "code",
   "outputs": [
    {
     "data": {
      "text/plain": "{'n_neighbors': 28, 'p': 1, 'weights': 'uniform'}"
     },
     "execution_count": 52,
     "metadata": {},
     "output_type": "execute_result"
    }
   ],
   "source": [
    "gs.best_params_"
   ],
   "metadata": {
    "collapsed": false,
    "ExecuteTime": {
     "end_time": "2024-03-30T17:59:12.929336Z",
     "start_time": "2024-03-30T17:59:12.920377Z"
    }
   },
   "execution_count": 52
  },
  {
   "cell_type": "markdown",
   "metadata": {
    "id": "-d-987N3DXfa"
   },
   "source": [
    "### Задание 4\n",
    "\n",
    "Вычислите качество наилучшей найденной модели на тестовых данных (MAE), ответ округлите до целого числа."
   ]
  },
  {
   "cell_type": "code",
   "execution_count": 54,
   "metadata": {
    "id": "HJH03FCZDSuJ",
    "ExecuteTime": {
     "end_time": "2024-03-30T18:01:23.392730Z",
     "start_time": "2024-03-30T18:01:23.386941Z"
    }
   },
   "outputs": [],
   "source": [
    "knn = gs.best_estimator_"
   ]
  },
  {
   "cell_type": "code",
   "outputs": [
    {
     "data": {
      "text/plain": "KNeighborsRegressor(n_neighbors=28, p=1)",
      "text/html": "<style>#sk-container-id-4 {\n  /* Definition of color scheme common for light and dark mode */\n  --sklearn-color-text: black;\n  --sklearn-color-line: gray;\n  /* Definition of color scheme for unfitted estimators */\n  --sklearn-color-unfitted-level-0: #fff5e6;\n  --sklearn-color-unfitted-level-1: #f6e4d2;\n  --sklearn-color-unfitted-level-2: #ffe0b3;\n  --sklearn-color-unfitted-level-3: chocolate;\n  /* Definition of color scheme for fitted estimators */\n  --sklearn-color-fitted-level-0: #f0f8ff;\n  --sklearn-color-fitted-level-1: #d4ebff;\n  --sklearn-color-fitted-level-2: #b3dbfd;\n  --sklearn-color-fitted-level-3: cornflowerblue;\n\n  /* Specific color for light theme */\n  --sklearn-color-text-on-default-background: var(--sg-text-color, var(--theme-code-foreground, var(--jp-content-font-color1, black)));\n  --sklearn-color-background: var(--sg-background-color, var(--theme-background, var(--jp-layout-color0, white)));\n  --sklearn-color-border-box: var(--sg-text-color, var(--theme-code-foreground, var(--jp-content-font-color1, black)));\n  --sklearn-color-icon: #696969;\n\n  @media (prefers-color-scheme: dark) {\n    /* Redefinition of color scheme for dark theme */\n    --sklearn-color-text-on-default-background: var(--sg-text-color, var(--theme-code-foreground, var(--jp-content-font-color1, white)));\n    --sklearn-color-background: var(--sg-background-color, var(--theme-background, var(--jp-layout-color0, #111)));\n    --sklearn-color-border-box: var(--sg-text-color, var(--theme-code-foreground, var(--jp-content-font-color1, white)));\n    --sklearn-color-icon: #878787;\n  }\n}\n\n#sk-container-id-4 {\n  color: var(--sklearn-color-text);\n}\n\n#sk-container-id-4 pre {\n  padding: 0;\n}\n\n#sk-container-id-4 input.sk-hidden--visually {\n  border: 0;\n  clip: rect(1px 1px 1px 1px);\n  clip: rect(1px, 1px, 1px, 1px);\n  height: 1px;\n  margin: -1px;\n  overflow: hidden;\n  padding: 0;\n  position: absolute;\n  width: 1px;\n}\n\n#sk-container-id-4 div.sk-dashed-wrapped {\n  border: 1px dashed var(--sklearn-color-line);\n  margin: 0 0.4em 0.5em 0.4em;\n  box-sizing: border-box;\n  padding-bottom: 0.4em;\n  background-color: var(--sklearn-color-background);\n}\n\n#sk-container-id-4 div.sk-container {\n  /* jupyter's `normalize.less` sets `[hidden] { display: none; }`\n     but bootstrap.min.css set `[hidden] { display: none !important; }`\n     so we also need the `!important` here to be able to override the\n     default hidden behavior on the sphinx rendered scikit-learn.org.\n     See: https://github.com/scikit-learn/scikit-learn/issues/21755 */\n  display: inline-block !important;\n  position: relative;\n}\n\n#sk-container-id-4 div.sk-text-repr-fallback {\n  display: none;\n}\n\ndiv.sk-parallel-item,\ndiv.sk-serial,\ndiv.sk-item {\n  /* draw centered vertical line to link estimators */\n  background-image: linear-gradient(var(--sklearn-color-text-on-default-background), var(--sklearn-color-text-on-default-background));\n  background-size: 2px 100%;\n  background-repeat: no-repeat;\n  background-position: center center;\n}\n\n/* Parallel-specific style estimator block */\n\n#sk-container-id-4 div.sk-parallel-item::after {\n  content: \"\";\n  width: 100%;\n  border-bottom: 2px solid var(--sklearn-color-text-on-default-background);\n  flex-grow: 1;\n}\n\n#sk-container-id-4 div.sk-parallel {\n  display: flex;\n  align-items: stretch;\n  justify-content: center;\n  background-color: var(--sklearn-color-background);\n  position: relative;\n}\n\n#sk-container-id-4 div.sk-parallel-item {\n  display: flex;\n  flex-direction: column;\n}\n\n#sk-container-id-4 div.sk-parallel-item:first-child::after {\n  align-self: flex-end;\n  width: 50%;\n}\n\n#sk-container-id-4 div.sk-parallel-item:last-child::after {\n  align-self: flex-start;\n  width: 50%;\n}\n\n#sk-container-id-4 div.sk-parallel-item:only-child::after {\n  width: 0;\n}\n\n/* Serial-specific style estimator block */\n\n#sk-container-id-4 div.sk-serial {\n  display: flex;\n  flex-direction: column;\n  align-items: center;\n  background-color: var(--sklearn-color-background);\n  padding-right: 1em;\n  padding-left: 1em;\n}\n\n\n/* Toggleable style: style used for estimator/Pipeline/ColumnTransformer box that is\nclickable and can be expanded/collapsed.\n- Pipeline and ColumnTransformer use this feature and define the default style\n- Estimators will overwrite some part of the style using the `sk-estimator` class\n*/\n\n/* Pipeline and ColumnTransformer style (default) */\n\n#sk-container-id-4 div.sk-toggleable {\n  /* Default theme specific background. It is overwritten whether we have a\n  specific estimator or a Pipeline/ColumnTransformer */\n  background-color: var(--sklearn-color-background);\n}\n\n/* Toggleable label */\n#sk-container-id-4 label.sk-toggleable__label {\n  cursor: pointer;\n  display: block;\n  width: 100%;\n  margin-bottom: 0;\n  padding: 0.5em;\n  box-sizing: border-box;\n  text-align: center;\n}\n\n#sk-container-id-4 label.sk-toggleable__label-arrow:before {\n  /* Arrow on the left of the label */\n  content: \"▸\";\n  float: left;\n  margin-right: 0.25em;\n  color: var(--sklearn-color-icon);\n}\n\n#sk-container-id-4 label.sk-toggleable__label-arrow:hover:before {\n  color: var(--sklearn-color-text);\n}\n\n/* Toggleable content - dropdown */\n\n#sk-container-id-4 div.sk-toggleable__content {\n  max-height: 0;\n  max-width: 0;\n  overflow: hidden;\n  text-align: left;\n  /* unfitted */\n  background-color: var(--sklearn-color-unfitted-level-0);\n}\n\n#sk-container-id-4 div.sk-toggleable__content.fitted {\n  /* fitted */\n  background-color: var(--sklearn-color-fitted-level-0);\n}\n\n#sk-container-id-4 div.sk-toggleable__content pre {\n  margin: 0.2em;\n  border-radius: 0.25em;\n  color: var(--sklearn-color-text);\n  /* unfitted */\n  background-color: var(--sklearn-color-unfitted-level-0);\n}\n\n#sk-container-id-4 div.sk-toggleable__content.fitted pre {\n  /* unfitted */\n  background-color: var(--sklearn-color-fitted-level-0);\n}\n\n#sk-container-id-4 input.sk-toggleable__control:checked~div.sk-toggleable__content {\n  /* Expand drop-down */\n  max-height: 200px;\n  max-width: 100%;\n  overflow: auto;\n}\n\n#sk-container-id-4 input.sk-toggleable__control:checked~label.sk-toggleable__label-arrow:before {\n  content: \"▾\";\n}\n\n/* Pipeline/ColumnTransformer-specific style */\n\n#sk-container-id-4 div.sk-label input.sk-toggleable__control:checked~label.sk-toggleable__label {\n  color: var(--sklearn-color-text);\n  background-color: var(--sklearn-color-unfitted-level-2);\n}\n\n#sk-container-id-4 div.sk-label.fitted input.sk-toggleable__control:checked~label.sk-toggleable__label {\n  background-color: var(--sklearn-color-fitted-level-2);\n}\n\n/* Estimator-specific style */\n\n/* Colorize estimator box */\n#sk-container-id-4 div.sk-estimator input.sk-toggleable__control:checked~label.sk-toggleable__label {\n  /* unfitted */\n  background-color: var(--sklearn-color-unfitted-level-2);\n}\n\n#sk-container-id-4 div.sk-estimator.fitted input.sk-toggleable__control:checked~label.sk-toggleable__label {\n  /* fitted */\n  background-color: var(--sklearn-color-fitted-level-2);\n}\n\n#sk-container-id-4 div.sk-label label.sk-toggleable__label,\n#sk-container-id-4 div.sk-label label {\n  /* The background is the default theme color */\n  color: var(--sklearn-color-text-on-default-background);\n}\n\n/* On hover, darken the color of the background */\n#sk-container-id-4 div.sk-label:hover label.sk-toggleable__label {\n  color: var(--sklearn-color-text);\n  background-color: var(--sklearn-color-unfitted-level-2);\n}\n\n/* Label box, darken color on hover, fitted */\n#sk-container-id-4 div.sk-label.fitted:hover label.sk-toggleable__label.fitted {\n  color: var(--sklearn-color-text);\n  background-color: var(--sklearn-color-fitted-level-2);\n}\n\n/* Estimator label */\n\n#sk-container-id-4 div.sk-label label {\n  font-family: monospace;\n  font-weight: bold;\n  display: inline-block;\n  line-height: 1.2em;\n}\n\n#sk-container-id-4 div.sk-label-container {\n  text-align: center;\n}\n\n/* Estimator-specific */\n#sk-container-id-4 div.sk-estimator {\n  font-family: monospace;\n  border: 1px dotted var(--sklearn-color-border-box);\n  border-radius: 0.25em;\n  box-sizing: border-box;\n  margin-bottom: 0.5em;\n  /* unfitted */\n  background-color: var(--sklearn-color-unfitted-level-0);\n}\n\n#sk-container-id-4 div.sk-estimator.fitted {\n  /* fitted */\n  background-color: var(--sklearn-color-fitted-level-0);\n}\n\n/* on hover */\n#sk-container-id-4 div.sk-estimator:hover {\n  /* unfitted */\n  background-color: var(--sklearn-color-unfitted-level-2);\n}\n\n#sk-container-id-4 div.sk-estimator.fitted:hover {\n  /* fitted */\n  background-color: var(--sklearn-color-fitted-level-2);\n}\n\n/* Specification for estimator info (e.g. \"i\" and \"?\") */\n\n/* Common style for \"i\" and \"?\" */\n\n.sk-estimator-doc-link,\na:link.sk-estimator-doc-link,\na:visited.sk-estimator-doc-link {\n  float: right;\n  font-size: smaller;\n  line-height: 1em;\n  font-family: monospace;\n  background-color: var(--sklearn-color-background);\n  border-radius: 1em;\n  height: 1em;\n  width: 1em;\n  text-decoration: none !important;\n  margin-left: 1ex;\n  /* unfitted */\n  border: var(--sklearn-color-unfitted-level-1) 1pt solid;\n  color: var(--sklearn-color-unfitted-level-1);\n}\n\n.sk-estimator-doc-link.fitted,\na:link.sk-estimator-doc-link.fitted,\na:visited.sk-estimator-doc-link.fitted {\n  /* fitted */\n  border: var(--sklearn-color-fitted-level-1) 1pt solid;\n  color: var(--sklearn-color-fitted-level-1);\n}\n\n/* On hover */\ndiv.sk-estimator:hover .sk-estimator-doc-link:hover,\n.sk-estimator-doc-link:hover,\ndiv.sk-label-container:hover .sk-estimator-doc-link:hover,\n.sk-estimator-doc-link:hover {\n  /* unfitted */\n  background-color: var(--sklearn-color-unfitted-level-3);\n  color: var(--sklearn-color-background);\n  text-decoration: none;\n}\n\ndiv.sk-estimator.fitted:hover .sk-estimator-doc-link.fitted:hover,\n.sk-estimator-doc-link.fitted:hover,\ndiv.sk-label-container:hover .sk-estimator-doc-link.fitted:hover,\n.sk-estimator-doc-link.fitted:hover {\n  /* fitted */\n  background-color: var(--sklearn-color-fitted-level-3);\n  color: var(--sklearn-color-background);\n  text-decoration: none;\n}\n\n/* Span, style for the box shown on hovering the info icon */\n.sk-estimator-doc-link span {\n  display: none;\n  z-index: 9999;\n  position: relative;\n  font-weight: normal;\n  right: .2ex;\n  padding: .5ex;\n  margin: .5ex;\n  width: min-content;\n  min-width: 20ex;\n  max-width: 50ex;\n  color: var(--sklearn-color-text);\n  box-shadow: 2pt 2pt 4pt #999;\n  /* unfitted */\n  background: var(--sklearn-color-unfitted-level-0);\n  border: .5pt solid var(--sklearn-color-unfitted-level-3);\n}\n\n.sk-estimator-doc-link.fitted span {\n  /* fitted */\n  background: var(--sklearn-color-fitted-level-0);\n  border: var(--sklearn-color-fitted-level-3);\n}\n\n.sk-estimator-doc-link:hover span {\n  display: block;\n}\n\n/* \"?\"-specific style due to the `<a>` HTML tag */\n\n#sk-container-id-4 a.estimator_doc_link {\n  float: right;\n  font-size: 1rem;\n  line-height: 1em;\n  font-family: monospace;\n  background-color: var(--sklearn-color-background);\n  border-radius: 1rem;\n  height: 1rem;\n  width: 1rem;\n  text-decoration: none;\n  /* unfitted */\n  color: var(--sklearn-color-unfitted-level-1);\n  border: var(--sklearn-color-unfitted-level-1) 1pt solid;\n}\n\n#sk-container-id-4 a.estimator_doc_link.fitted {\n  /* fitted */\n  border: var(--sklearn-color-fitted-level-1) 1pt solid;\n  color: var(--sklearn-color-fitted-level-1);\n}\n\n/* On hover */\n#sk-container-id-4 a.estimator_doc_link:hover {\n  /* unfitted */\n  background-color: var(--sklearn-color-unfitted-level-3);\n  color: var(--sklearn-color-background);\n  text-decoration: none;\n}\n\n#sk-container-id-4 a.estimator_doc_link.fitted:hover {\n  /* fitted */\n  background-color: var(--sklearn-color-fitted-level-3);\n}\n</style><div id=\"sk-container-id-4\" class=\"sk-top-container\"><div class=\"sk-text-repr-fallback\"><pre>KNeighborsRegressor(n_neighbors=28, p=1)</pre><b>In a Jupyter environment, please rerun this cell to show the HTML representation or trust the notebook. <br />On GitHub, the HTML representation is unable to render, please try loading this page with nbviewer.org.</b></div><div class=\"sk-container\" hidden><div class=\"sk-item\"><div class=\"sk-estimator fitted sk-toggleable\"><input class=\"sk-toggleable__control sk-hidden--visually\" id=\"sk-estimator-id-8\" type=\"checkbox\" checked><label for=\"sk-estimator-id-8\" class=\"sk-toggleable__label fitted sk-toggleable__label-arrow fitted\">&nbsp;&nbsp;KNeighborsRegressor<a class=\"sk-estimator-doc-link fitted\" rel=\"noreferrer\" target=\"_blank\" href=\"https://scikit-learn.org/1.4/modules/generated/sklearn.neighbors.KNeighborsRegressor.html\">?<span>Documentation for KNeighborsRegressor</span></a><span class=\"sk-estimator-doc-link fitted\">i<span>Fitted</span></span></label><div class=\"sk-toggleable__content fitted\"><pre>KNeighborsRegressor(n_neighbors=28, p=1)</pre></div> </div></div></div></div>"
     },
     "execution_count": 57,
     "metadata": {},
     "output_type": "execute_result"
    },
    {
     "data": {
      "text/plain": "784.9333237755405"
     },
     "execution_count": 57,
     "metadata": {},
     "output_type": "execute_result"
    }
   ],
   "source": [
    "knn.fit(X_train,y_train)\n",
    "pred = knn.predict(X_test)\n",
    "mean_absolute_error(pred,y_test)"
   ],
   "metadata": {
    "collapsed": false,
    "ExecuteTime": {
     "end_time": "2024-03-30T18:02:53.931008Z",
     "start_time": "2024-03-30T18:02:52.886454Z"
    }
   },
   "execution_count": 57
  },
  {
   "cell_type": "markdown",
   "metadata": {
    "id": "XbigNonID2lY"
   },
   "source": [
    "### Задание 5\n",
    "\n",
    "Постройте explainer dashboard для наилучшей модели (на первых 1000 объектах тестовой выборки).\n",
    "\n",
    "Какой признак по методу SHAP самый важный для модели?"
   ]
  },
  {
   "cell_type": "code",
   "execution_count": 60,
   "metadata": {
    "id": "MofWwAQqDmH2",
    "ExecuteTime": {
     "end_time": "2024-03-30T18:05:07.743154Z",
     "start_time": "2024-03-30T18:05:07.726380Z"
    }
   },
   "outputs": [
    {
     "name": "stdout",
     "output_type": "stream",
     "text": [
      "WARNING: Parameter shap='guess', but failed to guess the type of shap explainer to use for KNeighborsRegressor. Defaulting to the model agnostic shap.KernelExplainer (shap='kernel'). However this will be slow, so if your model is compatible with e.g. shap.TreeExplainer or shap.LinearExplainer then pass shap='tree' or shap='linear'!\n",
      "WARNING: For shap='kernel', shap interaction values can unfortunately not be calculated!\n",
      "Warning: shap values for shap.KernelExplainer get calculated against X_background, but paramater X_background=None, so using shap.sample(X, 50) instead\n",
      "Generating self.shap_explainer = shap.KernelExplainer(model, X)...\n"
     ]
    }
   ],
   "source": [
    "explainer = RegressionExplainer(gs.best_estimator_, X_test.iloc[:1000], y_test.iloc[:1000])"
   ]
  },
  {
   "cell_type": "code",
   "outputs": [
    {
     "name": "stdout",
     "output_type": "stream",
     "text": [
      "Building ExplainerDashboard..\n",
      "Detected notebook environment, consider setting mode='external', mode='inline' or mode='jupyterlab' to keep the notebook interactive while the dashboard is running...\n",
      "For this type of model and model_output interactions don't work, so setting shap_interaction=False...\n",
      "The explainer object has no decision_trees property. so setting decision_trees=False...\n",
      "Generating layout...\n",
      "Calculating shap values...\n"
     ]
    },
    {
     "data": {
      "text/plain": "  0%|          | 0/1000 [00:00<?, ?it/s]",
      "application/vnd.jupyter.widget-view+json": {
       "version_major": 2,
       "version_minor": 0,
       "model_id": "b1c22564b94e4cca93bde73e68e6d453"
      }
     },
     "metadata": {},
     "output_type": "display_data"
    },
    {
     "name": "stdout",
     "output_type": "stream",
     "text": [
      "Calculating predictions...\n",
      "Calculating residuals...\n",
      "Calculating absolute residuals...\n",
      "Calculating dependencies...\n",
      "Calculating importances...\n"
     ]
    },
    {
     "name": "stderr",
     "output_type": "stream",
     "text": [
      "C:\\Users\\User\\AppData\\Local\\Programs\\Python\\Python312\\Lib\\site-packages\\sklearn\\metrics\\_scorer.py:548: FutureWarning:\n",
      "\n",
      "The `needs_threshold` and `needs_proba` parameter are deprecated in version 1.4 and will be removed in 1.6. You can either let `response_method` be `None` or set it to `predict` to preserve the same behaviour.\n",
      "\n"
     ]
    },
    {
     "name": "stdout",
     "output_type": "stream",
     "text": [
      "Reminder: you can store the explainer (including calculated dependencies) with explainer.dump('explainer.joblib') and reload with e.g. ClassifierExplainer.from_file('explainer.joblib')\n",
      "Registering callbacks...\n"
     ]
    }
   ],
   "source": [
    "db = ExplainerDashboard(explainer)"
   ],
   "metadata": {
    "collapsed": false,
    "ExecuteTime": {
     "end_time": "2024-03-30T18:08:24.532799Z",
     "start_time": "2024-03-30T18:05:15.443332Z"
    }
   },
   "execution_count": 61
  },
  {
   "cell_type": "code",
   "outputs": [
    {
     "name": "stdout",
     "output_type": "stream",
     "text": [
      "Starting ExplainerDashboard on http://192.168.1.7:8050\n"
     ]
    },
    {
     "ename": "ConnectionError",
     "evalue": "HTTPConnectionPool(host='0.0.0.0', port=8050): Max retries exceeded with url: /_alive_daa2ae64-6e66-421d-be08-c5120c15a463 (Caused by NewConnectionError('<urllib3.connection.HTTPConnection object at 0x0000022F28A03560>: Failed to establish a new connection: [WinError 10049] Требуемый адрес для своего контекста неверен'))",
     "output_type": "error",
     "traceback": [
      "\u001B[1;31m---------------------------------------------------------------------------\u001B[0m",
      "\u001B[1;31mOSError\u001B[0m                                   Traceback (most recent call last)",
      "File \u001B[1;32m~\\AppData\\Local\\Programs\\Python\\Python312\\Lib\\site-packages\\urllib3\\connection.py:203\u001B[0m, in \u001B[0;36mHTTPConnection._new_conn\u001B[1;34m(self)\u001B[0m\n\u001B[0;32m    202\u001B[0m \u001B[38;5;28;01mtry\u001B[39;00m:\n\u001B[1;32m--> 203\u001B[0m     sock \u001B[38;5;241m=\u001B[39m \u001B[43mconnection\u001B[49m\u001B[38;5;241;43m.\u001B[39;49m\u001B[43mcreate_connection\u001B[49m\u001B[43m(\u001B[49m\n\u001B[0;32m    204\u001B[0m \u001B[43m        \u001B[49m\u001B[43m(\u001B[49m\u001B[38;5;28;43mself\u001B[39;49m\u001B[38;5;241;43m.\u001B[39;49m\u001B[43m_dns_host\u001B[49m\u001B[43m,\u001B[49m\u001B[43m \u001B[49m\u001B[38;5;28;43mself\u001B[39;49m\u001B[38;5;241;43m.\u001B[39;49m\u001B[43mport\u001B[49m\u001B[43m)\u001B[49m\u001B[43m,\u001B[49m\n\u001B[0;32m    205\u001B[0m \u001B[43m        \u001B[49m\u001B[38;5;28;43mself\u001B[39;49m\u001B[38;5;241;43m.\u001B[39;49m\u001B[43mtimeout\u001B[49m\u001B[43m,\u001B[49m\n\u001B[0;32m    206\u001B[0m \u001B[43m        \u001B[49m\u001B[43msource_address\u001B[49m\u001B[38;5;241;43m=\u001B[39;49m\u001B[38;5;28;43mself\u001B[39;49m\u001B[38;5;241;43m.\u001B[39;49m\u001B[43msource_address\u001B[49m\u001B[43m,\u001B[49m\n\u001B[0;32m    207\u001B[0m \u001B[43m        \u001B[49m\u001B[43msocket_options\u001B[49m\u001B[38;5;241;43m=\u001B[39;49m\u001B[38;5;28;43mself\u001B[39;49m\u001B[38;5;241;43m.\u001B[39;49m\u001B[43msocket_options\u001B[49m\u001B[43m,\u001B[49m\n\u001B[0;32m    208\u001B[0m \u001B[43m    \u001B[49m\u001B[43m)\u001B[49m\n\u001B[0;32m    209\u001B[0m \u001B[38;5;28;01mexcept\u001B[39;00m socket\u001B[38;5;241m.\u001B[39mgaierror \u001B[38;5;28;01mas\u001B[39;00m e:\n",
      "File \u001B[1;32m~\\AppData\\Local\\Programs\\Python\\Python312\\Lib\\site-packages\\urllib3\\util\\connection.py:85\u001B[0m, in \u001B[0;36mcreate_connection\u001B[1;34m(address, timeout, source_address, socket_options)\u001B[0m\n\u001B[0;32m     84\u001B[0m \u001B[38;5;28;01mtry\u001B[39;00m:\n\u001B[1;32m---> 85\u001B[0m     \u001B[38;5;28;01mraise\u001B[39;00m err\n\u001B[0;32m     86\u001B[0m \u001B[38;5;28;01mfinally\u001B[39;00m:\n\u001B[0;32m     87\u001B[0m     \u001B[38;5;66;03m# Break explicitly a reference cycle\u001B[39;00m\n",
      "File \u001B[1;32m~\\AppData\\Local\\Programs\\Python\\Python312\\Lib\\site-packages\\urllib3\\util\\connection.py:73\u001B[0m, in \u001B[0;36mcreate_connection\u001B[1;34m(address, timeout, source_address, socket_options)\u001B[0m\n\u001B[0;32m     72\u001B[0m     sock\u001B[38;5;241m.\u001B[39mbind(source_address)\n\u001B[1;32m---> 73\u001B[0m \u001B[43msock\u001B[49m\u001B[38;5;241;43m.\u001B[39;49m\u001B[43mconnect\u001B[49m\u001B[43m(\u001B[49m\u001B[43msa\u001B[49m\u001B[43m)\u001B[49m\n\u001B[0;32m     74\u001B[0m \u001B[38;5;66;03m# Break explicitly a reference cycle\u001B[39;00m\n",
      "\u001B[1;31mOSError\u001B[0m: [WinError 10049] Требуемый адрес для своего контекста неверен",
      "\nThe above exception was the direct cause of the following exception:\n",
      "\u001B[1;31mNewConnectionError\u001B[0m                        Traceback (most recent call last)",
      "File \u001B[1;32m~\\AppData\\Local\\Programs\\Python\\Python312\\Lib\\site-packages\\urllib3\\connectionpool.py:790\u001B[0m, in \u001B[0;36mHTTPConnectionPool.urlopen\u001B[1;34m(self, method, url, body, headers, retries, redirect, assert_same_host, timeout, pool_timeout, release_conn, chunked, body_pos, preload_content, decode_content, **response_kw)\u001B[0m\n\u001B[0;32m    789\u001B[0m \u001B[38;5;66;03m# Make the request on the HTTPConnection object\u001B[39;00m\n\u001B[1;32m--> 790\u001B[0m response \u001B[38;5;241m=\u001B[39m \u001B[38;5;28;43mself\u001B[39;49m\u001B[38;5;241;43m.\u001B[39;49m\u001B[43m_make_request\u001B[49m\u001B[43m(\u001B[49m\n\u001B[0;32m    791\u001B[0m \u001B[43m    \u001B[49m\u001B[43mconn\u001B[49m\u001B[43m,\u001B[49m\n\u001B[0;32m    792\u001B[0m \u001B[43m    \u001B[49m\u001B[43mmethod\u001B[49m\u001B[43m,\u001B[49m\n\u001B[0;32m    793\u001B[0m \u001B[43m    \u001B[49m\u001B[43murl\u001B[49m\u001B[43m,\u001B[49m\n\u001B[0;32m    794\u001B[0m \u001B[43m    \u001B[49m\u001B[43mtimeout\u001B[49m\u001B[38;5;241;43m=\u001B[39;49m\u001B[43mtimeout_obj\u001B[49m\u001B[43m,\u001B[49m\n\u001B[0;32m    795\u001B[0m \u001B[43m    \u001B[49m\u001B[43mbody\u001B[49m\u001B[38;5;241;43m=\u001B[39;49m\u001B[43mbody\u001B[49m\u001B[43m,\u001B[49m\n\u001B[0;32m    796\u001B[0m \u001B[43m    \u001B[49m\u001B[43mheaders\u001B[49m\u001B[38;5;241;43m=\u001B[39;49m\u001B[43mheaders\u001B[49m\u001B[43m,\u001B[49m\n\u001B[0;32m    797\u001B[0m \u001B[43m    \u001B[49m\u001B[43mchunked\u001B[49m\u001B[38;5;241;43m=\u001B[39;49m\u001B[43mchunked\u001B[49m\u001B[43m,\u001B[49m\n\u001B[0;32m    798\u001B[0m \u001B[43m    \u001B[49m\u001B[43mretries\u001B[49m\u001B[38;5;241;43m=\u001B[39;49m\u001B[43mretries\u001B[49m\u001B[43m,\u001B[49m\n\u001B[0;32m    799\u001B[0m \u001B[43m    \u001B[49m\u001B[43mresponse_conn\u001B[49m\u001B[38;5;241;43m=\u001B[39;49m\u001B[43mresponse_conn\u001B[49m\u001B[43m,\u001B[49m\n\u001B[0;32m    800\u001B[0m \u001B[43m    \u001B[49m\u001B[43mpreload_content\u001B[49m\u001B[38;5;241;43m=\u001B[39;49m\u001B[43mpreload_content\u001B[49m\u001B[43m,\u001B[49m\n\u001B[0;32m    801\u001B[0m \u001B[43m    \u001B[49m\u001B[43mdecode_content\u001B[49m\u001B[38;5;241;43m=\u001B[39;49m\u001B[43mdecode_content\u001B[49m\u001B[43m,\u001B[49m\n\u001B[0;32m    802\u001B[0m \u001B[43m    \u001B[49m\u001B[38;5;241;43m*\u001B[39;49m\u001B[38;5;241;43m*\u001B[39;49m\u001B[43mresponse_kw\u001B[49m\u001B[43m,\u001B[49m\n\u001B[0;32m    803\u001B[0m \u001B[43m\u001B[49m\u001B[43m)\u001B[49m\n\u001B[0;32m    805\u001B[0m \u001B[38;5;66;03m# Everything went great!\u001B[39;00m\n",
      "File \u001B[1;32m~\\AppData\\Local\\Programs\\Python\\Python312\\Lib\\site-packages\\urllib3\\connectionpool.py:496\u001B[0m, in \u001B[0;36mHTTPConnectionPool._make_request\u001B[1;34m(self, conn, method, url, body, headers, retries, timeout, chunked, response_conn, preload_content, decode_content, enforce_content_length)\u001B[0m\n\u001B[0;32m    495\u001B[0m \u001B[38;5;28;01mtry\u001B[39;00m:\n\u001B[1;32m--> 496\u001B[0m     \u001B[43mconn\u001B[49m\u001B[38;5;241;43m.\u001B[39;49m\u001B[43mrequest\u001B[49m\u001B[43m(\u001B[49m\n\u001B[0;32m    497\u001B[0m \u001B[43m        \u001B[49m\u001B[43mmethod\u001B[49m\u001B[43m,\u001B[49m\n\u001B[0;32m    498\u001B[0m \u001B[43m        \u001B[49m\u001B[43murl\u001B[49m\u001B[43m,\u001B[49m\n\u001B[0;32m    499\u001B[0m \u001B[43m        \u001B[49m\u001B[43mbody\u001B[49m\u001B[38;5;241;43m=\u001B[39;49m\u001B[43mbody\u001B[49m\u001B[43m,\u001B[49m\n\u001B[0;32m    500\u001B[0m \u001B[43m        \u001B[49m\u001B[43mheaders\u001B[49m\u001B[38;5;241;43m=\u001B[39;49m\u001B[43mheaders\u001B[49m\u001B[43m,\u001B[49m\n\u001B[0;32m    501\u001B[0m \u001B[43m        \u001B[49m\u001B[43mchunked\u001B[49m\u001B[38;5;241;43m=\u001B[39;49m\u001B[43mchunked\u001B[49m\u001B[43m,\u001B[49m\n\u001B[0;32m    502\u001B[0m \u001B[43m        \u001B[49m\u001B[43mpreload_content\u001B[49m\u001B[38;5;241;43m=\u001B[39;49m\u001B[43mpreload_content\u001B[49m\u001B[43m,\u001B[49m\n\u001B[0;32m    503\u001B[0m \u001B[43m        \u001B[49m\u001B[43mdecode_content\u001B[49m\u001B[38;5;241;43m=\u001B[39;49m\u001B[43mdecode_content\u001B[49m\u001B[43m,\u001B[49m\n\u001B[0;32m    504\u001B[0m \u001B[43m        \u001B[49m\u001B[43menforce_content_length\u001B[49m\u001B[38;5;241;43m=\u001B[39;49m\u001B[43menforce_content_length\u001B[49m\u001B[43m,\u001B[49m\n\u001B[0;32m    505\u001B[0m \u001B[43m    \u001B[49m\u001B[43m)\u001B[49m\n\u001B[0;32m    507\u001B[0m \u001B[38;5;66;03m# We are swallowing BrokenPipeError (errno.EPIPE) since the server is\u001B[39;00m\n\u001B[0;32m    508\u001B[0m \u001B[38;5;66;03m# legitimately able to close the connection after sending a valid response.\u001B[39;00m\n\u001B[0;32m    509\u001B[0m \u001B[38;5;66;03m# With this behaviour, the received response is still readable.\u001B[39;00m\n",
      "File \u001B[1;32m~\\AppData\\Local\\Programs\\Python\\Python312\\Lib\\site-packages\\urllib3\\connection.py:395\u001B[0m, in \u001B[0;36mHTTPConnection.request\u001B[1;34m(self, method, url, body, headers, chunked, preload_content, decode_content, enforce_content_length)\u001B[0m\n\u001B[0;32m    394\u001B[0m     \u001B[38;5;28mself\u001B[39m\u001B[38;5;241m.\u001B[39mputheader(header, value)\n\u001B[1;32m--> 395\u001B[0m \u001B[38;5;28;43mself\u001B[39;49m\u001B[38;5;241;43m.\u001B[39;49m\u001B[43mendheaders\u001B[49m\u001B[43m(\u001B[49m\u001B[43m)\u001B[49m\n\u001B[0;32m    397\u001B[0m \u001B[38;5;66;03m# If we're given a body we start sending that in chunks.\u001B[39;00m\n",
      "File \u001B[1;32m~\\AppData\\Local\\Programs\\Python\\Python312\\Lib\\http\\client.py:1326\u001B[0m, in \u001B[0;36mHTTPConnection.endheaders\u001B[1;34m(self, message_body, encode_chunked)\u001B[0m\n\u001B[0;32m   1325\u001B[0m     \u001B[38;5;28;01mraise\u001B[39;00m CannotSendHeader()\n\u001B[1;32m-> 1326\u001B[0m \u001B[38;5;28;43mself\u001B[39;49m\u001B[38;5;241;43m.\u001B[39;49m\u001B[43m_send_output\u001B[49m\u001B[43m(\u001B[49m\u001B[43mmessage_body\u001B[49m\u001B[43m,\u001B[49m\u001B[43m \u001B[49m\u001B[43mencode_chunked\u001B[49m\u001B[38;5;241;43m=\u001B[39;49m\u001B[43mencode_chunked\u001B[49m\u001B[43m)\u001B[49m\n",
      "File \u001B[1;32m~\\AppData\\Local\\Programs\\Python\\Python312\\Lib\\http\\client.py:1085\u001B[0m, in \u001B[0;36mHTTPConnection._send_output\u001B[1;34m(self, message_body, encode_chunked)\u001B[0m\n\u001B[0;32m   1084\u001B[0m \u001B[38;5;28;01mdel\u001B[39;00m \u001B[38;5;28mself\u001B[39m\u001B[38;5;241m.\u001B[39m_buffer[:]\n\u001B[1;32m-> 1085\u001B[0m \u001B[38;5;28;43mself\u001B[39;49m\u001B[38;5;241;43m.\u001B[39;49m\u001B[43msend\u001B[49m\u001B[43m(\u001B[49m\u001B[43mmsg\u001B[49m\u001B[43m)\u001B[49m\n\u001B[0;32m   1087\u001B[0m \u001B[38;5;28;01mif\u001B[39;00m message_body \u001B[38;5;129;01mis\u001B[39;00m \u001B[38;5;129;01mnot\u001B[39;00m \u001B[38;5;28;01mNone\u001B[39;00m:\n\u001B[0;32m   1088\u001B[0m \n\u001B[0;32m   1089\u001B[0m     \u001B[38;5;66;03m# create a consistent interface to message_body\u001B[39;00m\n",
      "File \u001B[1;32m~\\AppData\\Local\\Programs\\Python\\Python312\\Lib\\http\\client.py:1029\u001B[0m, in \u001B[0;36mHTTPConnection.send\u001B[1;34m(self, data)\u001B[0m\n\u001B[0;32m   1028\u001B[0m \u001B[38;5;28;01mif\u001B[39;00m \u001B[38;5;28mself\u001B[39m\u001B[38;5;241m.\u001B[39mauto_open:\n\u001B[1;32m-> 1029\u001B[0m     \u001B[38;5;28;43mself\u001B[39;49m\u001B[38;5;241;43m.\u001B[39;49m\u001B[43mconnect\u001B[49m\u001B[43m(\u001B[49m\u001B[43m)\u001B[49m\n\u001B[0;32m   1030\u001B[0m \u001B[38;5;28;01melse\u001B[39;00m:\n",
      "File \u001B[1;32m~\\AppData\\Local\\Programs\\Python\\Python312\\Lib\\site-packages\\urllib3\\connection.py:243\u001B[0m, in \u001B[0;36mHTTPConnection.connect\u001B[1;34m(self)\u001B[0m\n\u001B[0;32m    242\u001B[0m \u001B[38;5;28;01mdef\u001B[39;00m \u001B[38;5;21mconnect\u001B[39m(\u001B[38;5;28mself\u001B[39m) \u001B[38;5;241m-\u001B[39m\u001B[38;5;241m>\u001B[39m \u001B[38;5;28;01mNone\u001B[39;00m:\n\u001B[1;32m--> 243\u001B[0m     \u001B[38;5;28mself\u001B[39m\u001B[38;5;241m.\u001B[39msock \u001B[38;5;241m=\u001B[39m \u001B[38;5;28;43mself\u001B[39;49m\u001B[38;5;241;43m.\u001B[39;49m\u001B[43m_new_conn\u001B[49m\u001B[43m(\u001B[49m\u001B[43m)\u001B[49m\n\u001B[0;32m    244\u001B[0m     \u001B[38;5;28;01mif\u001B[39;00m \u001B[38;5;28mself\u001B[39m\u001B[38;5;241m.\u001B[39m_tunnel_host:\n\u001B[0;32m    245\u001B[0m         \u001B[38;5;66;03m# If we're tunneling it means we're connected to our proxy.\u001B[39;00m\n",
      "File \u001B[1;32m~\\AppData\\Local\\Programs\\Python\\Python312\\Lib\\site-packages\\urllib3\\connection.py:218\u001B[0m, in \u001B[0;36mHTTPConnection._new_conn\u001B[1;34m(self)\u001B[0m\n\u001B[0;32m    217\u001B[0m \u001B[38;5;28;01mexcept\u001B[39;00m \u001B[38;5;167;01mOSError\u001B[39;00m \u001B[38;5;28;01mas\u001B[39;00m e:\n\u001B[1;32m--> 218\u001B[0m     \u001B[38;5;28;01mraise\u001B[39;00m NewConnectionError(\n\u001B[0;32m    219\u001B[0m         \u001B[38;5;28mself\u001B[39m, \u001B[38;5;124mf\u001B[39m\u001B[38;5;124m\"\u001B[39m\u001B[38;5;124mFailed to establish a new connection: \u001B[39m\u001B[38;5;132;01m{\u001B[39;00me\u001B[38;5;132;01m}\u001B[39;00m\u001B[38;5;124m\"\u001B[39m\n\u001B[0;32m    220\u001B[0m     ) \u001B[38;5;28;01mfrom\u001B[39;00m \u001B[38;5;21;01me\u001B[39;00m\n\u001B[0;32m    222\u001B[0m \u001B[38;5;66;03m# Audit hooks are only available in Python 3.8+\u001B[39;00m\n",
      "\u001B[1;31mNewConnectionError\u001B[0m: <urllib3.connection.HTTPConnection object at 0x0000022F28A03560>: Failed to establish a new connection: [WinError 10049] Требуемый адрес для своего контекста неверен",
      "\nThe above exception was the direct cause of the following exception:\n",
      "\u001B[1;31mMaxRetryError\u001B[0m                             Traceback (most recent call last)",
      "File \u001B[1;32m~\\AppData\\Local\\Programs\\Python\\Python312\\Lib\\site-packages\\requests\\adapters.py:486\u001B[0m, in \u001B[0;36mHTTPAdapter.send\u001B[1;34m(self, request, stream, timeout, verify, cert, proxies)\u001B[0m\n\u001B[0;32m    485\u001B[0m \u001B[38;5;28;01mtry\u001B[39;00m:\n\u001B[1;32m--> 486\u001B[0m     resp \u001B[38;5;241m=\u001B[39m \u001B[43mconn\u001B[49m\u001B[38;5;241;43m.\u001B[39;49m\u001B[43murlopen\u001B[49m\u001B[43m(\u001B[49m\n\u001B[0;32m    487\u001B[0m \u001B[43m        \u001B[49m\u001B[43mmethod\u001B[49m\u001B[38;5;241;43m=\u001B[39;49m\u001B[43mrequest\u001B[49m\u001B[38;5;241;43m.\u001B[39;49m\u001B[43mmethod\u001B[49m\u001B[43m,\u001B[49m\n\u001B[0;32m    488\u001B[0m \u001B[43m        \u001B[49m\u001B[43murl\u001B[49m\u001B[38;5;241;43m=\u001B[39;49m\u001B[43murl\u001B[49m\u001B[43m,\u001B[49m\n\u001B[0;32m    489\u001B[0m \u001B[43m        \u001B[49m\u001B[43mbody\u001B[49m\u001B[38;5;241;43m=\u001B[39;49m\u001B[43mrequest\u001B[49m\u001B[38;5;241;43m.\u001B[39;49m\u001B[43mbody\u001B[49m\u001B[43m,\u001B[49m\n\u001B[0;32m    490\u001B[0m \u001B[43m        \u001B[49m\u001B[43mheaders\u001B[49m\u001B[38;5;241;43m=\u001B[39;49m\u001B[43mrequest\u001B[49m\u001B[38;5;241;43m.\u001B[39;49m\u001B[43mheaders\u001B[49m\u001B[43m,\u001B[49m\n\u001B[0;32m    491\u001B[0m \u001B[43m        \u001B[49m\u001B[43mredirect\u001B[49m\u001B[38;5;241;43m=\u001B[39;49m\u001B[38;5;28;43;01mFalse\u001B[39;49;00m\u001B[43m,\u001B[49m\n\u001B[0;32m    492\u001B[0m \u001B[43m        \u001B[49m\u001B[43massert_same_host\u001B[49m\u001B[38;5;241;43m=\u001B[39;49m\u001B[38;5;28;43;01mFalse\u001B[39;49;00m\u001B[43m,\u001B[49m\n\u001B[0;32m    493\u001B[0m \u001B[43m        \u001B[49m\u001B[43mpreload_content\u001B[49m\u001B[38;5;241;43m=\u001B[39;49m\u001B[38;5;28;43;01mFalse\u001B[39;49;00m\u001B[43m,\u001B[49m\n\u001B[0;32m    494\u001B[0m \u001B[43m        \u001B[49m\u001B[43mdecode_content\u001B[49m\u001B[38;5;241;43m=\u001B[39;49m\u001B[38;5;28;43;01mFalse\u001B[39;49;00m\u001B[43m,\u001B[49m\n\u001B[0;32m    495\u001B[0m \u001B[43m        \u001B[49m\u001B[43mretries\u001B[49m\u001B[38;5;241;43m=\u001B[39;49m\u001B[38;5;28;43mself\u001B[39;49m\u001B[38;5;241;43m.\u001B[39;49m\u001B[43mmax_retries\u001B[49m\u001B[43m,\u001B[49m\n\u001B[0;32m    496\u001B[0m \u001B[43m        \u001B[49m\u001B[43mtimeout\u001B[49m\u001B[38;5;241;43m=\u001B[39;49m\u001B[43mtimeout\u001B[49m\u001B[43m,\u001B[49m\n\u001B[0;32m    497\u001B[0m \u001B[43m        \u001B[49m\u001B[43mchunked\u001B[49m\u001B[38;5;241;43m=\u001B[39;49m\u001B[43mchunked\u001B[49m\u001B[43m,\u001B[49m\n\u001B[0;32m    498\u001B[0m \u001B[43m    \u001B[49m\u001B[43m)\u001B[49m\n\u001B[0;32m    500\u001B[0m \u001B[38;5;28;01mexcept\u001B[39;00m (ProtocolError, \u001B[38;5;167;01mOSError\u001B[39;00m) \u001B[38;5;28;01mas\u001B[39;00m err:\n",
      "File \u001B[1;32m~\\AppData\\Local\\Programs\\Python\\Python312\\Lib\\site-packages\\urllib3\\connectionpool.py:844\u001B[0m, in \u001B[0;36mHTTPConnectionPool.urlopen\u001B[1;34m(self, method, url, body, headers, retries, redirect, assert_same_host, timeout, pool_timeout, release_conn, chunked, body_pos, preload_content, decode_content, **response_kw)\u001B[0m\n\u001B[0;32m    842\u001B[0m     new_e \u001B[38;5;241m=\u001B[39m ProtocolError(\u001B[38;5;124m\"\u001B[39m\u001B[38;5;124mConnection aborted.\u001B[39m\u001B[38;5;124m\"\u001B[39m, new_e)\n\u001B[1;32m--> 844\u001B[0m retries \u001B[38;5;241m=\u001B[39m \u001B[43mretries\u001B[49m\u001B[38;5;241;43m.\u001B[39;49m\u001B[43mincrement\u001B[49m\u001B[43m(\u001B[49m\n\u001B[0;32m    845\u001B[0m \u001B[43m    \u001B[49m\u001B[43mmethod\u001B[49m\u001B[43m,\u001B[49m\u001B[43m \u001B[49m\u001B[43murl\u001B[49m\u001B[43m,\u001B[49m\u001B[43m \u001B[49m\u001B[43merror\u001B[49m\u001B[38;5;241;43m=\u001B[39;49m\u001B[43mnew_e\u001B[49m\u001B[43m,\u001B[49m\u001B[43m \u001B[49m\u001B[43m_pool\u001B[49m\u001B[38;5;241;43m=\u001B[39;49m\u001B[38;5;28;43mself\u001B[39;49m\u001B[43m,\u001B[49m\u001B[43m \u001B[49m\u001B[43m_stacktrace\u001B[49m\u001B[38;5;241;43m=\u001B[39;49m\u001B[43msys\u001B[49m\u001B[38;5;241;43m.\u001B[39;49m\u001B[43mexc_info\u001B[49m\u001B[43m(\u001B[49m\u001B[43m)\u001B[49m\u001B[43m[\u001B[49m\u001B[38;5;241;43m2\u001B[39;49m\u001B[43m]\u001B[49m\n\u001B[0;32m    846\u001B[0m \u001B[43m\u001B[49m\u001B[43m)\u001B[49m\n\u001B[0;32m    847\u001B[0m retries\u001B[38;5;241m.\u001B[39msleep()\n",
      "File \u001B[1;32m~\\AppData\\Local\\Programs\\Python\\Python312\\Lib\\site-packages\\urllib3\\util\\retry.py:515\u001B[0m, in \u001B[0;36mRetry.increment\u001B[1;34m(self, method, url, response, error, _pool, _stacktrace)\u001B[0m\n\u001B[0;32m    514\u001B[0m     reason \u001B[38;5;241m=\u001B[39m error \u001B[38;5;129;01mor\u001B[39;00m ResponseError(cause)\n\u001B[1;32m--> 515\u001B[0m     \u001B[38;5;28;01mraise\u001B[39;00m MaxRetryError(_pool, url, reason) \u001B[38;5;28;01mfrom\u001B[39;00m \u001B[38;5;21;01mreason\u001B[39;00m  \u001B[38;5;66;03m# type: ignore[arg-type]\u001B[39;00m\n\u001B[0;32m    517\u001B[0m log\u001B[38;5;241m.\u001B[39mdebug(\u001B[38;5;124m\"\u001B[39m\u001B[38;5;124mIncremented Retry for (url=\u001B[39m\u001B[38;5;124m'\u001B[39m\u001B[38;5;132;01m%s\u001B[39;00m\u001B[38;5;124m'\u001B[39m\u001B[38;5;124m): \u001B[39m\u001B[38;5;132;01m%r\u001B[39;00m\u001B[38;5;124m\"\u001B[39m, url, new_retry)\n",
      "\u001B[1;31mMaxRetryError\u001B[0m: HTTPConnectionPool(host='0.0.0.0', port=8050): Max retries exceeded with url: /_alive_daa2ae64-6e66-421d-be08-c5120c15a463 (Caused by NewConnectionError('<urllib3.connection.HTTPConnection object at 0x0000022F28A03560>: Failed to establish a new connection: [WinError 10049] Требуемый адрес для своего контекста неверен'))",
      "\nDuring handling of the above exception, another exception occurred:\n",
      "\u001B[1;31mConnectionError\u001B[0m                           Traceback (most recent call last)",
      "Cell \u001B[1;32mIn[62], line 1\u001B[0m\n\u001B[1;32m----> 1\u001B[0m \u001B[43mdb\u001B[49m\u001B[38;5;241;43m.\u001B[39;49m\u001B[43mrun\u001B[49m\u001B[43m(\u001B[49m\u001B[43m)\u001B[49m\n",
      "File \u001B[1;32m~\\AppData\\Local\\Programs\\Python\\Python312\\Lib\\site-packages\\explainerdashboard\\dashboards.py:1278\u001B[0m, in \u001B[0;36mExplainerDashboard.run\u001B[1;34m(self, port, host, use_waitress, mode, **kwargs)\u001B[0m\n\u001B[0;32m   1276\u001B[0m         serve(app\u001B[38;5;241m.\u001B[39mserver, host\u001B[38;5;241m=\u001B[39mhost, port\u001B[38;5;241m=\u001B[39mport)\n\u001B[0;32m   1277\u001B[0m     \u001B[38;5;28;01melse\u001B[39;00m:\n\u001B[1;32m-> 1278\u001B[0m         \u001B[43mapp\u001B[49m\u001B[38;5;241;43m.\u001B[39;49m\u001B[43mrun_server\u001B[49m\u001B[43m(\u001B[49m\u001B[43mport\u001B[49m\u001B[38;5;241;43m=\u001B[39;49m\u001B[43mport\u001B[49m\u001B[43m,\u001B[49m\u001B[43m \u001B[49m\u001B[43mhost\u001B[49m\u001B[38;5;241;43m=\u001B[39;49m\u001B[43mhost\u001B[49m\u001B[43m,\u001B[49m\u001B[43m \u001B[49m\u001B[38;5;241;43m*\u001B[39;49m\u001B[38;5;241;43m*\u001B[39;49m\u001B[43mkwargs\u001B[49m\u001B[43m)\u001B[49m\n\u001B[0;32m   1279\u001B[0m \u001B[38;5;28;01melse\u001B[39;00m:\n\u001B[0;32m   1280\u001B[0m     \u001B[38;5;28;01mif\u001B[39;00m \u001B[38;5;28mself\u001B[39m\u001B[38;5;241m.\u001B[39mmode \u001B[38;5;241m==\u001B[39m \u001B[38;5;124m\"\u001B[39m\u001B[38;5;124mdash\u001B[39m\u001B[38;5;124m\"\u001B[39m:\n",
      "File \u001B[1;32m~\\AppData\\Local\\Programs\\Python\\Python312\\Lib\\site-packages\\dash\\dash.py:2223\u001B[0m, in \u001B[0;36mDash.run_server\u001B[1;34m(self, *args, **kwargs)\u001B[0m\n\u001B[0;32m   2217\u001B[0m \u001B[38;5;28;01mdef\u001B[39;00m \u001B[38;5;21mrun_server\u001B[39m(\u001B[38;5;28mself\u001B[39m, \u001B[38;5;241m*\u001B[39margs, \u001B[38;5;241m*\u001B[39m\u001B[38;5;241m*\u001B[39mkwargs):\n\u001B[0;32m   2218\u001B[0m \u001B[38;5;250m    \u001B[39m\u001B[38;5;124;03m\"\"\"`run_server` is a deprecated alias of `run` and may be removed in a\u001B[39;00m\n\u001B[0;32m   2219\u001B[0m \u001B[38;5;124;03m    future version. We recommend using `app.run` instead.\u001B[39;00m\n\u001B[0;32m   2220\u001B[0m \n\u001B[0;32m   2221\u001B[0m \u001B[38;5;124;03m    See `app.run` for usage information.\u001B[39;00m\n\u001B[0;32m   2222\u001B[0m \u001B[38;5;124;03m    \"\"\"\u001B[39;00m\n\u001B[1;32m-> 2223\u001B[0m     \u001B[38;5;28;43mself\u001B[39;49m\u001B[38;5;241;43m.\u001B[39;49m\u001B[43mrun\u001B[49m\u001B[43m(\u001B[49m\u001B[38;5;241;43m*\u001B[39;49m\u001B[43margs\u001B[49m\u001B[43m,\u001B[49m\u001B[43m \u001B[49m\u001B[38;5;241;43m*\u001B[39;49m\u001B[38;5;241;43m*\u001B[39;49m\u001B[43mkwargs\u001B[49m\u001B[43m)\u001B[49m\n",
      "File \u001B[1;32m~\\AppData\\Local\\Programs\\Python\\Python312\\Lib\\site-packages\\dash\\dash.py:2114\u001B[0m, in \u001B[0;36mDash.run\u001B[1;34m(self, host, port, proxy, debug, jupyter_mode, jupyter_width, jupyter_height, jupyter_server_url, dev_tools_ui, dev_tools_props_check, dev_tools_serve_dev_bundles, dev_tools_hot_reload, dev_tools_hot_reload_interval, dev_tools_hot_reload_watch_interval, dev_tools_hot_reload_max_retry, dev_tools_silence_routes_logging, dev_tools_prune_errors, **flask_run_options)\u001B[0m\n\u001B[0;32m   2111\u001B[0m             extra_files\u001B[38;5;241m.\u001B[39mappend(path)\n\u001B[0;32m   2113\u001B[0m \u001B[38;5;28;01mif\u001B[39;00m jupyter_dash\u001B[38;5;241m.\u001B[39mactive:\n\u001B[1;32m-> 2114\u001B[0m     \u001B[43mjupyter_dash\u001B[49m\u001B[38;5;241;43m.\u001B[39;49m\u001B[43mrun_app\u001B[49m\u001B[43m(\u001B[49m\n\u001B[0;32m   2115\u001B[0m \u001B[43m        \u001B[49m\u001B[38;5;28;43mself\u001B[39;49m\u001B[43m,\u001B[49m\n\u001B[0;32m   2116\u001B[0m \u001B[43m        \u001B[49m\u001B[43mmode\u001B[49m\u001B[38;5;241;43m=\u001B[39;49m\u001B[43mjupyter_mode\u001B[49m\u001B[43m,\u001B[49m\n\u001B[0;32m   2117\u001B[0m \u001B[43m        \u001B[49m\u001B[43mwidth\u001B[49m\u001B[38;5;241;43m=\u001B[39;49m\u001B[43mjupyter_width\u001B[49m\u001B[43m,\u001B[49m\n\u001B[0;32m   2118\u001B[0m \u001B[43m        \u001B[49m\u001B[43mheight\u001B[49m\u001B[38;5;241;43m=\u001B[39;49m\u001B[43mjupyter_height\u001B[49m\u001B[43m,\u001B[49m\n\u001B[0;32m   2119\u001B[0m \u001B[43m        \u001B[49m\u001B[43mhost\u001B[49m\u001B[38;5;241;43m=\u001B[39;49m\u001B[43mhost\u001B[49m\u001B[43m,\u001B[49m\n\u001B[0;32m   2120\u001B[0m \u001B[43m        \u001B[49m\u001B[43mport\u001B[49m\u001B[38;5;241;43m=\u001B[39;49m\u001B[43mport\u001B[49m\u001B[43m,\u001B[49m\n\u001B[0;32m   2121\u001B[0m \u001B[43m        \u001B[49m\u001B[43mserver_url\u001B[49m\u001B[38;5;241;43m=\u001B[39;49m\u001B[43mjupyter_server_url\u001B[49m\u001B[43m,\u001B[49m\n\u001B[0;32m   2122\u001B[0m \u001B[43m    \u001B[49m\u001B[43m)\u001B[49m\n\u001B[0;32m   2123\u001B[0m \u001B[38;5;28;01melse\u001B[39;00m:\n\u001B[0;32m   2124\u001B[0m     \u001B[38;5;28mself\u001B[39m\u001B[38;5;241m.\u001B[39mserver\u001B[38;5;241m.\u001B[39mrun(host\u001B[38;5;241m=\u001B[39mhost, port\u001B[38;5;241m=\u001B[39mport, debug\u001B[38;5;241m=\u001B[39mdebug, \u001B[38;5;241m*\u001B[39m\u001B[38;5;241m*\u001B[39mflask_run_options)\n",
      "File \u001B[1;32m~\\AppData\\Local\\Programs\\Python\\Python312\\Lib\\site-packages\\dash\\_jupyter.py:404\u001B[0m, in \u001B[0;36mJupyterDash.run_app\u001B[1;34m(self, app, mode, width, height, host, port, server_url)\u001B[0m\n\u001B[0;32m    402\u001B[0m     display(HTML(msg))\n\u001B[0;32m    403\u001B[0m \u001B[38;5;28;01melse\u001B[39;00m:\n\u001B[1;32m--> 404\u001B[0m     \u001B[38;5;28;01mraise\u001B[39;00m final_error\n",
      "File \u001B[1;32m~\\AppData\\Local\\Programs\\Python\\Python312\\Lib\\site-packages\\dash\\_jupyter.py:391\u001B[0m, in \u001B[0;36mJupyterDash.run_app\u001B[1;34m(self, app, mode, width, height, host, port, server_url)\u001B[0m\n\u001B[0;32m    388\u001B[0m         \u001B[38;5;28;01mraise\u001B[39;00m err\n\u001B[0;32m    390\u001B[0m \u001B[38;5;28;01mtry\u001B[39;00m:\n\u001B[1;32m--> 391\u001B[0m     \u001B[43mwait_for_app\u001B[49m\u001B[43m(\u001B[49m\u001B[43m)\u001B[49m\n\u001B[0;32m    393\u001B[0m     \u001B[38;5;28;01mif\u001B[39;00m \u001B[38;5;28mself\u001B[39m\u001B[38;5;241m.\u001B[39min_colab:\n\u001B[0;32m    394\u001B[0m         JupyterDash\u001B[38;5;241m.\u001B[39m_display_in_colab(dashboard_url, port, mode, width, height)\n",
      "File \u001B[1;32m~\\AppData\\Local\\Programs\\Python\\Python312\\Lib\\site-packages\\retrying.py:56\u001B[0m, in \u001B[0;36mretry.<locals>.wrap.<locals>.wrapped_f\u001B[1;34m(*args, **kw)\u001B[0m\n\u001B[0;32m     54\u001B[0m \u001B[38;5;129m@six\u001B[39m\u001B[38;5;241m.\u001B[39mwraps(f)\n\u001B[0;32m     55\u001B[0m \u001B[38;5;28;01mdef\u001B[39;00m \u001B[38;5;21mwrapped_f\u001B[39m(\u001B[38;5;241m*\u001B[39margs, \u001B[38;5;241m*\u001B[39m\u001B[38;5;241m*\u001B[39mkw):\n\u001B[1;32m---> 56\u001B[0m     \u001B[38;5;28;01mreturn\u001B[39;00m \u001B[43mRetrying\u001B[49m\u001B[43m(\u001B[49m\u001B[38;5;241;43m*\u001B[39;49m\u001B[43mdargs\u001B[49m\u001B[43m,\u001B[49m\u001B[43m \u001B[49m\u001B[38;5;241;43m*\u001B[39;49m\u001B[38;5;241;43m*\u001B[39;49m\u001B[43mdkw\u001B[49m\u001B[43m)\u001B[49m\u001B[38;5;241;43m.\u001B[39;49m\u001B[43mcall\u001B[49m\u001B[43m(\u001B[49m\u001B[43mf\u001B[49m\u001B[43m,\u001B[49m\u001B[43m \u001B[49m\u001B[38;5;241;43m*\u001B[39;49m\u001B[43margs\u001B[49m\u001B[43m,\u001B[49m\u001B[43m \u001B[49m\u001B[38;5;241;43m*\u001B[39;49m\u001B[38;5;241;43m*\u001B[39;49m\u001B[43mkw\u001B[49m\u001B[43m)\u001B[49m\n",
      "File \u001B[1;32m~\\AppData\\Local\\Programs\\Python\\Python312\\Lib\\site-packages\\retrying.py:266\u001B[0m, in \u001B[0;36mRetrying.call\u001B[1;34m(self, fn, *args, **kwargs)\u001B[0m\n\u001B[0;32m    263\u001B[0m \u001B[38;5;28;01mif\u001B[39;00m \u001B[38;5;28mself\u001B[39m\u001B[38;5;241m.\u001B[39mstop(attempt_number, delay_since_first_attempt_ms):\n\u001B[0;32m    264\u001B[0m     \u001B[38;5;28;01mif\u001B[39;00m \u001B[38;5;129;01mnot\u001B[39;00m \u001B[38;5;28mself\u001B[39m\u001B[38;5;241m.\u001B[39m_wrap_exception \u001B[38;5;129;01mand\u001B[39;00m attempt\u001B[38;5;241m.\u001B[39mhas_exception:\n\u001B[0;32m    265\u001B[0m         \u001B[38;5;66;03m# get() on an attempt with an exception should cause it to be raised, but raise just in case\u001B[39;00m\n\u001B[1;32m--> 266\u001B[0m         \u001B[38;5;28;01mraise\u001B[39;00m \u001B[43mattempt\u001B[49m\u001B[38;5;241;43m.\u001B[39;49m\u001B[43mget\u001B[49m\u001B[43m(\u001B[49m\u001B[43m)\u001B[49m\n\u001B[0;32m    267\u001B[0m     \u001B[38;5;28;01melse\u001B[39;00m:\n\u001B[0;32m    268\u001B[0m         \u001B[38;5;28;01mraise\u001B[39;00m RetryError(attempt)\n",
      "File \u001B[1;32m~\\AppData\\Local\\Programs\\Python\\Python312\\Lib\\site-packages\\retrying.py:301\u001B[0m, in \u001B[0;36mAttempt.get\u001B[1;34m(self, wrap_exception)\u001B[0m\n\u001B[0;32m    299\u001B[0m         \u001B[38;5;28;01mraise\u001B[39;00m RetryError(\u001B[38;5;28mself\u001B[39m)\n\u001B[0;32m    300\u001B[0m     \u001B[38;5;28;01melse\u001B[39;00m:\n\u001B[1;32m--> 301\u001B[0m         \u001B[43msix\u001B[49m\u001B[38;5;241;43m.\u001B[39;49m\u001B[43mreraise\u001B[49m\u001B[43m(\u001B[49m\u001B[38;5;28;43mself\u001B[39;49m\u001B[38;5;241;43m.\u001B[39;49m\u001B[43mvalue\u001B[49m\u001B[43m[\u001B[49m\u001B[38;5;241;43m0\u001B[39;49m\u001B[43m]\u001B[49m\u001B[43m,\u001B[49m\u001B[43m \u001B[49m\u001B[38;5;28;43mself\u001B[39;49m\u001B[38;5;241;43m.\u001B[39;49m\u001B[43mvalue\u001B[49m\u001B[43m[\u001B[49m\u001B[38;5;241;43m1\u001B[39;49m\u001B[43m]\u001B[49m\u001B[43m,\u001B[49m\u001B[43m \u001B[49m\u001B[38;5;28;43mself\u001B[39;49m\u001B[38;5;241;43m.\u001B[39;49m\u001B[43mvalue\u001B[49m\u001B[43m[\u001B[49m\u001B[38;5;241;43m2\u001B[39;49m\u001B[43m]\u001B[49m\u001B[43m)\u001B[49m\n\u001B[0;32m    302\u001B[0m \u001B[38;5;28;01melse\u001B[39;00m:\n\u001B[0;32m    303\u001B[0m     \u001B[38;5;28;01mreturn\u001B[39;00m \u001B[38;5;28mself\u001B[39m\u001B[38;5;241m.\u001B[39mvalue\n",
      "File \u001B[1;32m~\\AppData\\Local\\Programs\\Python\\Python312\\Lib\\site-packages\\six.py:719\u001B[0m, in \u001B[0;36mreraise\u001B[1;34m(tp, value, tb)\u001B[0m\n\u001B[0;32m    717\u001B[0m     \u001B[38;5;28;01mif\u001B[39;00m value\u001B[38;5;241m.\u001B[39m__traceback__ \u001B[38;5;129;01mis\u001B[39;00m \u001B[38;5;129;01mnot\u001B[39;00m tb:\n\u001B[0;32m    718\u001B[0m         \u001B[38;5;28;01mraise\u001B[39;00m value\u001B[38;5;241m.\u001B[39mwith_traceback(tb)\n\u001B[1;32m--> 719\u001B[0m     \u001B[38;5;28;01mraise\u001B[39;00m value\n\u001B[0;32m    720\u001B[0m \u001B[38;5;28;01mfinally\u001B[39;00m:\n\u001B[0;32m    721\u001B[0m     value \u001B[38;5;241m=\u001B[39m \u001B[38;5;28;01mNone\u001B[39;00m\n",
      "File \u001B[1;32m~\\AppData\\Local\\Programs\\Python\\Python312\\Lib\\site-packages\\retrying.py:251\u001B[0m, in \u001B[0;36mRetrying.call\u001B[1;34m(self, fn, *args, **kwargs)\u001B[0m\n\u001B[0;32m    248\u001B[0m     \u001B[38;5;28mself\u001B[39m\u001B[38;5;241m.\u001B[39m_before_attempts(attempt_number)\n\u001B[0;32m    250\u001B[0m \u001B[38;5;28;01mtry\u001B[39;00m:\n\u001B[1;32m--> 251\u001B[0m     attempt \u001B[38;5;241m=\u001B[39m Attempt(\u001B[43mfn\u001B[49m\u001B[43m(\u001B[49m\u001B[38;5;241;43m*\u001B[39;49m\u001B[43margs\u001B[49m\u001B[43m,\u001B[49m\u001B[43m \u001B[49m\u001B[38;5;241;43m*\u001B[39;49m\u001B[38;5;241;43m*\u001B[39;49m\u001B[43mkwargs\u001B[49m\u001B[43m)\u001B[49m, attempt_number, \u001B[38;5;28;01mFalse\u001B[39;00m)\n\u001B[0;32m    252\u001B[0m \u001B[38;5;28;01mexcept\u001B[39;00m:\n\u001B[0;32m    253\u001B[0m     tb \u001B[38;5;241m=\u001B[39m sys\u001B[38;5;241m.\u001B[39mexc_info()\n",
      "File \u001B[1;32m~\\AppData\\Local\\Programs\\Python\\Python312\\Lib\\site-packages\\dash\\_jupyter.py:388\u001B[0m, in \u001B[0;36mJupyterDash.run_app.<locals>.wait_for_app\u001B[1;34m()\u001B[0m\n\u001B[0;32m    386\u001B[0m \u001B[38;5;28;01mexcept\u001B[39;00m requests\u001B[38;5;241m.\u001B[39mConnectionError \u001B[38;5;28;01mas\u001B[39;00m err:\n\u001B[0;32m    387\u001B[0m     _get_error()\n\u001B[1;32m--> 388\u001B[0m     \u001B[38;5;28;01mraise\u001B[39;00m err\n",
      "File \u001B[1;32m~\\AppData\\Local\\Programs\\Python\\Python312\\Lib\\site-packages\\dash\\_jupyter.py:375\u001B[0m, in \u001B[0;36mJupyterDash.run_app.<locals>.wait_for_app\u001B[1;34m()\u001B[0m\n\u001B[0;32m    373\u001B[0m _get_error()\n\u001B[0;32m    374\u001B[0m \u001B[38;5;28;01mtry\u001B[39;00m:\n\u001B[1;32m--> 375\u001B[0m     req \u001B[38;5;241m=\u001B[39m \u001B[43mrequests\u001B[49m\u001B[38;5;241;43m.\u001B[39;49m\u001B[43mget\u001B[49m\u001B[43m(\u001B[49m\u001B[43malive_url\u001B[49m\u001B[43m)\u001B[49m\n\u001B[0;32m    376\u001B[0m     res \u001B[38;5;241m=\u001B[39m req\u001B[38;5;241m.\u001B[39mcontent\u001B[38;5;241m.\u001B[39mdecode()\n\u001B[0;32m    377\u001B[0m     \u001B[38;5;28;01mif\u001B[39;00m req\u001B[38;5;241m.\u001B[39mstatus_code \u001B[38;5;241m!=\u001B[39m \u001B[38;5;241m200\u001B[39m:\n",
      "File \u001B[1;32m~\\AppData\\Local\\Programs\\Python\\Python312\\Lib\\site-packages\\requests\\api.py:73\u001B[0m, in \u001B[0;36mget\u001B[1;34m(url, params, **kwargs)\u001B[0m\n\u001B[0;32m     62\u001B[0m \u001B[38;5;28;01mdef\u001B[39;00m \u001B[38;5;21mget\u001B[39m(url, params\u001B[38;5;241m=\u001B[39m\u001B[38;5;28;01mNone\u001B[39;00m, \u001B[38;5;241m*\u001B[39m\u001B[38;5;241m*\u001B[39mkwargs):\n\u001B[0;32m     63\u001B[0m \u001B[38;5;250m    \u001B[39m\u001B[38;5;124mr\u001B[39m\u001B[38;5;124;03m\"\"\"Sends a GET request.\u001B[39;00m\n\u001B[0;32m     64\u001B[0m \n\u001B[0;32m     65\u001B[0m \u001B[38;5;124;03m    :param url: URL for the new :class:`Request` object.\u001B[39;00m\n\u001B[1;32m   (...)\u001B[0m\n\u001B[0;32m     70\u001B[0m \u001B[38;5;124;03m    :rtype: requests.Response\u001B[39;00m\n\u001B[0;32m     71\u001B[0m \u001B[38;5;124;03m    \"\"\"\u001B[39;00m\n\u001B[1;32m---> 73\u001B[0m     \u001B[38;5;28;01mreturn\u001B[39;00m \u001B[43mrequest\u001B[49m\u001B[43m(\u001B[49m\u001B[38;5;124;43m\"\u001B[39;49m\u001B[38;5;124;43mget\u001B[39;49m\u001B[38;5;124;43m\"\u001B[39;49m\u001B[43m,\u001B[49m\u001B[43m \u001B[49m\u001B[43murl\u001B[49m\u001B[43m,\u001B[49m\u001B[43m \u001B[49m\u001B[43mparams\u001B[49m\u001B[38;5;241;43m=\u001B[39;49m\u001B[43mparams\u001B[49m\u001B[43m,\u001B[49m\u001B[43m \u001B[49m\u001B[38;5;241;43m*\u001B[39;49m\u001B[38;5;241;43m*\u001B[39;49m\u001B[43mkwargs\u001B[49m\u001B[43m)\u001B[49m\n",
      "File \u001B[1;32m~\\AppData\\Local\\Programs\\Python\\Python312\\Lib\\site-packages\\requests\\api.py:59\u001B[0m, in \u001B[0;36mrequest\u001B[1;34m(method, url, **kwargs)\u001B[0m\n\u001B[0;32m     55\u001B[0m \u001B[38;5;66;03m# By using the 'with' statement we are sure the session is closed, thus we\u001B[39;00m\n\u001B[0;32m     56\u001B[0m \u001B[38;5;66;03m# avoid leaving sockets open which can trigger a ResourceWarning in some\u001B[39;00m\n\u001B[0;32m     57\u001B[0m \u001B[38;5;66;03m# cases, and look like a memory leak in others.\u001B[39;00m\n\u001B[0;32m     58\u001B[0m \u001B[38;5;28;01mwith\u001B[39;00m sessions\u001B[38;5;241m.\u001B[39mSession() \u001B[38;5;28;01mas\u001B[39;00m session:\n\u001B[1;32m---> 59\u001B[0m     \u001B[38;5;28;01mreturn\u001B[39;00m \u001B[43msession\u001B[49m\u001B[38;5;241;43m.\u001B[39;49m\u001B[43mrequest\u001B[49m\u001B[43m(\u001B[49m\u001B[43mmethod\u001B[49m\u001B[38;5;241;43m=\u001B[39;49m\u001B[43mmethod\u001B[49m\u001B[43m,\u001B[49m\u001B[43m \u001B[49m\u001B[43murl\u001B[49m\u001B[38;5;241;43m=\u001B[39;49m\u001B[43murl\u001B[49m\u001B[43m,\u001B[49m\u001B[43m \u001B[49m\u001B[38;5;241;43m*\u001B[39;49m\u001B[38;5;241;43m*\u001B[39;49m\u001B[43mkwargs\u001B[49m\u001B[43m)\u001B[49m\n",
      "File \u001B[1;32m~\\AppData\\Local\\Programs\\Python\\Python312\\Lib\\site-packages\\requests\\sessions.py:589\u001B[0m, in \u001B[0;36mSession.request\u001B[1;34m(self, method, url, params, data, headers, cookies, files, auth, timeout, allow_redirects, proxies, hooks, stream, verify, cert, json)\u001B[0m\n\u001B[0;32m    584\u001B[0m send_kwargs \u001B[38;5;241m=\u001B[39m {\n\u001B[0;32m    585\u001B[0m     \u001B[38;5;124m\"\u001B[39m\u001B[38;5;124mtimeout\u001B[39m\u001B[38;5;124m\"\u001B[39m: timeout,\n\u001B[0;32m    586\u001B[0m     \u001B[38;5;124m\"\u001B[39m\u001B[38;5;124mallow_redirects\u001B[39m\u001B[38;5;124m\"\u001B[39m: allow_redirects,\n\u001B[0;32m    587\u001B[0m }\n\u001B[0;32m    588\u001B[0m send_kwargs\u001B[38;5;241m.\u001B[39mupdate(settings)\n\u001B[1;32m--> 589\u001B[0m resp \u001B[38;5;241m=\u001B[39m \u001B[38;5;28;43mself\u001B[39;49m\u001B[38;5;241;43m.\u001B[39;49m\u001B[43msend\u001B[49m\u001B[43m(\u001B[49m\u001B[43mprep\u001B[49m\u001B[43m,\u001B[49m\u001B[43m \u001B[49m\u001B[38;5;241;43m*\u001B[39;49m\u001B[38;5;241;43m*\u001B[39;49m\u001B[43msend_kwargs\u001B[49m\u001B[43m)\u001B[49m\n\u001B[0;32m    591\u001B[0m \u001B[38;5;28;01mreturn\u001B[39;00m resp\n",
      "File \u001B[1;32m~\\AppData\\Local\\Programs\\Python\\Python312\\Lib\\site-packages\\requests\\sessions.py:703\u001B[0m, in \u001B[0;36mSession.send\u001B[1;34m(self, request, **kwargs)\u001B[0m\n\u001B[0;32m    700\u001B[0m start \u001B[38;5;241m=\u001B[39m preferred_clock()\n\u001B[0;32m    702\u001B[0m \u001B[38;5;66;03m# Send the request\u001B[39;00m\n\u001B[1;32m--> 703\u001B[0m r \u001B[38;5;241m=\u001B[39m \u001B[43madapter\u001B[49m\u001B[38;5;241;43m.\u001B[39;49m\u001B[43msend\u001B[49m\u001B[43m(\u001B[49m\u001B[43mrequest\u001B[49m\u001B[43m,\u001B[49m\u001B[43m \u001B[49m\u001B[38;5;241;43m*\u001B[39;49m\u001B[38;5;241;43m*\u001B[39;49m\u001B[43mkwargs\u001B[49m\u001B[43m)\u001B[49m\n\u001B[0;32m    705\u001B[0m \u001B[38;5;66;03m# Total elapsed time of the request (approximately)\u001B[39;00m\n\u001B[0;32m    706\u001B[0m elapsed \u001B[38;5;241m=\u001B[39m preferred_clock() \u001B[38;5;241m-\u001B[39m start\n",
      "File \u001B[1;32m~\\AppData\\Local\\Programs\\Python\\Python312\\Lib\\site-packages\\requests\\adapters.py:519\u001B[0m, in \u001B[0;36mHTTPAdapter.send\u001B[1;34m(self, request, stream, timeout, verify, cert, proxies)\u001B[0m\n\u001B[0;32m    515\u001B[0m     \u001B[38;5;28;01mif\u001B[39;00m \u001B[38;5;28misinstance\u001B[39m(e\u001B[38;5;241m.\u001B[39mreason, _SSLError):\n\u001B[0;32m    516\u001B[0m         \u001B[38;5;66;03m# This branch is for urllib3 v1.22 and later.\u001B[39;00m\n\u001B[0;32m    517\u001B[0m         \u001B[38;5;28;01mraise\u001B[39;00m SSLError(e, request\u001B[38;5;241m=\u001B[39mrequest)\n\u001B[1;32m--> 519\u001B[0m     \u001B[38;5;28;01mraise\u001B[39;00m \u001B[38;5;167;01mConnectionError\u001B[39;00m(e, request\u001B[38;5;241m=\u001B[39mrequest)\n\u001B[0;32m    521\u001B[0m \u001B[38;5;28;01mexcept\u001B[39;00m ClosedPoolError \u001B[38;5;28;01mas\u001B[39;00m e:\n\u001B[0;32m    522\u001B[0m     \u001B[38;5;28;01mraise\u001B[39;00m \u001B[38;5;167;01mConnectionError\u001B[39;00m(e, request\u001B[38;5;241m=\u001B[39mrequest)\n",
      "\u001B[1;31mConnectionError\u001B[0m: HTTPConnectionPool(host='0.0.0.0', port=8050): Max retries exceeded with url: /_alive_daa2ae64-6e66-421d-be08-c5120c15a463 (Caused by NewConnectionError('<urllib3.connection.HTTPConnection object at 0x0000022F28A03560>: Failed to establish a new connection: [WinError 10049] Требуемый адрес для своего контекста неверен'))"
     ]
    }
   ],
   "source": [
    "db.run()"
   ],
   "metadata": {
    "collapsed": false,
    "ExecuteTime": {
     "end_time": "2024-03-30T18:28:14.057119Z",
     "start_time": "2024-03-30T18:28:02.096920Z"
    }
   },
   "execution_count": 62
  },
  {
   "cell_type": "markdown",
   "metadata": {
    "id": "rU1imGJzJuJY"
   },
   "source": [
    "### Задание 6\n",
    "\n",
    "По explainer dashboard ответьте, чему равен прогноз модели для объекта с индексом 32390?\n",
    "\n",
    "Ответ округлите до целого числа."
   ]
  },
  {
   "cell_type": "markdown",
   "metadata": {
    "id": "aIneLQy3LWiS"
   },
   "source": [
    "### Задание 7\n",
    "\n",
    "По explainer dashboard ответьте, какой признак с точки зрения подхода SHAP дает наибольший вклад в прогноз на объекте с индексом 6234?"
   ]
  }
 ],
 "metadata": {
  "colab": {
   "provenance": []
  },
  "kernelspec": {
   "display_name": "Python 3 (ipykernel)",
   "language": "python",
   "name": "python3"
  },
  "language_info": {
   "codemirror_mode": {
    "name": "ipython",
    "version": 3
   },
   "file_extension": ".py",
   "mimetype": "text/x-python",
   "name": "python",
   "nbconvert_exporter": "python",
   "pygments_lexer": "ipython3",
   "version": "3.9.12"
  }
 },
 "nbformat": 4,
 "nbformat_minor": 0
}
