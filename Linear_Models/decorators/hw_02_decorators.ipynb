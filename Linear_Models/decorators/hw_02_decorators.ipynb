{
 "nbformat": 4,
 "nbformat_minor": 0,
 "metadata": {
  "colab": {
   "provenance": []
  },
  "kernelspec": {
   "name": "python3",
   "language": "python",
   "display_name": "Python 3 (ipykernel)"
  },
  "language_info": {
   "name": "python"
  }
 },
 "cells": [
  {
   "cell_type": "markdown",
   "source": [
    "# Домашнее задание: декораторы"
   ],
   "metadata": {
    "id": "QY4qPJPpgyIS"
   }
  },
  {
   "cell_type": "markdown",
   "source": [
    "## Импорт библиотек, установка констант"
   ],
   "metadata": {
    "id": "Chacc6YchldZ"
   }
  },
  {
   "cell_type": "code",
   "source": [
    "import requests\n",
    "import time\n",
    "import re\n",
    "\n",
    "from random import randint"
   ],
   "metadata": {
    "id": "w8iKrWvwhrFd",
    "ExecuteTime": {
     "end_time": "2024-04-08T17:03:04.985795Z",
     "start_time": "2024-04-08T17:03:04.869300Z"
    }
   },
   "execution_count": 1,
   "outputs": []
  },
  {
   "cell_type": "code",
   "source": [
    "BOOK_PATH = 'https://www.gutenberg.org/files/2638/2638-0.txt'"
   ],
   "metadata": {
    "id": "-LRkS0fSi8Np",
    "ExecuteTime": {
     "end_time": "2024-04-08T17:03:59.545005Z",
     "start_time": "2024-04-08T17:03:59.539898Z"
    }
   },
   "execution_count": 2,
   "outputs": []
  },
  {
   "cell_type": "markdown",
   "source": [
    "## Задание 1"
   ],
   "metadata": {
    "id": "kARfL8ifg4MH"
   }
  },
  {
   "cell_type": "code",
   "execution_count": 49,
   "metadata": {
    "id": "hNHNWPhngrUl",
    "ExecuteTime": {
     "end_time": "2024-04-08T17:44:57.377748Z",
     "start_time": "2024-04-08T17:44:57.363430Z"
    }
   },
   "outputs": [],
   "source": [
    "def benchmark(func):\n",
    "    \"\"\"\n",
    "    Декоратор, выводящий время, которое заняло выполнение декорируемой функции\n",
    "    \"\"\"\n",
    "\n",
    "    def wrapper(*args, **kwargs):\n",
    "        start_time = time.time()\n",
    "        result = func(*args, **kwargs)\n",
    "        end_time = time.time()\n",
    "        print(f\"Время выполнения функции {func.__name__}: {end_time - start_time}\")\n",
    "        return result\n",
    "    return wrapper"
   ]
  },
  {
   "cell_type": "markdown",
   "source": [
    "## Задание 2"
   ],
   "metadata": {
    "id": "tGlbUKjihL5n"
   }
  },
  {
   "cell_type": "code",
   "source": [
    "def logging(func):\n",
    "    \"\"\"\n",
    "    Декоратор, который выводит параметры с которыми была вызвана функция\n",
    "    \"\"\"\n",
    "\n",
    "    def wrapper(*args, **kwargs):\n",
    "        print(f\"Функция вызвана с параметрами:\")\n",
    "        print(f\"{args},{kwargs}\")\n",
    "        return func(*args, **kwargs)\n",
    "\n",
    "    return wrapper"
   ],
   "metadata": {
    "id": "wugOZDLqhNe-",
    "ExecuteTime": {
     "end_time": "2024-04-08T17:50:13.023407Z",
     "start_time": "2024-04-08T17:50:13.017952Z"
    }
   },
   "execution_count": 56,
   "outputs": []
  },
  {
   "cell_type": "markdown",
   "source": [
    "## Задание 3"
   ],
   "metadata": {
    "id": "Sq1tv5fshTfv"
   }
  },
  {
   "cell_type": "code",
   "source": [
    "def counter(func):\n",
    "    \"\"\"\n",
    "    Декоратор, считающий и выводящий количество вызовов декорируемой функции\n",
    "    \"\"\"\n",
    "\n",
    "    def wrapper(*args, **kwargs):\n",
    "        wrapper.count += 1  # Увеличиваем счетчик при каждом вызове функции\n",
    "        print(f\"Функция была вызвана {wrapper.count} раз\")\n",
    "        return func(*args, **kwargs)\n",
    "\n",
    "    wrapper.count = 0  # Инициализируем счетчик\n",
    "    return wrapper"
   ],
   "metadata": {
    "id": "9nyvuxXkhVeb",
    "ExecuteTime": {
     "end_time": "2024-04-08T17:45:04.189206Z",
     "start_time": "2024-04-08T17:45:04.173047Z"
    }
   },
   "execution_count": 51,
   "outputs": []
  },
  {
   "cell_type": "markdown",
   "source": [
    "## Задание 4"
   ],
   "metadata": {
    "id": "uHn8Adfshz5q"
   }
  },
  {
   "cell_type": "code",
   "source": [
    "def memo(func):\n",
    "    \"\"\"\n",
    "    Декоратор, запоминающий результаты исполнения функции func, чьи аргументы args должны быть хешируемыми\n",
    "    \"\"\"\n",
    "    cache = {}\n",
    "\n",
    "    def fmemo(*args):\n",
    "        if args in cache:  # Проверяем, есть ли результат для данных аргументов в кэше\n",
    "            return cache[args]\n",
    "        else:\n",
    "            result = func(*args)\n",
    "            cache[args] = result  # Сохраняем результат в кэше\n",
    "            return result\n",
    "\n",
    "    return fmemo"
   ],
   "metadata": {
    "id": "R7uu6WtGifNX",
    "ExecuteTime": {
     "end_time": "2024-04-08T17:45:06.192367Z",
     "start_time": "2024-04-08T17:45:06.186368Z"
    }
   },
   "execution_count": 52,
   "outputs": []
  },
  {
   "cell_type": "markdown",
   "source": [
    "## Тестирование"
   ],
   "metadata": {
    "id": "Zn5UQCa_izxo"
   }
  },
  {
   "cell_type": "code",
   "source": [
    "@counter\n",
    "@logging\n",
    "@benchmark\n",
    "def word_count(word, url=BOOK_PATH):\n",
    "    \"\"\"\n",
    "    Функция для посчета указанного слова на html-странице\n",
    "    \"\"\"\n",
    "\n",
    "    # отправляем запрос в библиотеку Gutenberg и забираем текст\n",
    "    raw = requests.get(url).text\n",
    "\n",
    "    # заменяем в тексте все небуквенные символы на пробелы\n",
    "    processed_book = re.sub('[\\W]+', ' ', raw).lower()\n",
    "\n",
    "    # считаем\n",
    "    cnt = len(re.findall(word.lower(), processed_book))\n",
    "\n",
    "    return f\"Cлово {word} встречается {cnt} раз\"\n",
    "\n",
    "\n",
    "print(word_count('whole'))"
   ],
   "metadata": {
    "id": "CHCJ64I8i2QB",
    "ExecuteTime": {
     "end_time": "2024-04-08T17:52:46.420356Z",
     "start_time": "2024-04-08T17:52:42.971098Z"
    }
   },
   "execution_count": 58,
   "outputs": [
    {
     "name": "stderr",
     "output_type": "stream",
     "text": [
      "<>:13: SyntaxWarning: invalid escape sequence '\\W'\n",
      "<>:13: SyntaxWarning: invalid escape sequence '\\W'\n",
      "C:\\Users\\User\\AppData\\Local\\Temp\\ipykernel_6824\\1109966206.py:13: SyntaxWarning: invalid escape sequence '\\W'\n",
      "  processed_book = re.sub('[\\W]+', ' ', raw).lower()\n"
     ]
    },
    {
     "name": "stdout",
     "output_type": "stream",
     "text": [
      "Функция была вызвана 1 раз\n",
      "Функция вызвана с параметрами:\n",
      "('whole',),{}\n",
      "Время выполнения функции word_count: 3.433638572692871\n",
      "Cлово whole встречается 176 раз\n"
     ]
    }
   ]
  },
  {
   "cell_type": "code",
   "source": [
    "def fib(n):\n",
    "    if n < 2:\n",
    "        return n\n",
    "    return fib(n - 2) + fib(n - 1)"
   ],
   "metadata": {
    "id": "ZE4Rfn-hh3k3",
    "ExecuteTime": {
     "end_time": "2024-04-08T17:57:01.912804Z",
     "start_time": "2024-04-08T17:57:01.908522Z"
    }
   },
   "execution_count": 67,
   "outputs": []
  },
  {
   "cell_type": "code",
   "source": [
    "%%time\n",
    "# измеряем время выполнения\n",
    "fib(20)"
   ],
   "metadata": {
    "id": "Io94NyjiiXG4",
    "ExecuteTime": {
     "end_time": "2024-04-08T17:57:07.051574Z",
     "start_time": "2024-04-08T17:57:07.042617Z"
    }
   },
   "execution_count": 68,
   "outputs": [
    {
     "name": "stdout",
     "output_type": "stream",
     "text": [
      "CPU times: total: 0 ns\n",
      "Wall time: 2.01 ms\n"
     ]
    },
    {
     "data": {
      "text/plain": "6765"
     },
     "execution_count": 68,
     "metadata": {},
     "output_type": "execute_result"
    }
   ]
  },
  {
   "cell_type": "code",
   "source": [
    "@memo\n",
    "def fib(n):\n",
    "    if n < 2:\n",
    "        return n\n",
    "    return fib(n - 2) + fib(n - 1)"
   ],
   "metadata": {
    "id": "W9B3e-t9iTUj"
   },
   "execution_count": null,
   "outputs": []
  },
  {
   "cell_type": "code",
   "source": [
    "%%time\n",
    "# измеряем время выполнения\n",
    "fib(20)"
   ],
   "metadata": {
    "id": "Sk6_4KQaidkh",
    "ExecuteTime": {
     "end_time": "2024-04-08T17:56:41.980082Z",
     "start_time": "2024-04-08T17:56:41.974165Z"
    }
   },
   "execution_count": 66,
   "outputs": [
    {
     "name": "stdout",
     "output_type": "stream",
     "text": [
      "CPU times: total: 0 ns\n",
      "Wall time: 0 ns\n"
     ]
    },
    {
     "data": {
      "text/plain": "6765"
     },
     "execution_count": 66,
     "metadata": {},
     "output_type": "execute_result"
    }
   ]
  },
  {
   "cell_type": "code",
   "outputs": [],
   "source": [],
   "metadata": {
    "collapsed": false
   }
  }
 ]
}
